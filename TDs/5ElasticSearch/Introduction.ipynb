{
 "cells": [
  {
   "cell_type": "markdown",
   "metadata": {},
   "source": [
    "# Introduction "
   ]
  },
  {
   "cell_type": "markdown",
   "metadata": {},
   "source": [
    "Elasticsearch est un moteur de recherche temps réel et Open Source. \n",
    "Il possède de nombreux avantages : \n",
    "- il met en place une API RESTful.\n",
    "- il est distribué, ce qui lui permet d'être tolérant aux pannes.\n",
    "- il est basé sur le moteur d'indexation d'Apache Lucène.\n",
    "- utilise le format JSON pour le stockage\n",
    "- permet de faire de la recherche en texte libre. \n",
    "\n",
    "Il est utilisé dans de nombreuses entreprises pour faire de la recherche textuelle dans des documents ou alors traiter des tera de logs. \n",
    "\n",
    "Dans ce cours nous allons aborder deux technologies, ElasticSearch et Kibana. "
   ]
  },
  {
   "cell_type": "markdown",
   "metadata": {},
   "source": [
    "## Concepts"
   ]
  },
  {
   "cell_type": "markdown",
   "metadata": {},
   "source": [
    "- `Near Realtime (NRT)` : La plupart des anciens moteurs de recherche devaient processer et indexer les documents pour qu'ils puissent être recherchés. ElasticSearch permet de rechercher les nouveaux documents presque instantanément.  \n",
    "\n",
    "\n",
    "- `Document` : Le document est l'unité de base  qui peut être indexé dans ElasticSearch. Un document est représenté au format JSON. On peut stocker autant de document que l'on souhaite dans un index. Un document est un ensemble de données clés-valeurs.   \n",
    "\n",
    "\n",
    "- `Index` : Un index est une collection de documents qui ont des caractéristiques similaires. Un index est identifié par un nom. On peut créer autant d'index que l'on veut.   \n",
    "\n",
    "\n",
    "- `Node` : Un Node (ou noeud en francais) est un serveur qui fait parti d'un cluster de plusieurs noeuds. Un noeud stocke les données et est optimisé pour retrouver les données.   \n",
    "\n",
    "\n",
    "- `Cluster` : Un cluster est un ensemble de noeud qui communiquent entre eux.  Un cluster peut contenir autant de noeuds que l'on veut.   \n",
    "\n",
    "\n",
    "- `Shards` :  Un index peut être tellement gros que la donnée des documents est plus importante que la capacité de stockage d'un node et donc d'un serveur. Pour pallier ce problème ElasticSearch met en place une méthode pour découper la données des index en des nombreuses petites parties qui sont appelés des shards. Chaque shard est stocké sur un noeud différents. \n",
    "\n",
    "    Cette technique est intéressante car elle permet de scaler horizontalement notre cluster (ie: augmenter le nombre de machines et donc de noeuds)  \n",
    "    \n",
    "\n",
    "- `Replicas` : Comme chaque noeud ne contient pas l'intégralité des données, on pourrait penser que si un noeud tombe en panne, une partie des données serait perdue. ElasticSearch met en place une technique de réplication qui permet de stocker ces différents shards sur plusieurs noeuds. C'est la **réplication**.  \n",
    "    \n",
    "    Cette technique est particulièrement intéressante puisqu'elle permet de palier la panne de shards ou de noeuds."
   ]
  },
  {
   "cell_type": "markdown",
   "metadata": {},
   "source": [
    "## Lancer un container ElasticSearch et Kibana\n",
    "\n",
    "Ici, nous avons besoin de deux containers docker qui vont devoir communiquer entre eux. Un container pour ElasticSearch et un pour Kibana qui est l'interface graphique. Vous avez pu voir en début d'unité que lorsque vous avez besoin d'orchestrer le démarrage de plusieurs dockers pour constituer une application, il est préférable d'utiliser docker-compose. C'est ce que nous allons donc faire.\n",
    "\n",
    "Un fichier docker compose est présent dans cette section. À vous de le lancer et de bien vérifier que les containers tournent correctement !\n",
    "\n",
    "Pour référence, voici la documentation de l'image ElasticSearch : https://hub.docker.com/_/elasticsearch\n",
    "\n",
    "Et celle de Kibana : https://hub.docker.com/_/kibana\n"
   ]
  },
  {
   "cell_type": "markdown",
   "metadata": {},
   "source": [
    "# Let's Play "
   ]
  },
  {
   "cell_type": "code",
   "execution_count": 89,
   "metadata": {
    "ExecuteTime": {
     "end_time": "2024-10-08T15:28:40.353908Z",
     "start_time": "2024-10-08T15:28:40.350910Z"
    }
   },
   "outputs": [],
   "source": [
    "from elasticsearch import Elasticsearch\n",
    "\n",
    "es_client = Elasticsearch(\"http://localhost:9200\")"
   ]
  },
  {
   "cell_type": "code",
   "execution_count": null,
   "metadata": {
    "ExecuteTime": {
     "end_time": "2024-10-08T15:28:43.250118Z",
     "start_time": "2024-10-08T15:28:43.241366Z"
    }
   },
   "outputs": [],
   "source": [
    "es_client.ping()"
   ]
  },
  {
   "cell_type": "markdown",
   "metadata": {},
   "source": [
    "Pour indexer des documents, il suffit d'appeler la méthode `index` du client."
   ]
  },
  {
   "cell_type": "code",
   "execution_count": 91,
   "metadata": {
    "ExecuteTime": {
     "end_time": "2024-10-08T15:31:12.332559Z",
     "start_time": "2024-10-08T15:31:12.330364Z"
    }
   },
   "outputs": [],
   "source": [
    "document = {\n",
    "    \"name\":\"Decision Trees\", \n",
    "    \"description\":\"A decision tree is a decision support tool that uses a tree-like graph or model of decisions and their possible consequences, including chance-event outcomes, resource costs, and utility. Take a look at the image to get a sense of how it looks like.\",\n",
    "    \"algo_type\":\"Supervised Learning\"\n",
    "}"
   ]
  },
  {
   "cell_type": "code",
   "execution_count": null,
   "metadata": {
    "ExecuteTime": {
     "end_time": "2024-10-08T15:32:13.895817Z",
     "start_time": "2024-10-08T15:32:13.716521Z"
    }
   },
   "outputs": [],
   "source": [
    "res = es_client.index(index=\"algorithms\", id=1, body=document)\n",
    "print(res['result'])"
   ]
  },
  {
   "cell_type": "markdown",
   "metadata": {},
   "source": [
    "Le document à été créé avec succès, on peut maintenant le récupérer via son index. "
   ]
  },
  {
   "cell_type": "code",
   "execution_count": 94,
   "metadata": {
    "ExecuteTime": {
     "end_time": "2024-10-08T15:32:17.957781Z",
     "start_time": "2024-10-08T15:32:17.955702Z"
    }
   },
   "outputs": [],
   "source": [
    "import pprint"
   ]
  },
  {
   "cell_type": "code",
   "execution_count": null,
   "metadata": {
    "ExecuteTime": {
     "end_time": "2024-10-08T15:32:27.377001Z",
     "start_time": "2024-10-08T15:32:27.358368Z"
    }
   },
   "outputs": [],
   "source": [
    "res = es_client.get(index=\"algorithms\", id=1)\n",
    "pprint.pprint(res[\"_source\"])"
   ]
  },
  {
   "cell_type": "code",
   "execution_count": 96,
   "metadata": {
    "ExecuteTime": {
     "end_time": "2024-10-08T15:32:32.885111Z",
     "start_time": "2024-10-08T15:32:32.883043Z"
    }
   },
   "outputs": [],
   "source": [
    "documents = [\n",
    "    {\n",
    "    \"name\":\"Naive Bayes Classification\", \n",
    "    \"description\":\"Naive Bayes classifiers are a family of simple probabilistic classifiers based on applying Bayes’ theorem with strong (naive) independence assumptions between the features. The featured image is the equation — with P(A|B) is posterior probability, P(B|A) is likelihood, P(A) is class prior probability, and P(B) is predictor prior probability.\",\n",
    "    \"algo_type\":\"Supervised Learning\"\n",
    "    },    {\n",
    "    \"name\":\"Logistic Regression\", \n",
    "    \"description\":\"Logistic regression is a powerful statistical way of modeling a binomial outcome with one or more explanatory variables. It measures the relationship between the categorical dependent variable and one or more independent variables by estimating probabilities using a logistic function, which is the cumulative logistic distribution.\",\n",
    "    \"algo_type\":\"Supervised Learning\"\n",
    "},    {\n",
    "    \"name\":\"Principal Component Analysis\", \n",
    "    \"description\":\"PCA is a statistical procedure that uses an orthogonal transformation to convert a set of observations of possibly correlated variables into a set of values of linearly uncorrelated variables called principal components.\",\n",
    "    \"algo_type\":\"Unsupervised Learning\"\n",
    "},    {\n",
    "    \"name\":\"Singular Value Decomposition\", \n",
    "    \"description\":\"In linear algebra, SVD is a factorization of a real complex matrix. For a given m * n matrix M, there exists a decomposition such that M = UΣV, where U and V are unitary matrices and Σ is a diagonal matrix.\",\n",
    "    \"algo_type\":\"Unsupervised Learning\"\n",
    "}\n",
    "]"
   ]
  },
  {
   "cell_type": "markdown",
   "metadata": {},
   "source": [
    "Si on ne précise pas l'ID lors de l'indexation, ElasticSearch se charge d'en trouver un automatiquement"
   ]
  },
  {
   "cell_type": "code",
   "execution_count": null,
   "metadata": {
    "ExecuteTime": {
     "end_time": "2024-10-08T15:33:27.756299Z",
     "start_time": "2024-10-08T15:33:27.722844Z"
    }
   },
   "outputs": [],
   "source": [
    "for doc in documents:\n",
    "    res = es_client.index(index=\"algorithms\", id=None, body=doc)\n",
    "    print(res[\"result\"])"
   ]
  },
  {
   "cell_type": "markdown",
   "metadata": {},
   "source": [
    "On récupère maintenant tous les éléments de l'index"
   ]
  },
  {
   "cell_type": "code",
   "execution_count": null,
   "metadata": {
    "ExecuteTime": {
     "end_time": "2024-10-08T15:33:32.525577Z",
     "start_time": "2024-10-08T15:33:32.469343Z"
    }
   },
   "outputs": [],
   "source": [
    "result = es_client.search(index=\"algorithms\", body={\"query\": {\"match_all\": {}}})\n",
    "result"
   ]
  },
  {
   "cell_type": "markdown",
   "metadata": {},
   "source": [
    "La réponse nous donne des informations sur le temps d'exécution de la requête le nombre de documents correspondant à la requête et l'ensemble des documents. "
   ]
  },
  {
   "cell_type": "code",
   "execution_count": null,
   "metadata": {
    "ExecuteTime": {
     "end_time": "2024-10-08T15:33:52.945475Z",
     "start_time": "2024-10-08T15:33:52.943019Z"
    }
   },
   "outputs": [],
   "source": [
    "N_DOCS = result['hits']['total']['value']\n",
    "f\"{N_DOCS} document{'s' if N_DOCS> 1 else '' } correspondent à la requêtes qui a pris {result['took']} ms\""
   ]
  },
  {
   "cell_type": "markdown",
   "metadata": {},
   "source": [
    "Affichons maintenant tous les documents : "
   ]
  },
  {
   "cell_type": "code",
   "execution_count": null,
   "metadata": {
    "ExecuteTime": {
     "end_time": "2024-10-08T15:33:59.906364Z",
     "start_time": "2024-10-08T15:33:59.904130Z"
    }
   },
   "outputs": [],
   "source": [
    "ids = []\n",
    "for hit in result['hits']['hits']:\n",
    "    print(\"Name : {name}\\n description : {description} \\n Type : {algo_type}\\n\".format(**hit['_source']))\n",
    "    print(\"******************\")\n",
    "    ids.append(hit[\"_id\"])"
   ]
  },
  {
   "cell_type": "markdown",
   "metadata": {},
   "source": [
    "Pour supprimer un document il suffit d'appeler la méthode `delete`."
   ]
  },
  {
   "cell_type": "code",
   "execution_count": null,
   "metadata": {
    "ExecuteTime": {
     "end_time": "2024-10-08T15:34:14.342485Z",
     "start_time": "2024-10-08T15:34:14.325001Z"
    }
   },
   "outputs": [],
   "source": [
    "es_client.delete(index=\"algorithms\", id=ids[0])"
   ]
  },
  {
   "cell_type": "markdown",
   "metadata": {},
   "source": [
    "Faisons des choses un peu plus intéressantes maintenant.   \n",
    "\n",
    "Dans le répertoire `data/` il y a les données de 5000 films de la base de TMDb. "
   ]
  },
  {
   "cell_type": "markdown",
   "metadata": {},
   "source": [
    "## Nettoyage"
   ]
  },
  {
   "cell_type": "markdown",
   "metadata": {},
   "source": [
    "Avant de commencer, il faut nettoyer un peu les données du fichier csv."
   ]
  },
  {
   "cell_type": "code",
   "execution_count": 120,
   "metadata": {
    "ExecuteTime": {
     "end_time": "2024-10-08T17:40:38.047075Z",
     "start_time": "2024-10-08T17:40:37.986472Z"
    }
   },
   "outputs": [],
   "source": [
    "import pandas as pd\n",
    "import json\n",
    "df_movies = pd.read_csv(\"./data/tmdb_5000_movies.csv\")"
   ]
  },
  {
   "cell_type": "code",
   "execution_count": 121,
   "metadata": {
    "ExecuteTime": {
     "end_time": "2024-10-08T17:40:38.393102Z",
     "start_time": "2024-10-08T17:40:38.391407Z"
    }
   },
   "outputs": [],
   "source": [
    "def clean_words(l):\n",
    "    return [elt[\"name\"] for elt in json.loads(l)]"
   ]
  },
  {
   "cell_type": "markdown",
   "metadata": {},
   "source": [
    "On nettoie alors la donnée des colonnes."
   ]
  },
  {
   "cell_type": "code",
   "execution_count": 122,
   "metadata": {
    "ExecuteTime": {
     "end_time": "2024-10-08T17:40:40.117198Z",
     "start_time": "2024-10-08T17:40:40.090291Z"
    }
   },
   "outputs": [],
   "source": [
    "for col in [\"genres\", \"keywords\", \"production_countries\", \"spoken_languages\"]:\n",
    "    df_movies.loc[:,col] = df_movies.loc[:,col].apply(clean_words)"
   ]
  },
  {
   "cell_type": "markdown",
   "metadata": {},
   "source": [
    "Pour indexer les documents, il nous faut une liste de dictionnaires. Pour cela, on peut utiliser la méthode de pandas `to_dict` avec le paramètre `orient=records`."
   ]
  },
  {
   "cell_type": "code",
   "execution_count": 123,
   "metadata": {
    "ExecuteTime": {
     "end_time": "2024-10-08T17:40:41.134618Z",
     "start_time": "2024-10-08T17:40:41.107733Z"
    }
   },
   "outputs": [],
   "source": [
    "documents = df_movies.fillna(\"\").to_dict(orient=\"records\")"
   ]
  },
  {
   "cell_type": "code",
   "execution_count": null,
   "metadata": {
    "ExecuteTime": {
     "end_time": "2024-10-08T17:40:43.358325Z",
     "start_time": "2024-10-08T17:40:43.355587Z"
    }
   },
   "outputs": [],
   "source": [
    "documents[0:2]"
   ]
  },
  {
   "cell_type": "markdown",
   "metadata": {},
   "source": [
    "Pour éviter de faire plein de petits appels à ElasticSearch pour indexer les 5000 films on peut utiliser un helper `bulk` pour indexer tous les documents d'un seul coup et éviter les appels réseaux qui sont très couteux en temps. "
   ]
  },
  {
   "cell_type": "code",
   "execution_count": 125,
   "metadata": {
    "ExecuteTime": {
     "end_time": "2024-10-08T17:40:44.152622Z",
     "start_time": "2024-10-08T17:40:44.151034Z"
    }
   },
   "outputs": [],
   "source": [
    "from elasticsearch.helpers import bulk"
   ]
  },
  {
   "cell_type": "code",
   "execution_count": null,
   "metadata": {
    "ExecuteTime": {
     "end_time": "2024-10-08T17:40:47.283303Z",
     "start_time": "2024-10-08T17:40:46.719170Z"
    }
   },
   "outputs": [],
   "source": [
    "def generate_data(documents):\n",
    "    for docu in documents:\n",
    "        yield {\n",
    "            \"_index\": \"movies\",\n",
    "            \"_source\": {k:v if v else None for k,v in docu.items()},\n",
    "        }\n",
    "\n",
    "bulk(es_client, generate_data(documents))"
   ]
  },
  {
   "cell_type": "markdown",
   "metadata": {},
   "source": [
    "On peut utiliser l'interface http pour vérifier que les index sont bien à jours. L'index `movies` est présent, on peut aussi voir le nombre de documents et la taille en mémoire.  "
   ]
  },
  {
   "cell_type": "code",
   "execution_count": null,
   "metadata": {
    "ExecuteTime": {
     "end_time": "2024-10-08T17:40:49.362459Z",
     "start_time": "2024-10-08T17:40:49.206661Z"
    }
   },
   "outputs": [],
   "source": [
    "!curl \"http://localhost:9200/_cat/indices?v\""
   ]
  },
  {
   "cell_type": "markdown",
   "metadata": {},
   "source": [
    "On peut voir aussi quelques documents avec l'endpoint HTTP suivant"
   ]
  },
  {
   "cell_type": "code",
   "execution_count": null,
   "metadata": {
    "ExecuteTime": {
     "end_time": "2024-10-08T17:40:51.017003Z",
     "start_time": "2024-10-08T17:40:50.880186Z"
    }
   },
   "outputs": [],
   "source": [
    "!curl \"http://localhost:9200/movies/_search\""
   ]
  },
  {
   "cell_type": "markdown",
   "metadata": {},
   "source": [
    "# Kibana "
   ]
  },
  {
   "cell_type": "code",
   "execution_count": 129,
   "metadata": {
    "ExecuteTime": {
     "end_time": "2024-10-08T17:40:52.898410Z",
     "start_time": "2024-10-08T17:40:52.896622Z"
    }
   },
   "outputs": [],
   "source": [
    "from IPython.display import Image"
   ]
  },
  {
   "cell_type": "markdown",
   "metadata": {},
   "source": [
    "C'est le moment de commencer à utiliser Kibana. Kibana est un soft de la suite ELK (ElasticSearch, Kibana, Logstash) qui permet de gérer de façon graphique les données dans les index ElasticSearch."
   ]
  },
  {
   "cell_type": "markdown",
   "metadata": {},
   "source": [
    "## Index Pattern"
   ]
  },
  {
   "cell_type": "markdown",
   "metadata": {},
   "source": [
    "Dans l'onglet `Management` > `Index Management`, vous pourrez trouver des informations concernant vos index. Ici on peut donc voir l'index `movies`\n",
    "\n",
    "Si vous cliquez sur l'index, dans l'onglet `Mappings`vous pourrez voir tous les champs de l'index ainsi que leur type"
   ]
  },
  {
   "cell_type": "code",
   "execution_count": null,
   "metadata": {
    "ExecuteTime": {
     "end_time": "2024-10-08T17:44:16.075355Z",
     "start_time": "2024-10-08T17:44:16.071837Z"
    }
   },
   "outputs": [],
   "source": [
    "Image(\"./img/index_pattern.png\")"
   ]
  },
  {
   "cell_type": "markdown",
   "metadata": {},
   "source": [
    "Retournez sur la page d'accueil pour accéder à l'onglet `Discover`accessible depuis `Analytics`\n",
    "\n",
    "L'interface vous propose alors de créer une `data view`. Donnez un nom à votre data view ainsi qu'un `index pattern` égale à `movies*`. L'index pattern permet de définir quelles données on veut dans notre view, toutes les données respectant dont l'index respecte ce pattern vous faire partir de notre view. La data view va nous permettre de requêter et visualiser nos données."
   ]
  },
  {
   "cell_type": "code",
   "execution_count": null,
   "metadata": {
    "ExecuteTime": {
     "end_time": "2024-10-08T17:52:34.254598Z",
     "start_time": "2024-10-08T17:52:34.251459Z"
    }
   },
   "outputs": [],
   "source": [
    "Image(\"./img/data_view.png\")"
   ]
  },
  {
   "cell_type": "markdown",
   "metadata": {},
   "source": [
    "Vous avez donc ensuite une interface avec un apperçu des documents que vous venez d'indexer. Vous pouvez aussi, appliquer des filtres pour faire des requêtes simples sur vos données. Ici, on appliquera un filtre sur le genre `Comedy`."
   ]
  },
  {
   "cell_type": "code",
   "execution_count": null,
   "metadata": {
    "ExecuteTime": {
     "end_time": "2024-10-08T17:54:54.743609Z",
     "start_time": "2024-10-08T17:54:54.736070Z"
    }
   },
   "outputs": [],
   "source": [
    "Image(\"./img/discover.png\")"
   ]
  },
  {
   "cell_type": "markdown",
   "metadata": {},
   "source": [
    "Vous pouvez aller ensuite cliquer sur un champ à gauche et appuyer sur `visualize` pour commencer à jouer avec les graphiques. Par exemple, on peut créer un histogram des budgets des différents films. "
   ]
  },
  {
   "cell_type": "code",
   "execution_count": null,
   "metadata": {
    "ExecuteTime": {
     "end_time": "2024-10-08T18:02:01.312658Z",
     "start_time": "2024-10-08T18:02:01.308326Z"
    }
   },
   "outputs": [],
   "source": [
    "Image(\"./img/budget.png\")"
   ]
  },
  {
   "cell_type": "markdown",
   "metadata": {},
   "source": [
    "Ou encore des genres des différents films"
   ]
  },
  {
   "cell_type": "code",
   "execution_count": null,
   "metadata": {
    "ExecuteTime": {
     "end_time": "2024-10-08T18:03:38.437771Z",
     "start_time": "2024-10-08T18:03:38.432701Z"
    }
   },
   "outputs": [],
   "source": [
    "Image(\"./img/gender.png\")"
   ]
  },
  {
   "cell_type": "markdown",
   "metadata": {},
   "source": []
  },
  {
   "cell_type": "markdown",
   "metadata": {},
   "source": [
    "Retournons maintenant un peu dans notre code pour commencer à utiliser ses données. Il va maintenant falloir se plonger dans les requêtes ElasticSearch. Ce n'est pas la chose la plus aisée, elles deviennent vite illisibles et complexes. "
   ]
  },
  {
   "cell_type": "code",
   "execution_count": 136,
   "metadata": {
    "ExecuteTime": {
     "end_time": "2024-10-08T18:04:12.121666Z",
     "start_time": "2024-10-08T18:04:12.120080Z"
    }
   },
   "outputs": [],
   "source": [
    "QUERY = {\n",
    "    \"query\": {\n",
    "        \"match_all\": {}\n",
    "    }\n",
    "}"
   ]
  },
  {
   "cell_type": "markdown",
   "metadata": {},
   "source": [
    "Cette requête simple permet de récupérer l'intégralité des documents d'un index."
   ]
  },
  {
   "cell_type": "code",
   "execution_count": 137,
   "metadata": {
    "ExecuteTime": {
     "end_time": "2024-10-08T18:04:16.856381Z",
     "start_time": "2024-10-08T18:04:16.854608Z"
    }
   },
   "outputs": [],
   "source": [
    "QUERY = {\n",
    "  \"query\": {\n",
    "    \"term\" : { \n",
    "        \"title\" : \"superman\"} \n",
    "  }\n",
    "}"
   ]
  },
  {
   "cell_type": "markdown",
   "metadata": {},
   "source": [
    "Cette seconde requête permet de récupérer tous les documents dont le titre contient `SuperMan`."
   ]
  },
  {
   "cell_type": "code",
   "execution_count": null,
   "metadata": {
    "ExecuteTime": {
     "end_time": "2024-10-08T18:04:23.481005Z",
     "start_time": "2024-10-08T18:04:23.473421Z"
    }
   },
   "outputs": [],
   "source": [
    "result = es_client.search(index=\"movies\", body=QUERY)\n",
    "[elt['_source']['title'] for elt in result[\"hits\"][\"hits\"]]"
   ]
  },
  {
   "cell_type": "markdown",
   "metadata": {},
   "source": [
    "On veut maintenant chercher tous les films contenants `SuperMan` mais qui ne contiennent pas `Batman`. Pour cela, on est forcé d'utiliser une requête composée appelée `bool query`  elle permet de transformer chaque requête en un filtre booléen. "
   ]
  },
  {
   "cell_type": "code",
   "execution_count": 139,
   "metadata": {
    "ExecuteTime": {
     "end_time": "2024-10-08T18:04:48.284007Z",
     "start_time": "2024-10-08T18:04:48.282159Z"
    }
   },
   "outputs": [],
   "source": [
    "QUERY = {\n",
    "  \"query\": {\n",
    "    \"bool\" : {\n",
    "      \"must\" : {\n",
    "        \"term\" : { \"title\" : \"superman\" }\n",
    "      },\n",
    "      \"must_not\" : {\n",
    "                  \"term\" : { \"title\" : \"batman\" }\n",
    "      }\n",
    "  }\n",
    "}\n",
    "}"
   ]
  },
  {
   "cell_type": "code",
   "execution_count": null,
   "metadata": {
    "ExecuteTime": {
     "end_time": "2024-10-08T18:04:52.203983Z",
     "start_time": "2024-10-08T18:04:52.196993Z"
    }
   },
   "outputs": [],
   "source": [
    "result = es_client.search(index=\"movies\", body=QUERY)\n",
    "[elt['_source']['title'] for elt in result[\"hits\"][\"hits\"]]"
   ]
  },
  {
   "cell_type": "markdown",
   "metadata": {},
   "source": [
    "On peut encore réduire les résultats en filtrant sur le budget du film. On veut en plus des films de SuperMan sans Batman récupérer les films qui ont eu un budget de plus de ou égal à 20M et moins de 55M."
   ]
  },
  {
   "cell_type": "code",
   "execution_count": 141,
   "metadata": {
    "ExecuteTime": {
     "end_time": "2024-10-08T18:05:19.319102Z",
     "start_time": "2024-10-08T18:05:19.317Z"
    }
   },
   "outputs": [],
   "source": [
    "QUERY = {\n",
    "  \"query\": {\n",
    "    \"bool\" : {\n",
    "      \"must\" : [\n",
    "          {\n",
    "        \"term\" : { \"title\" : \"superman\" }},\n",
    "        {\"range\" : {\n",
    "          \"budget\" : { \"gte\" : 20000000, \"lt\" : 55000000 }\n",
    "        }}\n",
    "      ],\n",
    "      \"must_not\" : {\n",
    "                  \"term\" : { \"title\" : \"batman\" }\n",
    "      }\n",
    "  }\n",
    "}\n",
    "}"
   ]
  },
  {
   "cell_type": "code",
   "execution_count": null,
   "metadata": {
    "ExecuteTime": {
     "end_time": "2024-10-08T18:05:23.089614Z",
     "start_time": "2024-10-08T18:05:23.079043Z"
    }
   },
   "outputs": [],
   "source": [
    "result = es_client.search(index=\"movies\", body=QUERY)\n",
    "{elt['_source']['title']:elt['_source']['budget']  for elt in result[\"hits\"][\"hits\"]}"
   ]
  },
  {
   "cell_type": "markdown",
   "metadata": {},
   "source": [
    "Si on veut faire une recherche dans plusieurs champs de chaque document de l'index, on peut faire une requête de `multi_match`"
   ]
  },
  {
   "cell_type": "code",
   "execution_count": 143,
   "metadata": {
    "ExecuteTime": {
     "end_time": "2024-10-08T18:05:45.949849Z",
     "start_time": "2024-10-08T18:05:45.947996Z"
    }
   },
   "outputs": [],
   "source": [
    "QUERY = {\n",
    "  \"query\": {\n",
    "    \"multi_match\" : {\n",
    "      \"query\":    \"Smith\",\n",
    "      \"fields\": [ \"title\", \"overview\" ] \n",
    "    }\n",
    "  }\n",
    "}"
   ]
  },
  {
   "cell_type": "code",
   "execution_count": null,
   "metadata": {
    "ExecuteTime": {
     "end_time": "2024-10-08T18:05:46.627166Z",
     "start_time": "2024-10-08T18:05:46.615582Z"
    }
   },
   "outputs": [],
   "source": [
    "result = es_client.search(index=\"movies\", body=QUERY)\n",
    "[elt['_source']['title']  for elt in result[\"hits\"][\"hits\"]]"
   ]
  },
  {
   "cell_type": "markdown",
   "metadata": {},
   "source": [
    "On peut vouloir trier les résultats selon la popularité par exemple."
   ]
  },
  {
   "cell_type": "code",
   "execution_count": 145,
   "metadata": {
    "ExecuteTime": {
     "end_time": "2024-10-08T18:05:50.881364Z",
     "start_time": "2024-10-08T18:05:50.879548Z"
    }
   },
   "outputs": [],
   "source": [
    "QUERY = {\n",
    "  \"query\": {\n",
    "    \"multi_match\" : {\n",
    "      \"query\":    \"Smith\",\n",
    "      \"fields\": [ \"title\", \"overview\" ] \n",
    "    }\n",
    "  },\n",
    "    \"sort\" : [\n",
    "        { \"popularity\" : {\"order\" : \"desc\"}}\n",
    "    ]\n",
    "}"
   ]
  },
  {
   "cell_type": "code",
   "execution_count": null,
   "metadata": {
    "ExecuteTime": {
     "end_time": "2024-10-08T18:05:52.177906Z",
     "start_time": "2024-10-08T18:05:52.168431Z"
    }
   },
   "outputs": [],
   "source": [
    "result = es_client.search(index=\"movies\", body=QUERY)\n",
    "{elt['_source']['title']:elt['_source']['popularity']  for elt in result[\"hits\"][\"hits\"]}"
   ]
  },
  {
   "cell_type": "markdown",
   "metadata": {},
   "source": [
    "ElasticSearch gère aussi bien les dates. On peut vouloir trier par date de sortie."
   ]
  },
  {
   "cell_type": "code",
   "execution_count": 147,
   "metadata": {
    "ExecuteTime": {
     "end_time": "2024-10-08T18:05:57.431716Z",
     "start_time": "2024-10-08T18:05:57.429637Z"
    }
   },
   "outputs": [],
   "source": [
    "QUERY = {\n",
    "  \"query\": {\n",
    "    \"multi_match\" : {\n",
    "      \"query\":    \"Smith\",\n",
    "      \"fields\": [ \"title\", \"overview\" ] \n",
    "    }\n",
    "  },\n",
    "    \"sort\" : [\n",
    "        { \"release_date\" : {\"order\" : \"desc\"}}\n",
    "    ]\n",
    "}"
   ]
  },
  {
   "cell_type": "code",
   "execution_count": null,
   "metadata": {
    "ExecuteTime": {
     "end_time": "2024-10-08T18:05:58.156133Z",
     "start_time": "2024-10-08T18:05:58.149357Z"
    }
   },
   "outputs": [],
   "source": [
    "result = es_client.search(index=\"movies\", body=QUERY)\n",
    "{elt['_source']['title']:elt['_source']['release_date']  for elt in result[\"hits\"][\"hits\"]}"
   ]
  },
  {
   "cell_type": "markdown",
   "metadata": {},
   "source": [
    "## Aggregations"
   ]
  },
  {
   "cell_type": "markdown",
   "metadata": {},
   "source": [
    "Les aggregations sont des requêtes complexes, mais qui permettent de faire des opérations très rapides sur les données. \n",
    "La syntaxe devient très vite complexe. Par exemple, pour récupérer le nombre de films par genre. "
   ]
  },
  {
   "cell_type": "code",
   "execution_count": 149,
   "metadata": {
    "ExecuteTime": {
     "end_time": "2024-10-08T18:06:10.877264Z",
     "start_time": "2024-10-08T18:06:10.875372Z"
    }
   },
   "outputs": [],
   "source": [
    "QUERY = {\n",
    "    \"aggs\": {\n",
    "    \"count_gender\": {\n",
    "      \"terms\": {\n",
    "        \"field\": \"genres.keyword\",\n",
    "        \"size\": 5,\n",
    "        \"order\": {\n",
    "          \"_count\": \"desc\"\n",
    "        }\n",
    "      }\n",
    "        }\n",
    "  }\n",
    "}"
   ]
  },
  {
   "cell_type": "code",
   "execution_count": null,
   "metadata": {
    "ExecuteTime": {
     "end_time": "2024-10-08T18:06:12.656748Z",
     "start_time": "2024-10-08T18:06:12.643396Z"
    }
   },
   "outputs": [],
   "source": [
    "result = es_client.search(index=\"movies\", body=QUERY)\n",
    "result[\"aggregations\"][\"count_gender\"][\"buckets\"]"
   ]
  },
  {
   "cell_type": "markdown",
   "metadata": {},
   "source": [
    "Le paramètre size permet de récupérer les N premières aggrégations.\n",
    "\n",
    "Ensuite si on veut aller plus loin on peut vouloir récupérer la moyenne des budgets par genre. Il faut intégrer un nouveau niveau d'aggregation. Pour cela on utilise la syntaxe suivante. "
   ]
  },
  {
   "cell_type": "code",
   "execution_count": 151,
   "metadata": {
    "ExecuteTime": {
     "end_time": "2024-10-08T18:06:27.290766Z",
     "start_time": "2024-10-08T18:06:27.288462Z"
    }
   },
   "outputs": [],
   "source": [
    "QUERY = {\n",
    "    \"aggs\": {\n",
    "        \"count_gender\": {\n",
    "            \"terms\": {\n",
    "                \"field\": \"genres.keyword\",\n",
    "                \"size\": 3,\n",
    "                \"order\": {\n",
    "                    \"average_budget\": \"desc\"\n",
    "                }\n",
    "            },\n",
    "            \"aggs\": {\n",
    "                \"average_budget\":{\n",
    "                    \"avg\" : {\n",
    "                        \"field\" : \"budget\"\n",
    "                    }\n",
    "                }\n",
    "            }\n",
    "        }\n",
    "    }\n",
    "}"
   ]
  },
  {
   "cell_type": "code",
   "execution_count": null,
   "metadata": {
    "ExecuteTime": {
     "end_time": "2024-10-08T18:06:31.140068Z",
     "start_time": "2024-10-08T18:06:31.127151Z"
    }
   },
   "outputs": [],
   "source": [
    "result = es_client.search(index=\"movies\", body=QUERY)\n",
    "result[\"aggregations\"][\"count_gender\"][\"buckets\"]"
   ]
  },
  {
   "cell_type": "markdown",
   "metadata": {},
   "source": [
    "Grâce à sa rapidité dans la recherche de données textuelle, Elastic Search est un bon outil pour créer des moteurs de recherche assez simple. Bien qu'aujourd'hui il existe plein d'outil pour créer de moteur de recherche, Elastic Search reste un bon choix."
   ]
  },
  {
   "cell_type": "markdown",
   "metadata": {},
   "source": [
    "# Exercice "
   ]
  },
  {
   "cell_type": "code",
   "execution_count": 153,
   "metadata": {
    "ExecuteTime": {
     "end_time": "2024-10-08T18:08:51.442404Z",
     "start_time": "2024-10-08T18:08:51.440394Z"
    }
   },
   "outputs": [],
   "source": [
    "import pandas as pd"
   ]
  },
  {
   "cell_type": "code",
   "execution_count": 154,
   "metadata": {
    "ExecuteTime": {
     "end_time": "2024-10-08T18:08:52.186582Z",
     "start_time": "2024-10-08T18:08:51.952671Z"
    }
   },
   "outputs": [],
   "source": [
    "df_credits = pd.read_csv(\"data/tmdb_5000_credits.csv\")"
   ]
  },
  {
   "cell_type": "code",
   "execution_count": null,
   "metadata": {
    "ExecuteTime": {
     "end_time": "2024-10-08T18:08:52.952599Z",
     "start_time": "2024-10-08T18:08:52.947823Z"
    }
   },
   "outputs": [],
   "source": [
    "df_credits.head()"
   ]
  },
  {
   "cell_type": "markdown",
   "metadata": {},
   "source": [
    "1) Nettoyer les données de la DataFrame d'acteurs comme précédement.   \n",
    "2) Merger les deux DataFrame en utilisant l'identifiant du film.   \n",
    "3) Créer un nouvel Index `augmented_movies` similaire à l'index précédant, mais en ajoutant les données des acteurs.     \n",
    "4) Créer une fonction permettant de trouver tous les films d'un acteur.   \n",
    "5) Trouver quel acteur à jouer dans les films avec les plus gros budgets. \n",
    "6) Réaliser, sur Kibana, 3 graphiques de votre choix"
   ]
  },
  {
   "cell_type": "code",
   "execution_count": null,
   "metadata": {},
   "outputs": [],
   "source": []
  }
 ],
 "metadata": {
  "kernelspec": {
   "display_name": "Python 3",
   "language": "python",
   "name": "python3"
  },
  "language_info": {
   "codemirror_mode": {
    "name": "ipython",
    "version": 3
   },
   "file_extension": ".py",
   "mimetype": "text/x-python",
   "name": "python",
   "nbconvert_exporter": "python",
   "pygments_lexer": "ipython3",
   "version": "3.6.9"
  }
 },
 "nbformat": 4,
 "nbformat_minor": 2
}
