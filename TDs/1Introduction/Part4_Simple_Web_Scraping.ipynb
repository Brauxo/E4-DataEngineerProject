{
 "cells": [
  {
   "cell_type": "markdown",
   "metadata": {},
   "source": [
    "# Requête HTTP "
   ]
  },
  {
   "cell_type": "markdown",
   "metadata": {},
   "source": [
    "Un requête HTTP est une requête basée sur le protocole TCP, elle fait partie de la couche application de la couche OSI. Elle permet d'accéder aux données mise à disposition sur une adresse IP (ou url résolue par un DNS) et un port. \n",
    "\n",
    "Les deux ports les plus utilisés dans le web sont le 80 pour les sites en HTTP et le 443 pour les sites en HTTPS. HTTPS est une variable du protocole HTTP basé sur le protocole TLS.\n",
    "\n",
    "Il existe de nombreux types de requêtes selon la convention `REST`: \n",
    "- GET\n",
    "- POST\n",
    "- PUT \n",
    "- DELETE\n",
    "- UPDATE.\n",
    "\n",
    "Dans notre cas, nous allons utiliser la plupart du temps des GET et potentiellement des POST. \n",
    "- Le GET permet comme son nom l'indique de récupérer des informations en fonction de certains paramètres. \n",
    "- Le POST nécessite un envoi de données pour récupérer des données. Le body du post est, la plupart du temps, envoyé sous la forme d'un objet JSON.\n",
    "\n",
    "Ces requêtes encapsulent un certain nombre de paramètres qui permettent soient d'identifier une provenance et un utilisateur ou de réaliser différentes actions."
   ]
  },
  {
   "cell_type": "code",
   "execution_count": 49,
   "metadata": {
    "ExecuteTime": {
     "end_time": "2024-10-07T19:47:38.635370Z",
     "start_time": "2024-10-07T19:47:38.599631Z"
    }
   },
   "outputs": [],
   "source": [
    "import requests"
   ]
  },
  {
   "cell_type": "code",
   "execution_count": 50,
   "metadata": {
    "ExecuteTime": {
     "end_time": "2024-10-07T19:48:01.794276Z",
     "start_time": "2024-10-07T19:48:01.690378Z"
    }
   },
   "outputs": [
    {
     "data": {
      "text/plain": [
       "200"
      ]
     },
     "execution_count": 50,
     "metadata": {},
     "output_type": "execute_result"
    }
   ],
   "source": [
    "url = \"https://www.esiee.fr/\"\n",
    "response = requests.get(url)\n",
    "response.status_code"
   ]
  },
  {
   "cell_type": "markdown",
   "metadata": {},
   "source": [
    "Il existe deux méthodes pour récupérer le contenu de la page :\n",
    "\n",
    "- `response.text` qui permet de retourner le texte sous la forme d'une chaine de charactères.\n",
    "- `response.content` qui permet de récupérer le contenu de la page sous la forme de bytes"
   ]
  },
  {
   "cell_type": "code",
   "execution_count": 51,
   "metadata": {
    "ExecuteTime": {
     "end_time": "2024-10-07T19:48:06.901620Z",
     "start_time": "2024-10-07T19:48:06.898643Z"
    }
   },
   "outputs": [
    {
     "data": {
      "text/plain": [
       "bytes"
      ]
     },
     "execution_count": 51,
     "metadata": {},
     "output_type": "execute_result"
    }
   ],
   "source": [
    "type(response.content)"
   ]
  },
  {
   "cell_type": "code",
   "execution_count": 52,
   "metadata": {
    "ExecuteTime": {
     "end_time": "2024-10-07T19:48:13.168682Z",
     "start_time": "2024-10-07T19:48:13.166007Z"
    }
   },
   "outputs": [
    {
     "data": {
      "text/plain": [
       "str"
      ]
     },
     "execution_count": 52,
     "metadata": {},
     "output_type": "execute_result"
    }
   ],
   "source": [
    "type(response.text)"
   ]
  },
  {
   "cell_type": "markdown",
   "metadata": {},
   "source": [
    "Pour récupérer les 1000 premiers charactères de la page :"
   ]
  },
  {
   "cell_type": "code",
   "execution_count": 53,
   "metadata": {
    "ExecuteTime": {
     "end_time": "2024-10-07T19:48:15.251081Z",
     "start_time": "2024-10-07T19:48:15.248157Z"
    }
   },
   "outputs": [
    {
     "data": {
      "text/plain": [
       "'<!DOCTYPE html>\\n<html lang=\"fr-FR\">\\n<head>\\n\\n<meta charset=\"utf-8\">\\n<!-- \\n\\tThis website is powered by TYPO3 - inspiring people to share!\\n\\tTYPO3 is a free open source Content Management Framework initially created by Kasper Skaarhoj and licensed under GNU/GPL.\\n\\tTYPO3 is copyright 1998-2025 of Kasper Skaarhoj. Extensions are copyright of their respective owners.\\n\\tInformation and contribution at https://typo3.org/\\n-->\\n\\n\\n\\n<title>ESIEE Paris, l&#039;école de l&#039;innovation technologique | ESIEE Paris</title>\\n<meta name=\"generator\" content=\"TYPO3 CMS\" />\\n<meta name=\"description\" content=\"Rejoignez ESIEE Paris, grande école d&#039;ingénieur dans les domaines des transitions numérique, énergétique et environnementale. Classée dans le groupe A, parmi les meilleures écoles d&#039;ingénieur selon le classement de l&#039;Etudiant. Habilitée par la Commission des Titres d&#039;Ingénieur (CTI). Membre de la Conférence des Grandes Ecoles (CGE). \" />\\n<meta name=\"viewport\" content=\"width=device-width'"
      ]
     },
     "execution_count": 53,
     "metadata": {},
     "output_type": "execute_result"
    }
   ],
   "source": [
    "response.text[0:1000]"
   ]
  },
  {
   "cell_type": "markdown",
   "metadata": {},
   "source": [
    "Pour récupérer les headers HTTP de la réponse :"
   ]
  },
  {
   "cell_type": "code",
   "execution_count": 54,
   "metadata": {
    "ExecuteTime": {
     "end_time": "2024-10-07T19:48:23.287126Z",
     "start_time": "2024-10-07T19:48:23.284018Z"
    }
   },
   "outputs": [
    {
     "data": {
      "text/plain": [
       "{'Date': 'Mon, 20 Jan 2025 10:02:14 GMT', 'Server': 'Apache', 'Content-Language': 'fr', 'Vary': 'Accept-Encoding', 'Content-Encoding': 'gzip', 'X-UA-Compatible': 'IE=edge', 'X-Content-Type-Options': 'nosniff', 'Content-Length': '15842', 'Content-Type': 'text/html; charset=utf-8', 'X-Varnish': '45580942 45023610', 'Age': '49', 'Via': '1.1 varnish (Varnish/7.1)', 'Accept-Ranges': 'bytes', 'Connection': 'keep-alive'}"
      ]
     },
     "execution_count": 54,
     "metadata": {},
     "output_type": "execute_result"
    }
   ],
   "source": [
    "response.headers"
   ]
  },
  {
   "cell_type": "markdown",
   "metadata": {},
   "source": [
    "On peut modifier les paramètres de la requête et/ou ses headers. On peut par exemple ajouter un UserAgent (identifiant de l'initiateur de la requête) et un timeout de 10 secondes :"
   ]
  },
  {
   "cell_type": "code",
   "execution_count": 55,
   "metadata": {
    "ExecuteTime": {
     "end_time": "2024-10-07T19:48:38.532299Z",
     "start_time": "2024-10-07T19:48:38.452433Z"
    }
   },
   "outputs": [
    {
     "data": {
      "text/plain": [
       "b'<!DOCTYPE html>\\n<html lang=\"fr-FR\">\\n<head>\\n\\n<meta charset=\"utf-8\">\\n<!-- \\n\\tThis website is powered by TYPO3 - inspiring people to share!\\n\\tTYPO3 is a free open source Content Management Framework initially created by Kasper Skaarhoj and licensed under GNU/GPL.\\n\\tTYPO3 is copyright 1998-2025 of Kasper Skaarhoj. Extensions are copyright of their respective owners.\\n\\tInformation and contribution at https://typo3.org/\\n-->\\n\\n\\n\\n<title>ESIEE Paris, l&#039;\\xc3\\xa9cole de l&#039;innovation technologique | ESIEE Paris</title>\\n<meta name=\"generator\" content=\"TYPO3 CMS\" />\\n<meta name=\"description\" content=\"Rejoignez ESIEE Paris, grande \\xc3\\xa9cole d&#039;ing\\xc3\\xa9nieur dans les domaines des transitions num\\xc3\\xa9rique, \\xc3\\xa9nerg\\xc3\\xa9tique et environnementale. Class\\xc3\\xa9e dans le groupe A, parmi les meilleures \\xc3\\xa9coles d&#039;ing\\xc3\\xa9nieur selon le classement de l&#039;Etudiant. Habilit\\xc3\\xa9e par la Commission des Titres d&#039;Ing\\xc3\\xa9nieur (CTI). Membre de la Conf\\xc3\\xa9rence des Grandes Ecoles (CGE). \" />\\n<meta name=\"viewport\" content=\"width='"
      ]
     },
     "execution_count": 55,
     "metadata": {},
     "output_type": "execute_result"
    }
   ],
   "source": [
    "headers = {'User-Agent': 'Mozilla/5.0 (Macintosh; Intel Mac OS X 10_10_1) AppleWebKit/537.36 (KHTML, like Gecko) Chrome/39.0.2171.95 Safari/537.36'}\n",
    "response = requests.get(url, headers=headers, timeout = 10)\n",
    "response.content[0:1000]"
   ]
  },
  {
   "cell_type": "markdown",
   "metadata": {},
   "source": [
    "## Exercice"
   ]
  },
  {
   "cell_type": "markdown",
   "metadata": {},
   "source": [
    "## Exercice 1\n",
    "\n",
    "- Créer une classe Python permettant de faire des requêtes HTTP.\n",
    "- Cette classe doit utiliser toujours le même UserAgent.\n",
    "- Le TimeOut sera spécifié à chaque appelle avec une valeur par défaut.\n",
    "- Un mécanisme de retry sera mis en place de façon recursive.\n",
    "\n",
    "## Exercice 2\n",
    "\n",
    "- Faire une fonction permettant de supprimer tous les espaces supperflus d'une string\n",
    "- Faire une fonction qui prend une string html et renvois une string intelligible (enlever les caractères spéciaux,\n",
    "- Récupérer le domaine en fonction d'un url"
   ]
  },
  {
   "cell_type": "code",
   "execution_count": 56,
   "metadata": {},
   "outputs": [],
   "source": [
    "import requests\n",
    "from requests.exceptions import RequestException, Timeout, HTTPError\n",
    "import re\n",
    "from urllib.parse import urlparse\n",
    "import time\n",
    "\n",
    "\n",
    "class HttpRequester:\n",
    "    def __init__(self, user_agent: str):\n",
    "        self.user_agent = user_agent\n",
    "        self.headers = {'User-Agent': self.user_agent}\n",
    "\n",
    "    def make_request(self, url: str, timeout: int = 10, retries: int = 3):\n",
    "        attempt = 0\n",
    "        while attempt < retries:\n",
    "            try:\n",
    "                print(f\"Tentative {attempt + 1} pour récupérer {url}\")\n",
    "                response = requests.get(url, headers=self.headers, timeout=timeout)\n",
    "                response.raise_for_status()\n",
    "                return response.text\n",
    "            except (RequestException, Timeout, HTTPError) as e:\n",
    "                print(f\"Erreur sur l'url : {url}: {e}\")\n",
    "                attempt += 1\n",
    "                if attempt < retries:\n",
    "                    print(f\"re-essai dans 5 secondes...\")\n",
    "                    time.sleep(5)\n",
    "                else:\n",
    "                    raise e\n",
    "\n",
    "\n",
    "def remove_superfluous_spaces(text: str) -> str:\n",
    "    return ' '.join(text.split())\n",
    "\n",
    "\n",
    "def clean_html_string(html: str) -> str:\n",
    "    clean_text = re.sub(r'<[^>]+>', '', html)\n",
    "    clean_text = re.sub(r'&amp;', '&', clean_text)\n",
    "    clean_text = re.sub(r'&lt;', '<', clean_text)\n",
    "    clean_text = re.sub(r'&gt;', '>', clean_text)\n",
    "    clean_text = re.sub(r'&quot;', '\"', clean_text)\n",
    "    clean_text = re.sub(r'&apos;', \"'\", clean_text)\n",
    "    return clean_text\n",
    "\n",
    "\n",
    "def extract_domain(url: str) -> str:\n",
    "    parsed_url = urlparse(url)\n",
    "    return parsed_url.netloc\n",
    "\n"
   ]
  },
  {
   "cell_type": "markdown",
   "metadata": {},
   "source": [
    "# Exploitation du HTML  "
   ]
  },
  {
   "cell_type": "markdown",
   "metadata": {},
   "source": [
    "Ici, il faut récupérer le code HTML d'un site web à partir d'une requête. Lorsque vous avez récupéré le texte d'un site il faut le parser. Pour cela, on utilise BeautifulSoup qui permet de transformer la structure HTML en objet Python. Cela permet de récupérer efficacement les données qui nous intéresse.\n",
    "\n",
    "Pour les webmasters, le blocage le plus souvent mis en place et un blocage sur le User-Agent. Le User-Agent est un paramètre intégré dans la requête HTTP réalisé par le Navigateur pour envoyer au front des informations basiques :\n",
    "\n",
    "- la version du Navigateur,\n",
    "- la version de l'OS\n",
    "- Le type de gestionnaire graphique (Gecko)\n",
    "- le type de device utilisé"
   ]
  },
  {
   "cell_type": "markdown",
   "metadata": {},
   "source": [
    "Exemple de User Agent :  \n",
    "\n",
    "`Mozilla/5.0 (Windows NT 6.1; Win64; x64; rv:47.0) Gecko/20100101 Firefox/47.0`"
   ]
  },
  {
   "cell_type": "markdown",
   "metadata": {},
   "source": [
    "Commençons à utiliser `BeautifulSoup`, il est normalement déjà installé, le cas échéant executez les lignes suivantes : "
   ]
  },
  {
   "cell_type": "code",
   "execution_count": 57,
   "metadata": {
    "ExecuteTime": {
     "end_time": "2024-10-07T19:50:10.823860Z",
     "start_time": "2024-10-07T19:50:10.764935Z"
    }
   },
   "outputs": [],
   "source": [
    "import requests\n",
    "from bs4 import BeautifulSoup"
   ]
  },
  {
   "cell_type": "markdown",
   "metadata": {},
   "source": [
    "Pour transformer une requête (requests) en objet BeautifulSoup :"
   ]
  },
  {
   "cell_type": "code",
   "execution_count": 58,
   "metadata": {
    "ExecuteTime": {
     "end_time": "2024-10-07T19:50:13.979141Z",
     "start_time": "2024-10-07T19:50:13.888552Z"
    }
   },
   "outputs": [],
   "source": [
    "response = requests.get(url)\n",
    "soup = BeautifulSoup(response.text)"
   ]
  },
  {
   "cell_type": "markdown",
   "metadata": {},
   "source": [
    "Pour trouver tous les liens d'une page, on récupère la balise `a` qui permet de gérer les liens en HTML :"
   ]
  },
  {
   "cell_type": "code",
   "execution_count": 59,
   "metadata": {
    "ExecuteTime": {
     "end_time": "2024-10-07T19:50:19.065788Z",
     "start_time": "2024-10-07T19:50:19.063429Z"
    }
   },
   "outputs": [
    {
     "data": {
      "text/plain": [
       "[<a href=\"/#content\">Aller au contenu</a>,\n",
       " <a href=\"/#menu\">Aller au menu</a>,\n",
       " <a href=\"/plan-du-site/\">Plan du site</a>,\n",
       " <a href=\"/actualites/journees-portes-ouvertes-2024-2025\" target=\"_blank\" title=\"Ouvre une nouvelle fenêtre\">Bien choisir son école, c'est aussi la rencontrer ! Rendez-vous à ESIEE Paris le 8 février de 9h30 à 17h30 pour notre journée portes ouvertes.</a>,\n",
       " <a href=\"/\"><img alt=\"ESIEE PARIS\" class=\"a42-ac-replace-img\" src=\"/typo3conf/ext/esiee_sitepackage/Resources/Public/imgs/svg/logo-esiee.svg\"/></a>,\n",
       " <a href=\"/brochures-1\">Brochures</a>,\n",
       " <a href=\"/informations/etudiantes-et-etudiants\">Espace élèves</a>,\n",
       " <a href=\"/\" hreflang=\"fr-FR\" title=\"Français\">\n",
       " <span>Fr</span>\n",
       " </a>,\n",
       " <a href=\"/en/\" hreflang=\"en-US\" title=\"English\">\n",
       " <span>En</span>\n",
       " </a>,\n",
       " <a href=\"/candidater-1\">Candidater</a>]"
      ]
     },
     "execution_count": 59,
     "metadata": {},
     "output_type": "execute_result"
    }
   ],
   "source": [
    "soup.find_all(\"a\")[0:10]"
   ]
  },
  {
   "cell_type": "markdown",
   "metadata": {},
   "source": [
    "On peut aussi préciser la classe HTML qu'on veut récupérer :\n",
    "\n",
    "```python\n",
    "soup.find_all(class_=\"<CLASS_NAME>\")[0:10]\n",
    "```\n",
    "\n",
    "Ici par exemple: "
   ]
  },
  {
   "cell_type": "code",
   "execution_count": 60,
   "metadata": {
    "ExecuteTime": {
     "end_time": "2024-10-07T19:50:34.406680Z",
     "start_time": "2024-10-07T19:50:34.400091Z"
    }
   },
   "outputs": [
    {
     "data": {
      "text/plain": [
       "[<button aria-controls=\"searchbox-header-form\" aria-expanded=\"false\" class=\"toggler\">\n",
       " <i class=\"fa-solid fa-magnifying-glass\"></i>\n",
       " <i class=\"fa-solid fa-xmark\"></i>\n",
       " <span class=\"sr-only\">\n",
       " <span class=\"display\">Afficher</span><span class=\"hide\">Masquer</span> la recherche\n",
       " \t\t</span>\n",
       " </button>,\n",
       " <button aria-controls=\"submenu-40\" aria-expanded=\"false\" class=\"toggler\"><span class=\"sr-only\"><span class=\"display\">Afficher</span><span class=\"hide\">Masquer</span> le sous menu : </span>L'école</button>,\n",
       " <button aria-controls=\"submenu-563\" aria-expanded=\"false\" class=\"toggler\"><span class=\"sr-only\"><span class=\"display\">Afficher</span><span class=\"hide\">Masquer</span> le sous menu : </span>Gouvernance et conseils</button>,\n",
       " <button aria-controls=\"submenu-65\" aria-expanded=\"false\" class=\"toggler\"><span class=\"sr-only\"><span class=\"display\">Afficher</span><span class=\"hide\">Masquer</span> le sous menu : </span>Départements d'enseignements et de recherche</button>,\n",
       " <button aria-controls=\"submenu-67\" aria-expanded=\"false\" class=\"toggler\"><span class=\"sr-only\"><span class=\"display\">Afficher</span><span class=\"hide\">Masquer</span> le sous menu : </span>Salles blanches</button>]"
      ]
     },
     "execution_count": 60,
     "metadata": {},
     "output_type": "execute_result"
    }
   ],
   "source": [
    "soup.find_all(class_=\"toggler\")[0:5]"
   ]
  },
  {
   "cell_type": "markdown",
   "metadata": {},
   "source": [
    "Pour récupérer le text sans les balises HTML :"
   ]
  },
  {
   "cell_type": "code",
   "execution_count": 61,
   "metadata": {
    "ExecuteTime": {
     "end_time": "2024-10-07T19:50:43.103789Z",
     "start_time": "2024-10-07T19:50:43.100752Z"
    }
   },
   "outputs": [
    {
     "data": {
      "text/plain": [
       "\"\\n\\n\\n\\n\\nESIEE Paris, l'école de l'innovation technologique | ESIEE Paris\\n\\n\\n\\n\\n\\n\\n\\n\\n\\n\\n\\n\\n\\n\\n\\n\\n\\n\\n\\n\\n\\n\\n\\n\\n\\nAller au contenu\\nAller au menu\\nPlan du site\\n\\n\\n\\n\\n\\n\\n\\nBien choisir son école, c'est aussi la rencontrer ! Rendez-vous à ESIEE Paris le 8 février de 9h30 à 17h30 pour notre journée portes ouvertes.\\n\\n\\n\\n\\n\\nMasquer l'alerte\\n\\n\\n\\n\\n\\n\\n\\n\\n\\n\\n\\n\\n\\n\\nBrochuresEspace élèves\\n\\n\\n\\nFr\\n\\n\\n\\n\\nEn\\n\\n\\n\\n\\n\\n\\n\\n\\n\\nAfficherMasquer la recherche\\r\\n\\t\\t\\n\\n\\n\\nSaisissez votre recherche\\xa0:\\n\\nLancer la recherche\\n\\n\\n\\nCandidater\\n\\nAfficherMasquer le menu\\n\\n\\n\\n\\n\\nRetour au menu principalAfficherMasquer le sous menu\\xa0: L'écolePourquoi choisir ESIEE Paris ?AfficherMasquer le sous menu\\xa0: Gouvernance et conseilsGouvernance et conseilsConseil scientifiqueAfficherMasquer le sous menu\\xa0: Départements d'enseignements et de rechercheInformatique et télécommunicationsIngénierie des systèmes cyberphysiquesIngénierie industrielleSanté, énergie et environnement durableManagement, sciences humaines et languesCorps professoralAfficherMasquer le sous menu\\xa0: Salles blanches\""
      ]
     },
     "execution_count": 61,
     "metadata": {},
     "output_type": "execute_result"
    }
   ],
   "source": [
    "soup.text[0:1000]"
   ]
  },
  {
   "cell_type": "markdown",
   "metadata": {},
   "source": [
    "## Exercice\n",
    "### Exercice 3\n",
    "\n",
    "Améliorer la classe développé précédemment.\n",
    "\n",
    "- Ajouter une méthode pour récupérer l'objet soup d'un url\n",
    "- Récupérer une liste de User Agent et effectuer une rotation aléatoire sur celui à utiliser\n",
    "- Utiliser cette classe pour parser une page HTML et récupérer : le titre, tous les H1 (si ils existent), les liens vers les images, les liens sortants vers d'autres sites, et le texte principal."
   ]
  },
  {
   "cell_type": "code",
   "execution_count": 72,
   "metadata": {},
   "outputs": [
    {
     "name": "stdout",
     "output_type": "stream",
     "text": [
      "Title: Breton (cheval) — Wikipédia\n",
      "H1: ['Breton (cheval)']\n",
      "Images: ['https://fr.wikipedia.org/static/images/icons/wikipedia.png', 'https://fr.wikipedia.org/static/images/mobile/copyright/wikipedia-wordmark-fr.svg', 'https://fr.wikipedia.org/static/images/mobile/copyright/wikipedia-tagline-fr.svg', 'https://upload.wikimedia.org/wikipedia/commons/thumb/a/a9/Logo_disambig.svg/20px-Logo_disambig.svg.png', 'https://upload.wikimedia.org/wikipedia/commons/thumb/6/6f/Confusion_colour.svg/20px-Confusion_colour.svg.png', 'https://upload.wikimedia.org/wikipedia/commons/thumb/8/83/Article_de_qualit%C3%A9.svg/15px-Article_de_qualit%C3%A9.svg.png', 'https://upload.wikimedia.org/wikipedia/commons/thumb/e/ef/Theme_de_qualite.svg/15px-Theme_de_qualite.svg.png', 'https://upload.wikimedia.org/wikipedia/commons/thumb/1/18/Horseicon.svg/40px-Horseicon.svg.png', 'https://upload.wikimedia.org/wikipedia/commons/thumb/a/a0/Reine_de_Since.jpg/280px-Reine_de_Since.jpg', 'https://upload.wikimedia.org/wikipedia/commons/thumb/d/d1/Flag_of_France_%281976%E2%80%932020%29.svg/20px-Flag_of_France_%281976%E2%80%932020%29.svg.png', 'https://upload.wikimedia.org/wikipedia/commons/thumb/7/73/Blue_pencil.svg/10px-Blue_pencil.svg.png', 'https://upload.wikimedia.org/wikipedia/commons/thumb/3/38/Info_Simple.svg/12px-Info_Simple.svg.png', 'https://upload.wikimedia.org/wikipedia/commons/thumb/f/fc/Postiers_bretons_101.jpg/220px-Postiers_bretons_101.jpg', 'https://upload.wikimedia.org/wikipedia/commons/thumb/8/86/Cheval_croisement_percheron_x_bretonne.jpg/220px-Cheval_croisement_percheron_x_bretonne.jpg', 'https://upload.wikimedia.org/wikipedia/commons/thumb/0/0b/Breton_horses_1900.jpg/220px-Breton_horses_1900.jpg', 'https://upload.wikimedia.org/wikipedia/commons/thumb/9/9c/Horse_trait_breton_5622.jpg/220px-Horse_trait_breton_5622.jpg', 'https://upload.wikimedia.org/wikipedia/commons/thumb/b/b1/Chevaux_trait_breton_Creyssac_%286%29.JPG/220px-Chevaux_trait_breton_Creyssac_%286%29.JPG', 'https://upload.wikimedia.org/wikipedia/commons/thumb/1/18/Antic%2C_jument_posti%C3%A8re_bretonne_bai.jpg/220px-Antic%2C_jument_posti%C3%A8re_bretonne_bai.jpg', 'https://upload.wikimedia.org/wikipedia/commons/thumb/3/3c/Trait_breton_La_Rochelle.jpg/220px-Trait_breton_La_Rochelle.jpg', 'https://upload.wikimedia.org/wikipedia/commons/thumb/0/01/Logonna-Daoulas%2C_postiers_bretons.JPG/220px-Logonna-Daoulas%2C_postiers_bretons.JPG', 'https://upload.wikimedia.org/wikipedia/commons/thumb/6/64/Breton_%C3%A9talon_SDA2012-infobox.JPG/220px-Breton_%C3%A9talon_SDA2012-infobox.JPG', 'https://upload.wikimedia.org/wikipedia/commons/thumb/6/62/Urbanes_de_Kergadou.jpg/220px-Urbanes_de_Kergadou.jpg', 'https://upload.wikimedia.org/wikipedia/commons/thumb/3/3b/Breton_draft_horse_in_riding_use_-_La_Chapelle_Gaceline.jpg/220px-Breton_draft_horse_in_riding_use_-_La_Chapelle_Gaceline.jpg', 'https://upload.wikimedia.org/wikipedia/commons/thumb/b/b9/Concours_national_d%27attelage_%C3%A9lite_Rennes_2016-47.jpg/220px-Concours_national_d%27attelage_%C3%A9lite_Rennes_2016-47.jpg', 'https://upload.wikimedia.org/wikipedia/commons/thumb/d/dd/Foire_d%27Avignon_17.jpg/267px-Foire_d%27Avignon_17.jpg', 'https://upload.wikimedia.org/wikipedia/commons/thumb/b/b7/Rigolo_de_Feins%2C_%C3%A9talon_national.jpg/193px-Rigolo_de_Feins%2C_%C3%A9talon_national.jpg', 'https://upload.wikimedia.org/wikipedia/commons/thumb/4/4e/Vivaldi_de_St_Fiacre.JPG/179px-Vivaldi_de_St_Fiacre.JPG', 'https://upload.wikimedia.org/wikipedia/commons/thumb/c/c2/Horses_in_Tr%C3%A9mazan_%282021-06-26%29_6.jpg/220px-Horses_in_Tr%C3%A9mazan_%282021-06-26%29_6.jpg', 'https://upload.wikimedia.org/wikipedia/commons/thumb/6/6e/Dolmen_An_Amzer_Vrao.JPG/220px-Dolmen_An_Amzer_Vrao.JPG', 'https://upload.wikimedia.org/wikipedia/commons/thumb/4/44/Chevaux_trait_breton_Creyssac_%281%29.JPG/220px-Chevaux_trait_breton_Creyssac_%281%29.JPG', 'https://upload.wikimedia.org/wikipedia/commons/thumb/3/36/Bretons_%C3%A9quipe_RP2012.JPG/220px-Bretons_%C3%A9quipe_RP2012.JPG', 'https://upload.wikimedia.org/wikipedia/commons/thumb/9/9a/ChevalBreton.JPG/220px-ChevalBreton.JPG', 'https://upload.wikimedia.org/wikipedia/fr/thumb/d/d6/Le_Cheval_Breton.jpg/220px-Le_Cheval_Breton.jpg', 'https://upload.wikimedia.org/wikipedia/commons/thumb/f/f9/Lamballe_Gest%C3%BCt.jpg/220px-Lamballe_Gest%C3%BCt.jpg', 'https://upload.wikimedia.org/wikipedia/commons/thumb/b/b3/Dyamina_St_Fiacre.jpg/220px-Dyamina_St_Fiacre.jpg', 'https://upload.wikimedia.org/wikipedia/commons/thumb/f/f9/Jean-Jacques_S%C3%A9it%C3%A9_et_son_hongre_Oscar_lors_de_la_f%C3%AAte_du_cheval_de_Plougras_%2822%29.jpg/220px-Jean-Jacques_S%C3%A9it%C3%A9_et_son_hongre_Oscar_lors_de_la_f%C3%AAte_du_cheval_de_Plougras_%2822%29.jpg', 'https://upload.wikimedia.org/wikipedia/commons/thumb/7/73/Blue_pencil.svg/10px-Blue_pencil.svg.png', 'https://upload.wikimedia.org/wikipedia/commons/thumb/7/73/Blue_pencil.svg/10px-Blue_pencil.svg.png', 'https://upload.wikimedia.org/wikipedia/commons/thumb/b/bc/Icon_flat_design_plume.svg/20px-Icon_flat_design_plume.svg.png', 'https://upload.wikimedia.org/wikipedia/commons/thumb/b/bc/Icon_flat_design_plume.svg/20px-Icon_flat_design_plume.svg.png', 'https://upload.wikimedia.org/wikipedia/commons/thumb/b/bc/Icon_flat_design_plume.svg/20px-Icon_flat_design_plume.svg.png', 'https://upload.wikimedia.org/wikipedia/commons/thumb/b/bc/Icon_flat_design_plume.svg/20px-Icon_flat_design_plume.svg.png', 'https://upload.wikimedia.org/wikipedia/commons/thumb/b/bc/Icon_flat_design_plume.svg/20px-Icon_flat_design_plume.svg.png', 'https://upload.wikimedia.org/wikipedia/commons/thumb/b/bc/Icon_flat_design_plume.svg/20px-Icon_flat_design_plume.svg.png', 'https://upload.wikimedia.org/wikipedia/commons/thumb/b/bc/Icon_flat_design_plume.svg/20px-Icon_flat_design_plume.svg.png', 'https://upload.wikimedia.org/wikipedia/commons/thumb/b/bc/Icon_flat_design_plume.svg/20px-Icon_flat_design_plume.svg.png', 'https://upload.wikimedia.org/wikipedia/commons/thumb/b/bc/Icon_flat_design_plume.svg/20px-Icon_flat_design_plume.svg.png', 'https://upload.wikimedia.org/wikipedia/commons/thumb/b/bc/Icon_flat_design_plume.svg/20px-Icon_flat_design_plume.svg.png', 'https://upload.wikimedia.org/wikipedia/commons/thumb/b/bc/Icon_flat_design_plume.svg/20px-Icon_flat_design_plume.svg.png', 'https://upload.wikimedia.org/wikipedia/commons/thumb/b/bc/Icon_flat_design_plume.svg/20px-Icon_flat_design_plume.svg.png', 'https://upload.wikimedia.org/wikipedia/commons/thumb/b/bc/Icon_flat_design_plume.svg/20px-Icon_flat_design_plume.svg.png', 'https://upload.wikimedia.org/wikipedia/commons/thumb/b/bc/Icon_flat_design_plume.svg/20px-Icon_flat_design_plume.svg.png', 'https://upload.wikimedia.org/wikipedia/commons/thumb/b/bc/Icon_flat_design_plume.svg/20px-Icon_flat_design_plume.svg.png', 'https://upload.wikimedia.org/wikipedia/commons/thumb/b/bc/Icon_flat_design_plume.svg/20px-Icon_flat_design_plume.svg.png', 'https://upload.wikimedia.org/wikipedia/commons/thumb/b/bc/Icon_flat_design_plume.svg/20px-Icon_flat_design_plume.svg.png', 'https://upload.wikimedia.org/wikipedia/commons/thumb/b/bc/Icon_flat_design_plume.svg/20px-Icon_flat_design_plume.svg.png', 'https://upload.wikimedia.org/wikipedia/commons/thumb/b/bc/Icon_flat_design_plume.svg/20px-Icon_flat_design_plume.svg.png', 'https://upload.wikimedia.org/wikipedia/commons/thumb/7/73/Blue_pencil.svg/10px-Blue_pencil.svg.png', 'https://upload.wikimedia.org/wikipedia/commons/thumb/7/73/Blue_pencil.svg/10px-Blue_pencil.svg.png', 'https://upload.wikimedia.org/wikipedia/commons/thumb/7/73/Blue_pencil.svg/10px-Blue_pencil.svg.png', 'https://upload.wikimedia.org/wikipedia/commons/thumb/b/bc/Icon_flat_design_plume.svg/20px-Icon_flat_design_plume.svg.png', 'https://upload.wikimedia.org/wikipedia/commons/thumb/8/83/Article_de_qualit%C3%A9.svg/14px-Article_de_qualit%C3%A9.svg.png', 'https://upload.wikimedia.org/wikipedia/commons/thumb/8/83/Article_de_qualit%C3%A9.svg/14px-Article_de_qualit%C3%A9.svg.png', 'https://upload.wikimedia.org/wikipedia/commons/thumb/8/83/Article_de_qualit%C3%A9.svg/14px-Article_de_qualit%C3%A9.svg.png', 'https://upload.wikimedia.org/wikipedia/commons/thumb/8/83/Article_de_qualit%C3%A9.svg/14px-Article_de_qualit%C3%A9.svg.png', 'https://upload.wikimedia.org/wikipedia/commons/thumb/8/83/Article_de_qualit%C3%A9.svg/14px-Article_de_qualit%C3%A9.svg.png', 'https://upload.wikimedia.org/wikipedia/commons/thumb/8/83/Article_de_qualit%C3%A9.svg/14px-Article_de_qualit%C3%A9.svg.png', 'https://upload.wikimedia.org/wikipedia/commons/thumb/8/83/Article_de_qualit%C3%A9.svg/14px-Article_de_qualit%C3%A9.svg.png', 'https://upload.wikimedia.org/wikipedia/commons/thumb/8/83/Article_de_qualit%C3%A9.svg/14px-Article_de_qualit%C3%A9.svg.png', 'https://upload.wikimedia.org/wikipedia/commons/thumb/8/83/Article_de_qualit%C3%A9.svg/14px-Article_de_qualit%C3%A9.svg.png', 'https://upload.wikimedia.org/wikipedia/commons/thumb/8/83/Article_de_qualit%C3%A9.svg/14px-Article_de_qualit%C3%A9.svg.png', 'https://upload.wikimedia.org/wikipedia/commons/thumb/f/f0/Horse_%28PSF%29.png/100px-Horse_%28PSF%29.png', 'https://upload.wikimedia.org/wikipedia/commons/thumb/8/83/Article_de_qualit%C3%A9.svg/14px-Article_de_qualit%C3%A9.svg.png', 'https://upload.wikimedia.org/wikipedia/commons/thumb/8/83/Article_de_qualit%C3%A9.svg/14px-Article_de_qualit%C3%A9.svg.png', 'https://upload.wikimedia.org/wikipedia/commons/thumb/1/11/Bon_article.svg/14px-Bon_article.svg.png', 'https://upload.wikimedia.org/wikipedia/commons/thumb/8/83/Article_de_qualit%C3%A9.svg/14px-Article_de_qualit%C3%A9.svg.png', 'https://upload.wikimedia.org/wikipedia/commons/thumb/1/11/Bon_article.svg/14px-Bon_article.svg.png', 'https://upload.wikimedia.org/wikipedia/commons/thumb/1/11/Bon_article.svg/14px-Bon_article.svg.png', 'https://upload.wikimedia.org/wikipedia/commons/thumb/1/11/Bon_article.svg/14px-Bon_article.svg.png', 'https://upload.wikimedia.org/wikipedia/commons/thumb/8/83/Article_de_qualit%C3%A9.svg/14px-Article_de_qualit%C3%A9.svg.png', 'https://upload.wikimedia.org/wikipedia/commons/thumb/8/83/Article_de_qualit%C3%A9.svg/14px-Article_de_qualit%C3%A9.svg.png', 'https://upload.wikimedia.org/wikipedia/commons/thumb/1/11/Bon_article.svg/14px-Bon_article.svg.png', 'https://upload.wikimedia.org/wikipedia/commons/thumb/8/83/Article_de_qualit%C3%A9.svg/14px-Article_de_qualit%C3%A9.svg.png', 'https://upload.wikimedia.org/wikipedia/commons/thumb/8/83/Article_de_qualit%C3%A9.svg/14px-Article_de_qualit%C3%A9.svg.png', 'https://upload.wikimedia.org/wikipedia/commons/thumb/1/11/Bon_article.svg/14px-Bon_article.svg.png', 'https://upload.wikimedia.org/wikipedia/commons/thumb/8/83/Article_de_qualit%C3%A9.svg/14px-Article_de_qualit%C3%A9.svg.png', 'https://upload.wikimedia.org/wikipedia/commons/thumb/8/83/Article_de_qualit%C3%A9.svg/14px-Article_de_qualit%C3%A9.svg.png', 'https://upload.wikimedia.org/wikipedia/commons/thumb/1/11/Bon_article.svg/14px-Bon_article.svg.png', 'https://upload.wikimedia.org/wikipedia/commons/thumb/8/83/Article_de_qualit%C3%A9.svg/14px-Article_de_qualit%C3%A9.svg.png', 'https://upload.wikimedia.org/wikipedia/commons/thumb/1/11/Bon_article.svg/14px-Bon_article.svg.png', 'https://upload.wikimedia.org/wikipedia/commons/thumb/1/11/Bon_article.svg/14px-Bon_article.svg.png', 'https://upload.wikimedia.org/wikipedia/commons/thumb/8/83/Article_de_qualit%C3%A9.svg/14px-Article_de_qualit%C3%A9.svg.png', 'https://upload.wikimedia.org/wikipedia/commons/thumb/1/11/Bon_article.svg/14px-Bon_article.svg.png', 'https://upload.wikimedia.org/wikipedia/commons/thumb/8/83/Article_de_qualit%C3%A9.svg/14px-Article_de_qualit%C3%A9.svg.png', 'https://upload.wikimedia.org/wikipedia/commons/thumb/8/83/Article_de_qualit%C3%A9.svg/14px-Article_de_qualit%C3%A9.svg.png', 'https://upload.wikimedia.org/wikipedia/commons/thumb/1/11/Bon_article.svg/14px-Bon_article.svg.png', 'https://upload.wikimedia.org/wikipedia/commons/thumb/1/11/Bon_article.svg/14px-Bon_article.svg.png', 'https://upload.wikimedia.org/wikipedia/commons/thumb/8/83/Article_de_qualit%C3%A9.svg/14px-Article_de_qualit%C3%A9.svg.png', 'https://upload.wikimedia.org/wikipedia/commons/thumb/1/11/Bon_article.svg/14px-Bon_article.svg.png', 'https://upload.wikimedia.org/wikipedia/commons/thumb/8/83/Article_de_qualit%C3%A9.svg/14px-Article_de_qualit%C3%A9.svg.png', 'https://upload.wikimedia.org/wikipedia/commons/thumb/1/11/Bon_article.svg/14px-Bon_article.svg.png', 'https://upload.wikimedia.org/wikipedia/commons/thumb/8/83/Article_de_qualit%C3%A9.svg/14px-Article_de_qualit%C3%A9.svg.png', 'https://upload.wikimedia.org/wikipedia/commons/thumb/8/83/Article_de_qualit%C3%A9.svg/14px-Article_de_qualit%C3%A9.svg.png', 'https://upload.wikimedia.org/wikipedia/commons/thumb/8/83/Article_de_qualit%C3%A9.svg/14px-Article_de_qualit%C3%A9.svg.png', 'https://upload.wikimedia.org/wikipedia/commons/thumb/1/11/Bon_article.svg/14px-Bon_article.svg.png', 'https://upload.wikimedia.org/wikipedia/commons/thumb/8/83/Article_de_qualit%C3%A9.svg/14px-Article_de_qualit%C3%A9.svg.png', 'https://upload.wikimedia.org/wikipedia/commons/thumb/8/83/Article_de_qualit%C3%A9.svg/14px-Article_de_qualit%C3%A9.svg.png', 'https://upload.wikimedia.org/wikipedia/commons/thumb/8/83/Article_de_qualit%C3%A9.svg/14px-Article_de_qualit%C3%A9.svg.png', 'https://upload.wikimedia.org/wikipedia/commons/thumb/e/ea/Jument_postier_breton_2.jpg/150px-Jument_postier_breton_2.jpg', 'https://upload.wikimedia.org/wikipedia/commons/thumb/8/83/Article_de_qualit%C3%A9.svg/14px-Article_de_qualit%C3%A9.svg.png', 'https://upload.wikimedia.org/wikipedia/commons/thumb/8/83/Article_de_qualit%C3%A9.svg/14px-Article_de_qualit%C3%A9.svg.png', 'https://upload.wikimedia.org/wikipedia/commons/thumb/1/11/Bon_article.svg/14px-Bon_article.svg.png', 'https://upload.wikimedia.org/wikipedia/commons/thumb/1/11/Bon_article.svg/14px-Bon_article.svg.png', 'https://upload.wikimedia.org/wikipedia/commons/thumb/1/11/Bon_article.svg/14px-Bon_article.svg.png', 'https://upload.wikimedia.org/wikipedia/commons/thumb/1/11/Bon_article.svg/14px-Bon_article.svg.png', 'https://upload.wikimedia.org/wikipedia/commons/thumb/1/11/Bon_article.svg/14px-Bon_article.svg.png', 'https://upload.wikimedia.org/wikipedia/commons/thumb/8/83/Article_de_qualit%C3%A9.svg/14px-Article_de_qualit%C3%A9.svg.png', 'https://upload.wikimedia.org/wikipedia/commons/thumb/1/11/Bon_article.svg/14px-Bon_article.svg.png', 'https://upload.wikimedia.org/wikipedia/commons/thumb/9/9a/Horse_badge.svg/22px-Horse_badge.svg.png', 'https://upload.wikimedia.org/wikipedia/commons/thumb/7/76/Vache_NB.svg/39px-Vache_NB.svg.png', 'https://upload.wikimedia.org/wikipedia/commons/thumb/2/29/Flag_of_Brittany_%28Gwenn_ha_du%29.svg/33px-Flag_of_Brittany_%28Gwenn_ha_du%29.svg.png', 'https://upload.wikimedia.org/wikipedia/commons/thumb/e/ef/Theme_de_qualite.svg/24px-Theme_de_qualite.svg.png', 'https://upload.wikimedia.org/wikipedia/commons/thumb/8/83/Article_de_qualit%C3%A9.svg/14px-Article_de_qualit%C3%A9.svg.png', 'https://upload.wikimedia.org/wikipedia/commons/thumb/2/29/Percheron_cluny102.jpg/100px-Percheron_cluny102.jpg', 'https://upload.wikimedia.org/wikipedia/commons/thumb/8/83/Article_de_qualit%C3%A9.svg/14px-Article_de_qualit%C3%A9.svg.png', 'https://upload.wikimedia.org/wikipedia/commons/thumb/8/83/Article_de_qualit%C3%A9.svg/14px-Article_de_qualit%C3%A9.svg.png', 'https://upload.wikimedia.org/wikipedia/commons/thumb/8/83/Article_de_qualit%C3%A9.svg/14px-Article_de_qualit%C3%A9.svg.png', 'https://upload.wikimedia.org/wikipedia/commons/thumb/8/83/Article_de_qualit%C3%A9.svg/14px-Article_de_qualit%C3%A9.svg.png', 'https://upload.wikimedia.org/wikipedia/commons/thumb/8/83/Article_de_qualit%C3%A9.svg/14px-Article_de_qualit%C3%A9.svg.png', 'https://upload.wikimedia.org/wikipedia/commons/thumb/8/83/Article_de_qualit%C3%A9.svg/14px-Article_de_qualit%C3%A9.svg.png', 'https://upload.wikimedia.org/wikipedia/commons/thumb/8/83/Article_de_qualit%C3%A9.svg/14px-Article_de_qualit%C3%A9.svg.png', 'https://upload.wikimedia.org/wikipedia/commons/thumb/8/83/Article_de_qualit%C3%A9.svg/14px-Article_de_qualit%C3%A9.svg.png', 'https://upload.wikimedia.org/wikipedia/commons/thumb/8/83/Article_de_qualit%C3%A9.svg/14px-Article_de_qualit%C3%A9.svg.png', 'https://login.wikimedia.org/wiki/Special:CentralAutoLogin/start?useformat=desktop&type=1x1&usesul3=0', 'https://fr.wikipedia.org/static/images/footer/wikimedia-button.svg', 'https://fr.wikipedia.org/w/resources/assets/poweredby_mediawiki.svg']\n",
      "Links: ['de.wikipedia.org', 'www.eurocarne.com', 'pl.wikipedia.org', 'www.wikidata.org', 'www.haras-nationaux.fr', 'attelage.org', 'books.google.fr', 'eu.wikipedia.org', 'hal.archives-ouvertes.fr', 'www.cheval-breton.fr', 'developer.wikimedia.org', 'vi.wikipedia.org', 'fi.wikipedia.org', 'books.google.com', 'www.chevalmag.com', 'foundation.wikimedia.org', 'fr.wiktionary.org', 'nl.wikipedia.org', 'www.agrisalon.com', 'pt.wikipedia.org', 'onlinelibrary.wiley.com', 'catalogue.bnf.fr', 'wikimediafoundation.org', 'stud.epsilon.slu.se', 'creativecommons.org', 'dx.doi.org', 'www2.cheval-breton.fr', 'www.cheval-savoir.com', 'www.enciclopedia.cat', 'stats.wikimedia.org', 'donate.wikimedia.org', 'books.google.com.bo', 'ca.wikipedia.org', 'www.mediawiki.org', 'www.ansi.okstate.edu', 'ru.wikipedia.org', 'es.wikipedia.org', 'portal.issn.org', 'en.wikipedia.org', 'it.wikipedia.org', 'fao-dadis-breed-detail.firebaseapp.com', 'sv.wikipedia.org', 'www.ina.fr', 'commons.wikimedia.org', 'fr.m.wikipedia.org', 'worldcat.org', 'fr.wikipedia.org']\n",
      "Main Text: Basculer la table des matièresBreton (cheval)13 languesCatalàDeutschEnglishEspañolEuskaraSuomiItalianoNederlandsPolskiPortuguêsРусскийSvenskaTiếng ViệtModifier les liensArticleDiscussionfrançaisLireModifierModifier le codeVoir l’historiqueOutilsOutilsdéplacer vers la barre latéralemasquerActionsLireModifierModifier le codeVoir l’historiqueGénéralPages liéesSuivi des pages liéesTéléverser un fichierPages spécialesLien permanentInformations sur la pageCiter cette pageObtenir l'URL raccourcieTélécharger le code QRImprimer / exporterCréer un livreTélécharger comme PDFVersion imprimableDans d’autres projetsWikimedia CommonsÉlément WikidataApparencedéplacer vers la barre latéralemasquerUn article de Wikipédia, l'encyclopédie libre.Pour les articles homonymes, voirBreton (homonymie).Ne doit pas être confondu avecCheval en Bretagne.Vous lisez un «article de qualité» labellisé en 2011.Il fait partie d'un «thème de qualité».BretonReine de Since, jument bretonne alezane.Région d’origineRégionBretagne,FranceCaractéristiquesMorphologieCheval de traitRegistre généalogiqueSyndicat des Éleveurs du Cheval Breton.Standard français de la raceTaille1,58men moyenne[1]Poids800kgen moyenneRobeGénéralementalezane[1], plus rarementaubère,baie,rouanneounoireTêteCourte et carrée, au profil rectiligne ou camusPiedsCourts et garnis defanonsStatut FAO (conservation)Non menacéAutreUtilisationSurtoutviande, plus rarement attelage, travail de la terre, des zones forestières et urbaines, écopâturage.modifierLeBretonest uneracedechevaux de traitoriginaire deBretagne. Issu derobustes petits chevaux locaux, son élevage s'organise dès la fin duXVIIesièclesous l'influence de très nombreux croisements. Apprécié des militaires comme des paysans pour sonambleconfortable, sa capacité de traction et sa polyvalence, le Breton connaît un grand succès à l'arrivée duXXesiècle. Il quitte par trains et bateaux entiers sa Bretagne natale depuisLandivisiau. Il sert d'améliorateur pour d'autres races de chevaux de trait. En 1912, lestud-bookde la race est officiellement créé pour rassembler ses deux types, le trait et le postier, avant d'être fermé aux apports de sang étrangers en 1951. S'il garde ses fonctions de cheval de trait plus longtemps que d'autres races françaises, les années 1970 marquent une forte réduction de l'élevage. La réorientation de celui-ci vers la production deviandeà destination de l'Italiesurvient vers 1980. Avec l'essor de l'équitation de loisir dans lesannées 1990, le Breton retrouve ses anciennes fonctions de cheval d'attelage.Le cheval Breton est très massif et musclé. Il présente souvent une robealezane, et malgré sa taille modeste pour un trait, déploie untrotefficace et une grande puissance au travail. Plusieurs chevaux nommés « Breton » ont historiquement existé, chacun provenant d'un biotope spécifique. Si lebidetambleur originel a désormais disparu, tout comme son descendant leCentre-montagne, officiellement, deux types de chevaux bretons sont reconnus. Lepostier Breton, fleuron de l'élevage, est à l'origine un cheval de poste utilisé aussi bien pour l'attelageque pour les travaux des champs. Letrait Breton, le plus grand et puissant de tous, est historiquement élevé sur la côte nord de Bretagne et destiné au trait lourd agricole.Le Breton est devenu au début duXXIesièclel'un des chevaux de trait les plus présents en France, avec leComtois, bien que l'expansion de son élevage soit surtout liée à l'hippophagie. Il continue à s'exporter. LeBrésille reconnaît comme race. Grâce à sa rusticité, il entretient les espaces verts et valorise les pâturages de moyenne montagne. L'attachement desBretonspour leur cheval est resté très fort, proche d'une « parenté totémique », comme en témoignent de nombreuses manifestations, et l'érection de statues àCallacet Landivisiau.Histoire[modifier|modifier le code]Juments de trait bretonnes au repos dans les prés de l'écomusée du Pays deRennes.Le Breton est sélectionné depuis toujours pour sa grande force et sa résistance. S'il est présent depuis des milliers d'années dans les montagnes du centre, sa forme actuelle est le résultat de très nombreux métissages depuis leMoyen Âge[2], avec destrotteurs du Norfolk, desPercheronset desArdennaisnotamment[3].Origines[modifier|modifier le code]Une théorie trace l'origine du cheval Breton aux migrationsaryennesdepuis l'Asie, voici plus de 4 000 ans. Une variante suppose que des chevaux asiatiques se sont mêlés à la population équine locale[4]. Une autre école de pensée fait descendre la race dechevaux élevés par les guerriers Celtesavant leur conquête de laGrande-Bretagne[5],[6],[2].Les ancêtres du cheval Breton ont probablement joué un grand rôle pour les peuples gaulois établis enArmorique. LesRomainsne sont pas unpeuple cavalier, cependant, leurs unités de cavalerie, principalement d'origine étrangère et notamment d'Afrique du Nord, ont peut-être laissé une trace sur le cheval Breton[7].Moyen Âge[modifier|modifier le code]À l'époque descroisades, le croisement des chevaux montagnards originels avec lecheval orientalramené depuis ces terres lointaines donne le «bidet breton», selon un ouvrage de vulgarisation[8],[Note 1]. Une chronique rapporte qu'« en 1212, le ducOlivier de Rohanramena neuf étalons arabes qu'il croisa avec le cheval breton »[9]. Lesalluresconfortables sont prisées, à mi-chemin entre l'ambleet letrot, celles du cheval Breton font sa popularité comme cheval d'équitationau Moyen Âge[10],[11]. En raison de cette particularité et de sa taille relativement réduite, il est surnommé le « bidet d'allures »[10].Vers 1500, deux types se différencient déjà : le massif sommier du nord de la région, utilisé commecheval de bâtet pour les travaux de ferme, et leroussindu pays deBriec, plus fin et léger,monture de guerreégalement chevauchée pour les longs trajets[6],[12],[8].Du Moyen Âge à la fin duXVIIIesiècle[modifier|modifier le code]Le roussin ambleur médiéval se fait connaître, jusqu'auXVIIIesiècle, sous le nom de « bidet de Briec » ou de « cheval de la lande ». Il est à l'origine du fameux « bidet deCornouaille», ou plus simplement «bidet breton»[13].En 1666,Gabriel Calloet-Kerbratconseille le croisement de la jument bretonne avec des étalons d'Allemagne et d'Angleterre[14]. D'aprèsJacques Mulliez, à la fin duXVIIesiècle, dans les évêchésde Léonetde Tréguier, des efforts de sélection sont certainement faits sur les juments. Mieux nourries et abritées des intempéries, elles deviennent plus puissantes et remplacent peu à peu les bœufs à la traction[15].Bernadette Lizetvoit dans cette profonde mutation du rapport à l'animal les débuts de l'élevage du cheval Breton[16].XIXesiècle[modifier|modifier le code]Gravure d'un cheval croisé Breton/Percheron dans l'encyclopédie pratique de l'agriculteur, publiée par Firmin-Didot et Cie, tome 5, 1877.AuXIXesiècle,« la race de trait particulière à la Bretagne possède des qualités qui la font rechercher par toute la France et à l'étranger, pour les services du roulage, des diligences, des postes, et dutrain d'artillerie»[17]. Une lettre envoyée depuisMorlaixaujournal des harasen 1837 fait savoir que les chevaux Bretons sont certes peu élégants, mais « robustes et courageux, sobres et durs à la fatigue, peu sensibles aux intempéries et aux privations de toute espèce »[18].Le développement du réseau routier à la fin duXIXesièclemodifie la race « de Léon », croisée avec des étalons carrossiers légers et notamment letrotteur Norfolkbritannique, qui a une influence déterminante, et aboutit au type plus léger du cheval Breton, le postier[8]. Il fait la renommée de la Bretagne à l'arrivée duXXesiècle[19]. La race bretonne conserve de ses racines montagnardes le haras national, principal lieu d'élevage, situé dans le pays deLangonnet[17]. La création duharas national d'Hennebonten 1857 en fait la capitale de l'élevage du cheval Breton[20].Historiquement, lesharas nationaux, manifestation de l'autorité française en matière d'élevage équin, tentent d'imposer leur standard d'allègement des chevaux. C'est pourquoi, au même moment, du sangarabeetPur-sangajouté à la race bretonne des montagnes du centre sous l'impulsion des haras nationaux mène à la création du type dit «cheval de Corlay», afin de fournir lacavaleriede l'armée. D'autres bidets sont croisés avec desArdennais, pour les petits travaux de traction[19]. La nécessité d'un stud-book pour la race bretonne est défendue dès 1897[21], mais ne devient effective qu'au début du siècle suivant.XXesiècle et après[modifier|modifier le code]Extrait du romanLe cheval d'orgueilTrop pauvre que je suis pour posséder un autre animal, du moins le Cheval d'Orgueil aura-t-il toujours une stalle dans mon écurie[22].Chevaux Bretons sur une foire vers 1900-1910, dans leFinistère.La modernisation des transports en Bretagne profite aux chevaux de trait et surtout à leurs éleveurs, qui exportent dès lors leurs animaux dans toute l'Europe, décuplant ainsi leurs ventes[23]. En 1904, Paul Diffloth rapporte que le cheval Breton est « d'une sobriété et d'une rusticité à toute épreuve », bien qu'il manque d'élégance, un défaut « racheté par une vigueur et un courage exceptionnels »[24].Création du stud-book et organisation de l'élevage[modifier|modifier le code]La création dustud-bookdu cheval breton avec deux livres séparés pour les types trait et postier résulte d'un conflit. En 1911, le premier tome de la section bretonne du stud-book des chevaux de trait français est ouvert par les éleveurs du Finistère nord, en refusant les animaux issus de croisements[25]. La Société hippique deSaint-Pol-de-Léony répond l'année suivante, en créant le stud-book de la race postière Norfolk-Bretonne, c'est-à-dire celui du postier Breton[26]. En 1912, les livres sont fusionnés, mais des sections séparées sont toujours utilisées pour chaque type[11].Sur toute cette période, la tendance générale est à l'augmentation de la taille des races de chevaux de trait pour gagner en puissance, grâce à des croisements[27]: les autres races de trait,Shireou encore Percheron, rencontrent beaucoup de succès à l'exportation et les éleveurs bretons souhaitent devenir concurrentiels sur ce marché[3]en élevant des chevaux plus grands et plus lourds[28]. En 1920, la décision est prise de permettre des apports de sang extérieurs afin d'insuffler du sang neuf dans la race. Toutefois, en raison de son endurance et de ses allures, le cheval Breton reste une exception. Le métissage est accusé de réduire ses qualités. Dans lesannées 1930, les infusions de sang d'autres races sont officiellement abandonnées[11],[19]. Cela n'empêche pas certaines fraudes d'éleveur, qui importent des poulains ardennais entiers et leur donnent de faux papiers de chevaux bretons[28].Le 4 janvier 1926, les deux sections du stud-book sont fusionnées par décision ministérielle sous la mention « trait »[3], en raison d'un flou généralisé quant aux origines géographiques des chevaux[27]. La même année, le type postier breton compte plus de 5 000 chevaux enregistrés[3]. Tous les chevaux bretons sont enregistrés ensemble depuis cette date. Le postier breton est toutefois soumis à des tests de performance à l'attelage. Les éleveurs se dirigent vers le cheval d'attelage léger plus près du sang recherché par l'armée, ou vers le cheval de trait lourd comme en recherche la société nationale des agriculteurs[3]. Les inscriptions au stud-book sont trop peu nombreuses, et la fermeture de celui-ci est envisagée. En réalité, certains meuniers et petits éleveurs de Bretagne font saillir illégalement des étalons non enregistrés proches du type bidet, avec une relative tolérance des autorités, jusque dans lesannées 1930. Ces petits chevaux solides sont recherchés sur les exploitations agricoles des régions difficiles de la Bretagne. La plupart des éleveurs ne font donc pas appel aux étalons desharas nationaux. En réponse à cette tendance, le type Centre-Montagne, correspondant à la plus petite variété de la race bretonne, est reconnu officiellement[28]. En 1951, le registre d'élevage du Breton est officiellement fermé aux chevaux non issus de parents enregistrés[11]ou nés à l'extérieur de laBretagne historique, dont fait partie l'actuelleLoire-Atlantique. En 1966, l'ancien cheval Breton de type « bidet », tel qu'il existait avant les croisements, a cependant « pratiquement disparu »[29].Commerce[modifier|modifier le code]Trait Breton dans une reconstitution de la foire aux chevaux deLandivisiau.Le cheval breton dit « postier » est largement exporté, avec un pic atteint entre les années 1900 et 1940, où des trains remplis de chevaux partent de la gare deLandivisiauvers toute la France, tandis que des bateaux lui font gagner le sud de l'Europe (Italie et Espagne), l'Allemagne, l'Angleterre, l'Afrique du Nord, l'Amérique du Sud et le Japon[30]. Pour la seule année 1939, 18 000 chevaux quittent ainsi la Bretagne[31]. Ces chevaux sont essentiellement des animaux de travail déjà dressés, amenés à Landivisiau depuis leurs élevages deCornouailleet dupays de Vannes. Ils servent dans les vignes du bordelais et de la Méditerranée, ainsi qu'aux agriculteurs deVendéeet duMassif central, auxmines du Nordet sont envoyés à l'abattoir de Vaugirardlorsqu'ils sont réformés[15].Étalons influents[modifier|modifier le code]La race bretonne est influencée par un certain nombre d'étalons raceurs. Le plus connu estNaous, un demi-ardennaisné en 1934 d'un étalon breton et d'une jument importée[3]. La jument Ninon, née en 1957, donne les deux étalons Var Vella (en 1965) et Arguella (en 1966), qui à eux deux donnent naissance à 24 étalons, eux-mêmes pères de 110 étalons. Né en 1979, Nirée de l'élevage de la famille Desrues à Vergéal, fils de Var Vella et de Idole, marque fortement l'élevage dans les années 1990 avec Ici Landi (né en 1974), Norgant (né en 1979) et Riton (né en 1983), deux fils de Gouedic et pères de chevaux réputés. Anvers (né en 1988) donne des pouliches de qualité, tout comme ses fils Glomel & Gabarit (né en 1994) et Jackson (né en 1998)[32].Déclin de la race[modifier|modifier le code]Témoignage d'un éleveur belge à propos des chevaux Bretons de boucherie, en 1981Aujourd'hui, ces gros lourdauds connaissent un regain d’intérêt avec la boucherie; faire du cheval lourd, c'est facile il n'y a pas besoin d'être un bon éleveur [...] Quand je vois ces chevaux faire maintenant une tonne, à quoi ça rime pour la traction ? [...] En trois ans, les aplombs sont foutus, les reins n'en parlons même pas ! Pour le bifteck, d'accord, et c'est pareil pour vos « Bretons » si allants et si forts sous les 800 kg, qui vont bientôt aborder les 1 000 kg de viande sur un squelette et des membres faits pour soutenir des poids bien inférieurs à la tonne ! [...] Pour moi, ce ne sont plus des chevaux de trait, mais des bêtes à viande[33].En 1948, « les départements bretons figurent parmi les plus riches en chevaux. On en compte 19 par kilomètre carré dans leFinistère, 13 dans lesCôtes-du-Nord, 11 enIlle-et-Vilaine, 7 dans leMorbihan»[34]. Une particularité de la Bretagne est d'avoir gardé un élevage de chevaux relativement important plus tardivement que dans d'autres régions de France. Les débouchés locaux suffisent. Jusque dans lesannées 1960, les chevaux continuent d'être élevés et exportés grâce à une jumenterie queBernadette Lizetqualifie d'anachronique au regard de la situation française. Les chevaux partent sur de petites exploitations, par exemple au travail viticole dans le Midi[35]. Les éleveurs se approchent de leur syndicat d'élevage et desharas nationauxdurant les temps difficiles des années 1960 et 1970, où seules les primes à l'élevage et les concours agricoles leur permettent de subsister[35]. L'INRAet l'Institut national agronomiqueeffectuent différentes analyses démographiques et génétiques quant aux populations de chevaux de trait, toutes menacées. En 1980, les chercheurs en concluent que la race bretonne est victime deconsanguinité, dedérive génétique, et de la disparition de ses structures de coordination. L'âge avancé de ses éleveurs rend sa situation précaire[36].Sélection bouchère[modifier|modifier le code]Traits bretons lourds de type boucher àCreyssac.Seule la reconversion pour le marché de la viande permet à la race bretonne de subsister[37]. Les éleveurs locaux se montrent d'abord réticents, mais en 1978, l'éleveur de porc et fils d'étalonnier breton François Coatalem engage un partenariat avec les haras nationaux pour développer ce débouché. L'année suivante, il obtient la mise en place d'un quota d'abattage de chevaux d'origine française[35]. C'est toutefois l'ouverture vers le marché italien, grand consommateur de viande de cheval de trait, qui entraîne la vague d'engouement pour le cheval breton lourd et une sélection suivant de nouveaux critères. Dès lors, les chevaux sont recherchés les plus gros possibles en dépit des problèmes d'aplombs occasionnés, et s'élèvent enplein air intégral. Ce modèle d'élevage s'exporte dans lemassif centralet lesPyrénées[35]. En 1984, lesalluresdes chevaux bouchers n'étant plus prises en compte, le test d'allures des étalons de type postier est supprimé[38]. La distinction entre les types trait et postier devient moins évidente[39]. En 1985, leharas d'Hennebontenvoie un énorme étalon reproducteur de type boucher nommé Oscar àBannalec, dans leFinistère[28].Disparition du Centre-Montagne[modifier|modifier le code]La sélection bouchère est fatale au Centre-Montagne qui, étant la plus petite des variétés de la race, est aussi considérée comme la moins adaptée à la production deviande. Les étalons Centre-Montagne ne parviennent plus à saillir les juments trop grandes qui leur sont présentées en liberté[38]. La disparition de ce type traditionnel de la race provoque un malaise chez les éleveurs, qui regrettent les « bonnes petites juments » du pays[39]. En réponse, ils montrent un nouvel engouement pour leur patrimoine et pour les chevaux plus légers à l'arrivée des années 1990[40].Fertilité[modifier|modifier le code]Lesétalonsbretons ont la réputation d'être gras et peu fertiles : en 1985, enIlle-et-Vilaine, seules 30 % des juments saillies par des étalons bretons sont pleines[41]. L'invention duspermogrammepermet de corriger le problème en écartant les étalons les moins fertiles de la reproduction. L'introduction de l'insémination artificielleprivilégie aussi de nouveaux critères de sélection : moins que le poids, les allures, les aplombs ou le modèle, c'est la fertilité qui est prise en compte pour l'agrément d'étalon. Il en résulte une baisse dediversité génétique, heureusement contrebalancée par la multiplication des élevages hors berceau dans les Pyrénées et le Massif central. L'insémination artificielle permet aussi d'obtenir lespermed'étalon distants géographiquement et donc d'augmenter les choix possibles des éleveurs[42].Regain des activités de loisir et politique d'expansion[modifier|modifier le code]Antic, jument postière bretonne baie, pendant la qualification loisir organisée auharas national de Lamballe. Primée par l'IFCE.Trait breton àLa Rochelle.À partir des années 1990, la vague du cheval de loisir, liée au retour à la terre des néo-ruraux, provoque un regain d’intérêt pour le postier d'attelage[43].Bernadette Lizety voit aussi une réaction à la disparition du type dit Centre-Montagne, les éleveurs souhaitant préserver les lignées légères du cheval Breton. Dès lors, le brillant des allures, le geste du genou et letrotsoutenu sont à nouveau recherchés[40]. Une série de mesures est mise en place par les haras nationaux pour favoriser ce marché, dont l'interdiction de lacaudectomiechez les chevaux de trait en 1996, vue comme une hérésie par certains éleveurs traditionalistes[44]. Lesharas nationauxlancent un nouveau type de communication autour des attelages, et des villes se passionnent pour les loisirs équestres. ÀLoudéac, la fête du cheval est l'occasion de voir tous les types de chevaux bretons dans une démarche de valorisation de la culture régionale. Les concours d'utilisations traditionnelle et les routes du cheval de trait se multiplient[40]. Une nouvelle génération d'éleveurs prend la relève ; issus de milieux non agricoles, ils acquièrent des chevaux bretons dans une démarche de conservation et d'utilisation pour les loisirs[45]. L'utilisation de chevaux Bretons au travail n'a pourtant pas cessé de diminuer jusqu'à l'arrivée duXXIesiècle: vers 1984, les maraîchers Bretons employaient encore 400 chevaux pour leur activité, mais en 2004, tous ou presque ont disparu[46]. Le Breton fait partie des races de chevaux dont les éleveurs peuvent bénéficier de la « Prime aux races menacées d'abandon » (PRME), mise en place en France en 1997, d'un montant de 100 à 150 € en 2004[47].Le cheval Breton bénéficie, comme leComtois, d'une politique d'expansion régionale. Alors que les chevaux stationnés hors de Bretagne historique n'étaient pas comptabilisés au stud-book de la race, un recensement des élevages bouchers dans lesPyrénéeset leMassif centralpermet, en une dizaine d'années, un doublement des effectifs (1 700 animaux recensés en 1990 contre plus de 3 400 en 2002[46]). Le marché de la viande s'effondre toutefois avec laconstruction européenne, qui favorise les importations[40]. Les haras nationaux accompagnent le mouvement de reconversion de la race vers les loisirs. Leharas national d'Hennebontse transforme en pôle culturel conçu comme un musée de plein air et évite de montrer les éléments en rapport avec la viande. Leharas national de Lamballes'investit davantage encore en menant une politique de soutien à l'élevage de loisir, au grand dam des éleveurs de lourd[48].La race bretonne est gérée par le Syndicat des Éleveurs du Cheval Breton (SECB)[10]reconnu depuis le 23 avril 2003 comme association nationale de race[49]. Le syndicat de race a mené une politique d'ouverture aux éleveurs néo-ruraux, ce qui a permis de multiplier le nombre d'adhérents (de 500 à 1 400 après la politique d'ouverture[45]).Types historiques de la race bretonne[modifier|modifier le code]Historiquement, un très grand nombre de chevaux différents portent ou ont porté le nom de « Breton », ce qui explique que les armées cherchant jadis des chevaux de selle vifs pour les officiers et deschevaux d'artilleriepour la traction des canons pouvaient se fournir entièrement sur les foires deMorlaixou dela Martyre[50]. Les différences entre les types de chevaux sont dues au sol et la nourriture : le littoral du Nord produit en général une nourriture abondante, tandis que les montagnes du centre offrent un environnement difficile pour l'élevage[51]. Le nom « cheval Breton » désigne cependant par défaut le cheval de trait dès leXIXesiècle[52]. Les aptitudes variées de la race sont liées aux structures agricoles bretonnes : jusqu'aux années 1900, un même cheval devait être apte à tracter laherseau pas dans les champs et à se rendre au marché autrotsur les routes[53]. Les croisements du Breton avec desPercherons, desBoulonnaiset desArdennaissont souvent des échecs, ces étalons reproducteurs massifs ne convenant pas à la taille réduite des juments bretonnes[8]. Officiellement, les haras nationaux, le syndicat de la race et la plupart des éleveurs ne distinguent désormais que deux types de chevaux Bretons : le trait et le postier. La différence de modèle s'explique par l'utilisation des chevaux, le trait Breton étant destiné à la traction lourde au pas (qui exige des chevaux un placement de l'encolure presque à l'horizontale), et le postier à la traction au trot (qui, au contraire, s'effectue avec l'encolure relevée)[54]. Les éleveurs Bretons mettent en avant les aptitudes mixtes de la race[53].Centre-Montagne[modifier|modifier le code]Également appelé « petit trait Breton » et historiquement issu des zones montagneuses, il s'agit de la plus petite des variétés de la race bretonne. Il est reconnu en 1927 parmi les types officiels de la race, avec le trait et le postier, et toise alors environ 1,40m. Il descend des bidets de montagne, et aurait survécu « parce qu'il y a toujours eu des éleveurs pour monter à cheval, dans la montagne »[55],[19]. Son exportation enItalieest à l'origine de la formation dutrait italien, ou T.P.R. (Tiro pesante e rapido)[56]: au cours desXIXeetXXesiècles, les agriculteurs italiens avaient tenté d'utiliser letrait belgepour améliorer leur cheptel local, mais la descendance s'est avérée trop lourde et lente pour le travail de traction demandé[57]. EnEspagne, le Centre-montagne est à l'origine de l'Hispano-Breton, issu du croisement entre des juments du nord duPortugalet de l'Espagne avec des étalons bretons, au début duXXesiècle. L'Hispano-Breton est reconnu comme race autochtone deCastilledepuis 1998[58]. Le Centre-Montagne a disparu de Bretagne dans les années 1980, du fait de la sélection pour la viande.Postier Breton[modifier|modifier le code]Article détaillé :Cheval en Bretagne.Postiers bretons dans une pâture àDaoulasLe type postier, « fleuron de la race »[59], est considéré comme « l'un des plus précieux patrimoines zoologiques français »[60], un symbole de la « réussite zootechnique »[58], et l'exemple le plus notoire de la réussite d'un croisement[61]. Son nom vient de son utilisation historique pour tirer les chariots des postes[10]. Ses ancêtres ont été largement utilisés par l'artillerie de laGrande Armée, et décrits comme une version allégée duSuffolk Punch, un cheval de trait deGrande-Bretagne[11]. La forte demande en chevaux de poste auXIXesièclepousse à des croisements avec des étalons normands et Percherons, faisant émerger un type dit « Trait Breton percheronisé »[19]et introduisant larobe grisedans la race[62].Le postier proprement dit est développé à la suite des croisements des juments du Léon avec letrotteur Norfolket leHackney, au début duXXesiècle[61], sous l'influence de quelques aristocrates et notables de la région inspirés par le succès des chevaux anglais[63]. Ces croisements sont surtout motivés par la demande militaire enchevaux d'artillerie, et suivent la mode d'époque pour la recherche du sang[3]. Le postier Breton se fait notamment connaître en 1905 grâce auconcours central hippique de Paris[3]. L'influence du trotteur Norfolk reste assez discrète, car selon Martial Cornic, il suffit d'une génération pour que le Norfolk-Breton retrouve ses caractères bretons[64].Il est plus léger et étendu dans ses allures que le trait[58]. Sesallurestrès soutenues lui permettent de tenir un train de10km/hen tirant le double de son poids[59]. Toisant environ 1,55m, il est élevé principalement dans le centre de la Bretagne. C'est un bon cheval d'attelage capable de réaliser des travaux de trait léger[11]. La sélection pour la viande fait que lorsque le succès de l'attelage pousse les éleveurs à sélectionner à nouveau des chevaux plus légers (années 1990), peu de différences existent encore entre le type postier et le type trait, tous deux élevés au poids[65]. Dans les années 2000, auharas national de Lamballe, des postiers bretons rigoureusement sélectionnés sont croisés avec des chevaux de sang légers (trotteursetPur-sangs), dans le but d'obtenir en troisième génération des chevaux postiers plus légers à réintégrer parmi la race bretonne[48], avec peu de succès[65]: les éleveurs voient naître des chevaux hybrides au profil convexe[16], ils ont le sentiment de perdre leur race[48].Trait Breton[modifier|modifier le code]Étalon breton de typelourd, ausalon international de l'agriculture.Le trait Breton est issu de croisements avec desArdennaiset desPercheronseffectués par les paysans pour leur travail agricole, afin d'obtenir des chevaux plus puissants, et aptes à tracter de pesants outils[66]. L'étalon « raceur » demi-Ardennais Naous, notamment, a eu une grande influence avant laPremière Guerre mondiale[67]. Le trait Breton est très fort en rapport avec sa taille, originellement élevé dans la zone côtière du nord de la Bretagne, versMerléac, il toise environ 1,60m. Ce type en a absorbé un autre, plus ancien et plus lourd, le « Grand breton », qui a servi d'améliorateur pour de nombreuses autres races de trait[10]. Désormais élevé presque essentiellement pour sa viande, le trait Breton forme le type le plus fréquent chez la race, et peut peser la tonne[58].Description[modifier|modifier le code]Étalon postier breton.Le cheval Breton est caractérisé par sa masse très imposante, donnant l'impression d'un cheval « excessivement éclaté dans ses deux bouts ». Ses membres courts le rendent « près de terre ». Il est très musclé aux épaules et aux cuisses[56]. Du fait des nombreux modèles de la race, la taille des animaux varie de 1,45mminimum à 1,70mpour les plus grands spécimens, bien que la moyenne se situe entre 1,55met 1,63m, pour un poids de 750kg[2],[68],[69]. Ce poids peut aisément atteindre la tonne pour les chevaux de boucherie[56].Standard morphologique[modifier|modifier le code]Article connexe :Morphologie du cheval.En France, le cheval breton doit, pour être admis à la reproduction, être conforme à un standard morphologique. Il existe officiellement deux types : le trait, le plus compact, et le postier, plus léger, plus étendu dans ses rayons et ses allures[69]. Le Postier est, de manière générale, plus réputé que le trait et se rapproche davantage ducheval de sang[25].Tête[modifier|modifier le code]Tête d'un Breton alezan crins lavés.La tête est courte et carrée, de volume moyen, au profil rectiligne (certaines lignées possèdent toutefois une tête camuse[68]) et au front large, de taille moyenne, bien proportionnée, avec des naseaux larges et bien ouverts, recherchée expressive et avec l’œil vif. Les oreilles sont petites et très mobiles, assez basses[10],[70],[68],[69].Avant-main, corps et arrière-main[modifier|modifier le code]L'encolure est généralement courte (mais recherchée longue), forte, large et très musclée, légèrement courbée et bien greffée. Le poitrail est très éclaté, la poitrine profonde, le garrot souvent écrasé et peu apparent. L'épaule, souvent courte (mais recherchée longue) et oblique, est attachée à un corps compact, au dos court, tendu, large, puissant et fort. Le cheval a du coffre et ses côtes sont arrondies. L'arrière-main est très puissante, dotée d'une croupe large, arrondie, et souvent double[10],[70],[56],[68],[69].Membres[modifier|modifier le code]Membres postérieurs d'un cheval bretonLes membres sont courts mais puissants, avec des jointures larges, des pieds bien formés et d'abondantsfanons[10],[70]. Les cuisses et les avant-bras sont très musclés, les canons courts et secs[68],[69]. Les genoux sont, par contre, relativement bas. Les membres antérieurs parfois mal appuyés peuvent donner aux chevaux une irrégularité d'allure et les faire billarder[56]. Ces membres courts donnent au cheval Breton un aspect ramassé, qui s'explique par son utilisation historique sur des exploitations au terrain accidenté, nécessitant une meilleure accroche que sur les terrains plats[71].Robes[modifier|modifier le code]Article connexe :Robe du cheval.Le Breton porte habituellement unerobealezane, souvent avec descrins lavés, mais son standard accepte aussi lebai, l'aubère, lerouan, lenoir, lebai-brunet lechocolat[69]. Si certaines encyclopédies affirment que legrisest accepté[10], ce n'est pas le cas selon la version du 26 mai 2011 du règlement du stud-book de race[69]. La raison s'explique sans doute par le fait que la robe grise est issue des croisements avec le Percheron[62]. Elle a été discriminée tout au long duXIXesiècle, au profit des robes foncées[72].L'alezan est la robe la plus fréquente.Rigolo de Feins, étalon national alezan brûlé auxcrins lavés, auharas national de LamballeVivaldi de St Fiacre, l'un des rares étalons derobe noireHistoriquement, la mode de la robe alezane a rendu le bai beaucoup moins fréquent[73]: dans les années 1970, les juges des concours se sont appliqués à écarter les sujets autres qu'alezans[16]. La raison est peut-être à chercher, ainsi que l'affirme un éleveur belge, dans les croisements effectués avec des chevauxArdennaisqui sont presque toujours de robe baie. Les éleveurs bretons ont cherché à éliminer la robe baie de leurs élevages, peut-être pour effacer cette particularité qui leur rappelle les croisements et le métissage[74]. L'alezan foncé ou brûlé et l'aubère foncé sont désormais particulièrement recherchés. La plupart des chevaux portent beaucoup demarques blanches, dont de hautes balzanes et une large liste en tête, dite « belle face »[68], en raison de la présence du gènesabinoparmi les ressources génétiques de la race. Toutefois, le stud-book tente désormais de limiter la présence du blanc. Le blanc a mauvaise réputation, la corne blanche des sabots est réputée moins solide et les poils blancs sur le ventre donneraient des maladies d'après certains éleveurs[16].Tempérament et entretien[modifier|modifier le code]Groupe de chevaux bretons àTrémazan, Finistère.Ce cheval est réputé robuste, rustique et travailleur, ni exigeant, ni lunatique, familier et gentil[1]. Malgré sa masse et ses membres courts, il possède des allures actives, et notamment un trot vif. Sa bonne résistance aux climats chauds est appréciée à l'exportation[70]. Lorsqu'en 1917 la création d'une race de chevaux de trait est préconisée auMaroc, le Breton est proposé pour l'importation et les croisements[75]. Il en est de même enAlgérieen 1913[76].Une particularité documentée du cheval Breton est celle de se nourrir d'ajoncs, au point de braver les piquants pour attraper de jeunes pousses au bord des fossés[77].Yann Brekilienrapporte même un proverbe populaire : « Cheval de jonc, cheval Breton », ajoutant que les paysans hachaient la plante pour en nourrir leurs chevaux au lieu d'utiliser l'avoine, et que les bêtes s'en accommodaient très bien[78].Allures[modifier|modifier le code]Malgré sa masse et ses membres courts, le Breton possède des allures actives, et notamment un trot vif[70].Le Breton a fait l'objet d'une étude visant à déterminer la présence de la mutation du gène DMRT3 à l'origine des allures supplémentaire : l'étude de 15 sujets a permis de confirmer l'absence de cette mutation chez tous les chevaux testés, ainsi que l'absence de chevaux présentant des allures supplémentaires parmi les sujets de la race[79].Sélection[modifier|modifier le code]Le poulain Dolmen, un bai très marqué de blanc, écarté du stud-book en raison de sa robe.Le syndicat des éleveurs du cheval breton a vocation à représenter la race, sélectionner et améliorer le cheptel, et rassembler les éleveurs et personnes concernées par le cheval breton[80]. En 2003, pour la sélection des animaux, son attention est portée sur lafertilitédes étalons[81]et la limitation desmarques blanches. Larobe pieest en effet interdite par le standard de race. La jument Dame de Pique et l'étalon Océanique ont toutefois transmis de grandes marques blanches à leur descendance, les éleveurs parlent même d'un« empoisonnement des robes »[82]. Les poulains dont lesbalzanesmontent au-dessus des articulations sont généralement vendus pour laboucherie, et lesmarques blanchesne doivent idéalement pas dépasser le dessus du sabot ni l'étoile en-tête[83]. Cette orientation a été incluse en 2009 au règlement du stud-book de la race, qui prévoit le refus des marques blanches en dehors de la tête et des membres, des balzanes dépassant la base du jarret et le canon, et de la liste prolongée par un ladre ou du blanc sur les naseaux et aux lèvres[69]. C'est ainsi que le poulain Dolmen, né le 13 avril 2013 avec du blanc étendu, a été écarté du stud-book de la race malgré l'inscription de ses deux parents et son identification en règle. Une pétition a été créée pour le faire accepter[84].Les éleveurs cherchent aussi à alléger le modèle postier pour le sortir du créneau hippophagique, et à l'adapter pour l'attelage de compétition et de loisir[30]. Les poulains issus d’insémination artificielleet de transfert d’embryon sont inscriptibles au stud-book[69]. Les poulains enregistrés peuvent être marqués d'unehermine, symbole de la Bretagne, sur le côté gauche de l'encolure[10],[69].Maladies génétiques[modifier|modifier le code]Articles détaillés :Épidermolyse bulleuse jonctionnelle létaleetMyopathie à stockage de polysaccharides.Le cheval breton peut être touché par diversesmaladies génétiques. Le gène récessif responsable de l'épidermolyse bulleuse jonctionnelle létaleest présent chez environ 14 % des chevaux de la race (en 2015). Cette maladie provoque la naissance de poulains dépourvus de peau à certains endroits du corps, qui meurent rapidement après la naissance. Un test génétique permet de la dépister et donc d'éviter le croisement de deux chevaux porteurs. Depuis 2004, le programme d’éradication mis en place par le syndicat d'élevage et les haras nationaux impose le testage systématique des étalons reproducteurs. La présence du gène a depuis reculé[85]. Le cheval breton peut également être porteur de lamyopathie à stockage de polysaccharides(PSSM), une maladie génétique dominante qui provoque une dégradation des muscles et des « coups de sang ». Aucune étude n'a été réalisée sur le cheptel français[86], cependant, une étude américaine réalisée en 2010 sur 51 chevaux bretons a révélé que 64 % d'entre eux étaient porteurs de la mutation responsable de la maladie[87].Utilisations[modifier|modifier le code]Les chevaux Bretons les plus lourds, comme ceux-ci, àCreyssac, restent majoritairement élevés pour leur viande.Le cheval Breton est historiquement un animal de travail, recherché par les militaires. Ses qualités lui ont valu d'être croisé pour améliorer d'autres races, et de faire naître desmules. Il possède désormais des capacités variées en raison des différents types de la race. Les plus petits et légers peuvent être utiliséssous la selleet pour un travail de trait léger et rapide, tandis que les plus lourds sont idéaux pourla traction lourdeet les travaux d'agriculture, bien qu'ils restent majoritairement élevés pour leur viande. La demande pour les loisirs reste assez faible et l'hippophagie constitue toujours le principal moteur économique de l'élevage[45].Production de viande[modifier|modifier le code]Article connexe :Cheval lourd.Le principal débouché du cheval Breton est la production deviande. Il est particulièrement apprécié des éleveurs en raison de sa rusticité et de sa croissance rapide, permettant de produire une viande de qualité en peu de temps[70], notamment à destination du marché italien, grand consommateur de jeune viande chevaline. Le syndicat de la race estime que le maintien de cette production est indispensable en dépit des controverses qu'elle suscite[88].Loisir et compétition[modifier|modifier le code]L'équipe bretonne sur laRoute du poissonde 2012.Différentes initiatives visent à positionner le cheval Breton dans le secteur des loisirs et de la « compagnie » en le recommandant pour la promenade montée et attelée, et dans lesclubs d'équitation(dans lesquels il peut aussi réaliser les travaux de cour et d'écurie, ou être monté pour lavoltige en cercle)[88]. L'essor de l'équitation de loisir et dutourisme équestre, attelé en particulier (la Bretagne étant l'une des régions où ce secteur est le plus développé, avec plus de 600kmde chemins balisés[59]), a permis à la race de trouver de nouveaux débouchés dans la traction deroulotteset de chariots bâchés. Le cheval Breton est également attelé dans des fêtes de villages et des défilés costumés, il est représenté dans nombre de fêtes bretonnes, mais aussi dans des spectacles à Paris[88],[89]. On le retrouve attelé à des calèches de promenade, ou pour des mariages et des réceptions[88].Contrairement à bien d'autres races de trait, le postier Breton a toujours été utilisé à la traction[90]. Ils peuvent s'essayer à l'attelage de compétition, secteur qui a très fortement progressé depuis 1995 avec des concours d'utilisation organisés par les haras nationaux français, et des concours ouverts aux jeunes chevaux de toutes les races, organisés par lasociété hippique françaiseet lafédération française d'équitation. Le cheval Breton dispute ses concours attelés sur quatre épreuves en général, la présentation et le dressage, le marathon, la maniabilité et la traction[88].Travail et entretien des espaces verts[modifier|modifier le code]Trait breton en démonstration delabourà la Fête du Cheval du Poney et de l'Âne, àRennes.Le cheval Breton est de retour au travail, restant une aide précieuse pour ledébardageforestier, les cultures maraîchères, et les passages minutieux entre les pieds devigne. La race est utilisée sur de petites exploitations[70], les légumiers de la « ceinture dorée », dans le Finistère nord, l'ont adopté dans leurs champs d'artichauts, dechoux-fleurset depommes de terre[89],[88]pour le binage, le battage et le transport des têtes de légumes : son utilisation permet de ne pas tasser le sol à l'approche de l'hiver[19]. De plus, lefumierproduit par le cheval est valorisé, au point que dans lesannées 1980, il rapporte davantage à la revente que ne coûte la nourriture de l'animal[91]. Ces chevaux recueillent aussi desalguessur les plages bretonnes, notamment dugoémonenpays Bigouden[89]. Le syndicat de race promeut son retour en ville, pour l'entretien des parcs, les travaux d'entretien et de voirie[88]. Depuis 2007, lefestival interceltique de Lorientemploie un trait Breton pour la collecte des déchets, l’expérience devant être étendue en 2011[92]. Une épicière dePluherlina créé une « équicerie » grâce à une roulotte aménagée et à Stourm, son postier Breton. L'attelage parcourt chaque jour les quinze kilomètres séparant Pluherlin etRochefort-en-Terre, afin de faire des livraisons à domicile[93]Une autre utilisation de la race est l'entretien des espaces verts par la consommation des végétaux[89], dans des zones de déprise agricole et deszones naturelles sensibles, grâce à sa rusticité. Le cheval Breton est testé dans les régions marécageuses, les dunes et les landes, ainsi qu'à l'estive avec d'autres herbivores. L'une des plus célèbres expériences concerne laforêt de Brocéliande[88].Croisements et production de mules[modifier|modifier le code]Article détaillé :Mule des Pyrénées.Le Breton est ou a été lui-même beaucoup utilisé en croisement avec d'autres races de chevaux. Il influence significativement lecheval canadien, puisque des membres de la race ont été envoyés enNouvelle-France(Canada) au cours duXVIIesiècle. Il est également utilisé pour croiser avec leFranches-Montagnessuisse, et d'autres races de trait lourd[10]. Après laSeconde Guerre mondiale, un étalon Breton influence letrait du Schleswig, en Allemagne[94]. Des Bretons sont envoyés en Inde pour produire desmules, et à l'élevage deSaharanpur, ils sont croisés avec l'étalonanglo-arabeMystère pour produire des chevaux carrossiers[95]. La race dutrait italienest issue de croisements avec des chevaux bretons, ce croisement est toujours autorisé par le stud-book italien[96].Le Breton donne aussi desmules, par croisement avec l'âne grand noir du Berryou lebaudet catalan. En Espagne, le trait Breton est à l'origine de l'Hispano-Bretón, cheval de trait majoritairement destiné à la production de viande[97].Diffusion de l'élevage[modifier|modifier le code]Article connexe :Élevage du cheval en France.Logo du syndicat des éleveurs du cheval breton.L'entrée ouest duharas national de Lamballe, avec deux chevaux Bretons au travail.Le Breton est une race transfrontière à diffusion internationale[98]. Par ailleurs, l'ouvrageEquine Science(4eédition de 2012) le classe parmi les races de chevaux de trait peu connues au niveau international[99].En Bretagne et en France[modifier|modifier le code]C'est l'un des chevaux de trait français dont les effectifs sont les plus importants[8], fin 2012, on compte environ 15 000 chevaux et 3 200 éleveurs[100]. Avec 4 043 immatriculations en 2007, le Breton a représenté 28 % du total des chevaux de trait[59]. Il connaît aussi une forte progression puisqu'en 2001, les 3 418 immatriculations de la race représentaient alors 19 % des chevaux de trait[2]. Le nombre d'éleveurs a lui aussi progressé, passant de 2599 en 2001 à 2811 en 2002[2]. En 2010, il tend à se stabiliser, avec 4 037 nouvelles immatriculations en 2008 contre 4 053 en 2007, accompagnées d'une très légère diminution des juments saillies, des étalons en activité et du nombre d'éleveurs[1],[Note 2]L'expansion du cheval Breton est comparable à celle duComtois, avec un doublement des effectifs entre lesannées 1990et le début desannées 2000. Il est, comme ce dernier, adapté à la moyenne montagne, de robe principalement alezane, et élevéde manière extensiveà destinationde la boucherie[90]. En 2023, le Breton est néanmoins considéré par l'INRAEcomme une race chevaline française menacée d'extinction[101].Année1992199620002004200520062007200820092010201120122013Nombre depoulinagesen France[1].1772222132863508365338814075406438963816352432853011Pouliche bretonne baie née à l'élevage de Kerloc, àSaint Fiacre.Si la population de la race reste réduite en comparaison avec les chevaux de selle populaires, elle a été remarquée par les chercheurs pour sa richediversité génétique[102]. En 2002, 63 % des étalons sont stationnés en dehors de Bretagne[8]. Les anciennes restrictions d'enregistrement n'ont pas empêché l'élevage de se répandre dans toute la France et autour du monde[12], notamment enItalieet auJapon. La plupart des naissances hors Bretagne ont lieu en moyenne montagne, dans leMassif centralet lesPyrénées[90]. Toutes races confondues, la Bretagne recèle environ 50 000 chevaux[59].Les restrictions ont posé un problème de perte génétique lors de l'enregistrement des poulains Bretons auregistre généalogique, car pendant longtemps, seuls les animaux nés dans le berceau d'origine, la Bretagne historique, pouvaient y figurer[8]. Désormais, la notion de berceau n'existe plus, et tous les chevaux issus de parents eux-mêmes Bretons sont automatiquement inscriptibles au registre d'élevage[103]. Une politique d'enregistrement à titre initial a aussi permis une forte augmentation des effectifs de la race[1].Le cheval Breton reste élevé principalement auharas national de Lamballe(qui effectue une présentation de ses animaux chaque année[104]), à celui d'Hennebont(la parade annuelle de ses étalons attire des milliers de visiteurs[105]) et autour deLa Roche-sur-Yon[12]. En 2008, la grande majorité des éleveurs sont localisés en Bretagne, les autres enAuvergne,Midi-Pyrénées,Aquitaine,Pays de la LoireetLimousin[106]. Le cheval Breton est visible chaque année ausalon du cheval de Pariset ausalon international de l'agriculture. Le syndicat de la race compte 1 200 adhérents en 2002[89].Dans le reste du monde[modifier|modifier le code]Ce cheval continue d’être exporté, pas seulement pour le marché de la viande puisqu'au début duXXIesiècle, une cinquantaine d'étalons reproducteurs partent chaque année améliorer des souches locales, ou pour le travail agricole. LeBrésilimporte un ou deux chevaux chaque année, et constitue le seul pays à posséder unregistrede la race bretonne hors de la France. L’Espagne, l'Italie et l'Afrique du Nord sont les trois autres principaux importateurs[107]. AuJapon, un recensement de la FAO fait état de 1 115 Bretons présents dans le pays en 1999[108].Cheval Breton dans la culture[modifier|modifier le code]Jean-Jacques Séité,débardeurprofessionnel, et son hongre breton Oscar lors d'une démonstration de maniabilité à la voix.Le cheval Breton est incontestablement unpatrimoine culturel[100]. La culture marchande historique de la Bretagne a disparu avec la motorisation[25], mais un attachement profond reste entre éleveurs, utilisateurs, et chevaux bretons[50], teinté de nostalgie de l'âge d'or de ce cheval de trait[25]. Les habitants témoignent d'un certainrégionalismeà travers l’intérêt pour leurs chevaux, leurs concours d'élevages, et les foires qui attirent un public nombreux[89]. De même, le marché touristique européen contribue à une folklorisation des chevaux et des paysans bretons[109]. Cet attachement est proche d'une « parenté totémique » : l'éleveur de Bretons emploie par exemple le « nous » pour parler de ses chevaux et de lui, ou de l'ensemble des éleveurs et chevaux de son pays[110].L'attachement des paysans bretons pour le cheval de leur pays ainsi que le statut de celui-ci sont largement mis en scène dansLe Cheval d'orgueildePierre-Jakez Hélias,adapté au cinémaparClaude Chabrolen 1980[111]. D'autres œuvres parlent de chevaux bretons sans en faire leur sujet principal,Honoré de Balzacen mentionne ainsi dans son romanLes Chouans[112].La peintreRosa Bonheura eu plusieurs fois l'occasion de travailler sur des chevaux Bretons[113]. La place deCallacs'est vue offrir par le ministère de la culture en 1958 une statue du célèbre étalon reproducteur Naous, réalisée à la fin de la vie du cheval. En 1983, la mairie deLandivisiaua érigé la statue d'un cheval Breton à l'endroit où se tenait jadis son célèbre marché au chevaux, qui attirait de très nombreuxmaquignons[67].Le domaine deMénez-Meur, dans lesmonts d'Arrée, accueille une maison du cheval Breton[114]. En 1998, Jean-Maurice Colombel créé une exposition autour du cheval et des hommes, qui a été vue àRennes,Vannes,VitréetHennebont, entre autres, jusqu'en 2003[115]. Un postier Breton, Naer (signifiant « Serpent », en Breton), joue avec son dresseur Laurent Jahan un numéro de combat médiéval, présenté notamment àcheval Passion[116]. Il s'est taillé depuis une solide réputation de cheval de spectacle, et tourne dans toute l'Europe et à New-York[117].Notes et références[modifier|modifier le code](en)Cet article est partiellement ou en totalité issu de l’article de Wikipédia en anglais intitulé«Breton horse»(voir la liste des auteurs).Notes[modifier|modifier le code]↑La plupart des hippologues s'accordent cependant pour affirmer que ce type de croisement très ancien, s'il a pu avoir lieu, n'a généralement pas laissé de grandes traces sur les chevaux, et se révèle plus proche d'une légende populaire que d'une vérité historique.↑Le terme d'« éleveur » s'applique à toute personne en possession d'au moins une jument mise à la reproduction.Références[modifier|modifier le code]↑abcdeetfSyndicat des éleveurs du cheval Breton, «Le trait Breton», Les haras nationaux,août 2014(consulté le15 avril 2015).↑abcdeteDal'Secco 2006,p.18.↑abcdefgethLizet 2003,p.58.↑Edwards 2006,p.200.↑(en)«Breton», Oklahoma State University(consulté le6 janvier 2008).↑aetbCegarra 1999,p.84.↑Houël 1842,p.240-241.↑abcdefetgCollectif 2002,p.212.↑Marcel Girault,Attelages et charrois au Moyen Âge, coll. Colporteur, Nîmes, C. Lacour, 1992,p.78.↑abcdefghijetkBongianni 1988,p.90.↑abcdeetfEdwards 1994,p.266-267.↑abetcHendricks 1994,p.81-82.↑E. Quittet et Henri Blanc, 1974, dansLizet 1989,p.260.↑Houël 1842,p.32-33.↑aetbLizet 2003,p.53.↑abcetdLizet 2003,p.68.↑aetbHouël 1842,p.11.↑Journal des haras, chasses, et courses de chevaux, des progrès des sciences zooïatriques et de médecine comparée, Volume 7, Parent, 1837,p.232[lire en ligne].↑abcdeetfCegarra 1999,p.85.↑Dominique Auzias, Anne-Sophie Fesselier-Haguet, Jean-Paul Labourdette et Delphine Cohen,Le Petit Futé Morbihan, Petit Futé, 2009,(ISBN274692546Xet9782746925465),p.126.↑Cornic 1897,p.75.↑Pierre Jakez Hélias,Le cheval d'orgueil: mémoires d'un Breton du pays bigouden, coll. Terre humaine: Civilisations et sociétés, Plon, 1995(ISBN2259183964et9782259183963), p. présentation éditeur.↑Mavré 2004,p.19; 98.↑Paul Diffloth,Zootechnie. Zootechnie générale: production et alimentation du bétail. Zootechnie spéciale; cheval, âne, mulet, J.-B. Baillière et fils, 1904,p.306.↑abcetdLizet 2003,p.55.↑Lizet 2003,p.56.↑aetbLizet 1989,p.260.↑abcetdLizet 2003,p.59.↑Annales de géographie: bulletin de la Société de géographie, Volume 19, Librairie Armand Colin, 1966, p; 225-226.↑aetbPierre Durand, Guy le Corfec, Isabel Connan, Jean Michel Quere et André Plessis, «Le Postier», surLe cheval Breton, Syndicat des Éleveurs du cheval Breton(consulté le22 août 2011).↑Corre 1993,p.64.↑Pierre Durand, Guy le Corfec, Isabel Connan, Jean Michel Quere et André Plessis, «Les leaders de la race», surLe cheval Breton, Syndicat des Éleveurs du cheval Breton(consulté le22 août 2011).↑Mavré 2004,p.161.↑Paul Vidal de La Blache et Lucien Louis Joseph Gallois,Géographie universelle, Volume 6, A. Colin, 1948,p.223.↑abcetdLizet 2003,p.60.↑Annick Audiot,Races d'hier pour l'élevage de demain, Espaces ruraux, Éditions Quae, 1995,(ISBN2738005810et9782738005816),p.87[lire en ligne].↑Auzias et Labourdette 2009,p.26.↑aetbLizet 2003,p.61.↑aetbLizet 2003,p.64.↑abcetdLizet 2003,p.65.↑Lizet 2003,p.62.↑Lizet 2003,p.63.↑Catherine Bastide-Costes, «Chevaux de trait français : un trésor vivant»,Cheval Magazine,no390,‎mai 2004,p.61.↑Colombel et Simon 2003,p.34.↑abetcLizet 2003,p.66.↑aetbCatherine Bastide-Costes, «Chevaux de trait français : un trésor vivant»,Cheval Magazine,no390,‎mai 2004,p.62-63.↑«Nos lourds au zoo ?», surwww.chevalmag.com,Cheval Magazine,2 février 2004(consulté le3 juillet 2020).↑abetcLizet 2003,p.67.↑Pierre Durand, Guy le Corfec, Isabel Connan, Jean Michel Quere et André Plessis, «Un Syndicat à votre écoute», surLe cheval Breton, Syndicat des Éleveurs du cheval Breton(consulté le22 août 2011).↑aetbPierre Durand, Guy le Corfec, Isabel Connan, Jean Michel Quere et André Plessis, «Histoire», surLe cheval Breton, Syndicat des Éleveurs du cheval Breton(consulté le22 août 2011).↑Houël 1842,p.38-39.↑Houël 1842,p.25.↑aetbMavré 2004,p.37.↑Mavré 2004,p.36.↑Lizet 1989,p.254.↑abcdeteBataille 2008,p.147.↑Edwards 1994,p.258.↑abcetdBataille 2008,p.148.↑abcdeteAuziaset al.2010,p.74.↑Bataille 2008,p.145.↑aetbMavré 2004,p.22.↑aetbBataille 2008,p.146.↑Lizet 2003,p.57.↑Cornic 1897,p.31.↑aetbMavré 2004,p.35.↑Rochard 1995.↑aetbBernadetteLizet,« Les chevaux bretons statufiés : France Mission du patrimoine ethnologique », dansLa bête noire: à la recherche du cheval parfait, Éditions MSH,1989(ISBN2-7351-0317-X,lire en ligne),p.107.↑abcdeetfBataille 2008,p.149.↑abcdefghietjPatrick Falcone, «REGLEMENT DU STUD BOOK DU CHEVAL BRETON», surharas-nationaux.fr,26 mai 2011(consulté le28 août 2011).↑abcdefetgDraper 2006,p.50.↑Carole Topart du syndicat d'élevage du trait du Nord dans une interview de l'articleCatherine Bastide-Costes, «Chevaux de trait français : un trésor vivant»,Cheval Magazine,no390,‎mai 2004,p.60.↑Cornic 1897,p.95-96.↑Colombel et Simon 2003,p.29.↑Mavré 2004,p.160.↑Victor Piquet,Le Maroc: géographie, histoire, mise en valeur, Colin, 1917,p.89.↑M. L. van Scherpenzeel-Thim,Algérie: voyage d'exploration en Algérie, Vromant, 1913,p.51.↑Revue du Service de l'intendance militaire…, Volume 17, 1904,p.117-118.↑Yann Brekilien,La vie quotidienne des paysans en Bretagne auXIXesiècle, coll. Vie quotidienne, Hachette, 1966,p.62.↑(en)M.Promerová, L. S.Andersson, R.Juraset M. C. T.Penedo, «Worldwide frequency distribution of the ‘Gait keeper’ mutation in the DMRT3 gene»,Animal Genetics,vol.45,no2,‎1eravril 2014,p.274–282(ISSN1365-2052,DOI10.1111/age.12120,lire en ligne, consulté le17 décembre 2017).↑«Un syndicat à votre écoute», Syndicat des éleveurs du cheval breton(consulté le16 février 2012).↑Colombel et Simon 2003,p.67.↑Colombel et Simon 2003,p.68.↑Colombel et Simon 2003,p.69.↑«Problème de couleur»,Cheval Magazine,no501,‎août 2013,p.42.↑S. Danvy et B. Dumont St Priest, «L'épidermolyse bulleuse jonctionnelle», Haras nationaux,janvier 2015.↑Amélie Tsaag Valren, «Maladies génétiques : les connaître pour les prévenir»,Cheval Savoir,no62,‎avril 2015(lire en ligne).↑(en)J. D. Baird, S. J. Valberg, S. M. Anderson, M. E. McCue et J. R. Mickelson, «Presence of the glycogen synthase 1 (GYS1) mutation causing type 1 polysaccharide storage myopathy in continental European draught horse breeds»,Veterinary Record,no167,‎2010,p.781-784(DOI10.1136/vr.c3447).↑abcdefgethPierre Durand, Guy le Corfec, Isabel Connan, Jean Michel Quere et André Plessis, «Les utilisations», surLe cheval Breton, Syndicat des Éleveurs du cheval Breton(consulté le23 août 2011).↑abcdeetfCollectif 2002,p.213.↑abetcDal'Secco 2006,p.19.↑Jean Trévien dans une interview accordée àL’Éperonen 1980,p.50, propos rapportés parCegarra 1999,p.85.↑«Utilisation du Cheval Breton pour la collecte des déchets», Les haras nationaux,19 août 2010(consulté le28 août 2011).↑«Épicerie-roulotte. Une affaire qui roule en Morbihan», surL'attelage français,15 septembre 2010(consulté le3 septembre 2011).↑Edwards 1994,p.275.↑Edwards 1994,p.165.↑(en)R.Mantovani1, G.Pigozziet G.Bittante,« The Italian Heavy Draught Horse breed: origin, breeding program, efficiency of the selection scheme and inbreeding », dansConservation genetics of endangered horse breeds, Wageningen Academic Pub,2005, 187p.(ISBN9076998795et978-90-76998-79-4,ISSN0071-2477,DOIhttps://dx.doi.org/10.3920/978-90-8686-546-8,lire en ligne),chap.116 de EAAP publication.↑(es)Collectif,Estudio y caracterizacion del sectór equino en España, Ministerio de Agrícultura, Pesca y Alimentacíon,décembre 2003(lire en ligne),p.183.↑(en)Rupak Khadka, «Global Horse Population with respect to Breeds and Risk Status», Uppsala, Faculty of Veterinary Medicine and Animal Science - Department of Animal Breeding and Genetics,2010.↑(en)Rick Parker,Equine Science,Cengage Learning,13 janvier 2012,4eéd., 608p.(ISBN1-111-13877-X),p.63..↑aetb«Un « vieux » cheval de retour», Agrisalon,21 décembre 2012(consulté le12 septembre 2013).↑«La survie de nos races d’équidés français menacée», surCheval Magazine,20 juin 2023(consulté le11 juillet 2023).↑(en)«Studies from Complutense University update current data on animal science»,Life Science Weekly,‎4 novembre 2008,p.337.↑Pierre Durand, Guy le Corfec, Isabel Connan, Jean Michel Quere et André Plessis, «Zone d'élevage», surLe cheval Breton, Syndicat des Éleveurs du cheval Breton(consulté le23 août 2011).↑«Présentation des Etalons de Trait Breton – Haras national de Lamballe, le 5 mars 2011», Les haras nationaux,4 mars 2011(consulté le28 août 2011).↑«Parade réussie, sous le soleil breton !», Les haras nationaux,14 février 2011(consulté le28 août 2011).↑Pierre Durand, Guy le Corfec, Isabel Connan, Jean Michel Quere et André Plessis, «Répartition des élevages de bretons en 2008», surLe cheval Breton, Syndicat des Éleveurs du cheval Breton(consulté le23 août 2011).↑Nathalie Pilley-Mirande, «Les traits français dans le monde»,Cheval Magazine,no371,‎octobre 2002,p.62-65.↑(en)«Breton/Japan», Domestic Animal Diversity Information System of the Food and Agriculture Organization of the United Nations (DAD-IS)(consulté le13 décembre 2015).↑Lizet 2003,p.69.↑Sergio Dalla Bernardina,L'éloquence des bêtes: quand l'homme parle des animaux, coll. Traversées, Éditions Métailié, 2006,(ISBN2864245701et9782864245704),p.144.↑TF1, «\"Le Cheval d'orgueil\", le film», L'Ouest en mémoire (INA),3 juin 1980(consulté le29 juillet 2010).↑« C'était une jeune femme assise en travers sur un petit cheval breton, qu'elle mit au galop pour arriver promptement auprès de la troupe des Chouans en y apercevant le jeune homme » :Honoré de Balzac,Les Chouans, phonereader, 2003,(ISBN2848541334et9782848541334),p.23.↑Anna Elizabeth Klumpke,Rosa Bonheur, E. Flammarion, 1909,p.431.↑Alain Stéphan,Guide du Finistère, éditions Jean-paul Gisserot, 2004,(ISBN2877477363et9782877477369),p.57.↑Colombel et Simon 2003,p.5.↑«Le charme des crinières d'or 2010», Cheval Magazine(consulté le28 août 2011).↑Charlotte Clergeau, «Une légende bretonne sur les planches»,Cheval Magazine,no501,‎aout 2013,p.52-53.Annexes[modifier|modifier le code]Sur les autres projets Wikimedia :Breton (cheval), surWikimedia Commonsbreton,sur leWiktionnaireArticles connexes[modifier|modifier le code]Cheval de traitHaras national de LamballeListe des races équines de FranceLiens externes[modifier|modifier le code]Notice dans un dictionnaire ou une encyclopédie généraliste:Gran Enciclopèdia CatalanaSite officiel du Syndicat des Éleveurs de Chevaux BretonsLe règlement français du Stud-Book de la race[DAD-IS](en)«Breton / France (Horse)», Domestic Animal Diversity Information System of the Food and Agriculture Organization of the United Nations (DAD-IS)(consulté le18 octobre 2020)Bibliographie[modifier|modifier le code]: document utilisé comme source pour la rédaction de cet article.LouisMolletEugène NicolasGayot,La connaissance générale du cheval: études de zootechnie pratique, avec un atlas de 160 pages et de 103 figures, Didot,1861, 722p.(lire en ligne).Éphrem Houël,Traité complet de l'élève du cheval en Bretagne, E. Tostain,1842(lire en ligne).J. A.Barral,Journal d'agriculture pratique,vol.1, Librairie agricole de la maison rustique,1859(lire en ligne).[Cornic 1897]MartialCornic,Le cheval en Bretagne, Landerneau, Desmoulins,1897.Ouvrage rare disponible à la bibliothèque des champs libres à Rennes, cote 91866 FB[Saint-Gal de Pons 1931]Antoine-AugusteSaint-Gal de Pons,Les Origines du cheval breton, A. Prud'homme,1931, 292p.Jean Yves MarieMoysan,La Sélection du cheval breton par les épreuves..., impr. de R. Foulon,1941, 76p.PhilippeLacombe,chap.23 de Histoire & anthropologie« Corps, cultures et techniques : entre tradition et modernité », dansCorps et sociétés, L'Harmattan,2001(ISBN9782747502931)MarcelMavré,Attelages et attelées : un siècle d'utilisation du cheval de trait, France Agricole Éditions,2004, 223p.(ISBN9782855571157,lire en ligne).JudithDraper,Le grand guide du cheval : les races, les aptitudes, les soins, Éditions de Borée,2006, 256p.(ISBN9782844944207,lire en ligne).DominiqueAuziaset Jean-PaulLabourdette,Le Petit Futé Finistère, Petit Futé,2009,13eéd., 334p.(ISBN9782746925687).DominiqueAuzias, CarolineMichelot, Jean-PaulLabourdetteet DelphineCohen,La France à cheval, Petit Futé,2010, 227p.(ISBN9782746927827).Études universitaires[modifier|modifier le code]YvonLe Berre, «Les grandes étapes de la création du cheval Breton»,Ethnozootechnie,no30,‎1982,p.15-26(ISSN0397-6572)Bernadette Lizet,La bête noire: à la recherche du cheval parfait : France Mission du patrimoine ethnologique, Éditions MSH,1989, 341p.(ISBN2-7351-0317-X,lire en ligne).JoelleCorre,Landivisiau, capitale du cheval Breton auXXesiècle, Brest, Mémoire d'histoire contemporaine - université de Bretagne occidentale,1993MarieCegarra,L'animal inventé: ethnographie d'un bestiaire familier, L'Harmattan,1999, 189p.(ISBN9782738481344).Jacques Mulliez,Le cheval breton auxXVIIeetXVIIIesiècles : Actes des conférences 1990, Rennes, Université des Enclos et des Monts d'Arrée - Presses universitaires de Rennes,2000,p.82-97BernadetteLizet, «Mastodonte et fil d'acier. L'épopée du cheval breton»,La ricerca folklorica Retoriche dell'animalità. Rhétoriques de l'animalité,no48,‎2003,p.53-70(lire en ligne)Encyclopédies de races[modifier|modifier le code][Bongianni 1988](en)MaurizioBongianni(trad.de l'italien par Ardèle Dejey),« Breton », dansSimon & Schuster's guide to horses & ponies of the world, New-York, Simon & Schuster, Inc.,1988, 255p.(ISBN0-671-66068-3et9780671660680,OCLC16755485,lire en ligne),p.89.(en)Elwyn HartleyEdwards,The Encyclopedia of the Horse, New York, Dorling Kindersley,1994,1reéd.(ISBN1564586146).(en)BonnieHendricks,International Encyclopedia of Horse Breeds, University of Oklahoma Press,1994(ISBN978-0-8061-3884-8).Ouvrage universitaire ayant nécessité des recherches de terrainCollectif,Chevaux et poneys, Éditions Artemis,2002, 128p.(ISBN978-2-844160256,lire en ligne).EmmanuelleDal'Secco,Les chevaux de trait, Éditions Artemis,2006, 119p.(ISBN9782844164599,lire en ligne).Elwyn HartleyEdwards,Les chevaux, De Borée,2006, 272p.(ISBN9782844944498).Lætitia Bataille,Races équines de France, France Agricole Éditions,2008, 286p.(ISBN9782855571546,lire en ligne).[Bataille et Tsaag Valren 2017]Lætitia Batailleet Amélie Tsaag Valren,Races équines de France,Paris, Éditions France Agricole,janvier 2017,2eéd.(1reéd.2008), 304p.(ISBN2-85557-481-1,OCLC971243118,BNF45194192).Ouvrages et articles régionaux[modifier|modifier le code][Alle 2002]GérardAlle(ill.Gilles Pouliquen),Le cheval breton au travail, Coop Breizh,2002, 176p.(ISBN9782843461699)[Barbié de Préaudeau 1994]Philippe Barbié de Préaudeau (photogr.Yvon Le Berre),Haras de Bretagne,Édilarge,1994, 34p.(ISBN2-7373-1330-9).[de Beaulieu 2022]François de Beaulieu (préf.Jean-Luc Maillard),Les races bretonnes : Une histoire bien vivante,Rennes,Éditions Apogéeetécomusée de la Bintinais,novembre 2022, 191p.(ISBN978-2-84398-776-2,OCLC1368023950).[Colombel 2003]Jean-MauriceColombelet FrançoisSimon,Des chevaux et des hommes Bretons, Rennes, Éditions La Part Commune,2003, 141p.(ISBN9782844180506).[Le Berre 1999]YvonLe Berre,Un siècle de cheval breton, Association Le Breton et son cheval,1999, 64p.(ISBN9782951482104)[Le Berre 2003]YvonLe Berre,Les quatre saisons du cheval breton, Cloître éd.,2003, 74p.(ISBN9782910981983)[Le Gall 2002]M.Le Gall, «Du cheval en Bretagne au cheval breton»,Kreiz breizh,no4,‎2002,p.12-20[Rochard 1995]Y.Rochard, «les haras de Lamballe»,Ar Men,no72,‎décembre 1995Articles de vulgarisation[modifier|modifier le code]A.Fougères, «Le Breton : le roi des lourds»,Cheval pratique,no7,‎1990,p.38-41F.Racic, «Le Breton»,Atout cheval,no4,‎1998,p.81-85F.Racic, «Le breton...comme ils l'imaginent»,Atout cheval,no17,‎1999,p.72-77«Le breton : la marque de l'hermine»,Attelages magazine,noHors Série 2,‎2002,p.38-41A.Puig, «Le breton dans tous ses états»,Sabots,no1,‎2002,p.33-35YvonLe Berre, «Le breton»,Sabots,no8,‎2004,p.38-39A.Poirier, «Corlay, cœur breton»,Of course,no10,‎2005,p.68-71v·mRaces de chevaux françaisesetélevage du cheval en FranceRaces dechevaux de traitArdennaisAuxoisBoulonnais(dontArabo-boulonnais, Grand boulonnais etMareyeur)Breton(dontCentre-Montagne,Postier BretonetTrait Breton)Cob normandComtoisPercheron(dont Diligencier et Trait)Poitevin mulassierTrait du NordRaces deselle, desport, et miniatureAnglo-arabe françaisAnglo-normandAutre que Pur-sang(dontCheval de Corlay)Cheval crèmeCheval miniature françaisPoney français de selleSelle françaisTrotteur françaisRaces de territoireCheval d'AuvergneCamargueCastillonnaisCheval corseCheval du Vercors de BarraquandHensonMérensLandaisPottokPopulations en attente de reconnaissanceCheval de MegèveCheval de MiquelonCheval des MarquisesFusionnées avec le Selle françaisAngevinAnglo-breton(dontConquetetLéon)Anglo-poitevinCharentaisCharolaisDemi-sang d'AuvergneDemi-sang de la DombesDemi-sang du CentreDemi-sang des CharentesVendéenFusionnées avec le PercheronAugeron(dont Caennais et Virois)Berrichon(dont Cheval brennou)BourbonnaisNivernaisTrait de la LoireTrait de Saône-et-LoireTrait du MaineAbsorbées par le BoulonnaisBourbourienCauchoisTrait picardTypes et races disparusArtésienBidet(dontBidet bretonetCheval du Morvan)BourguignonBrandinCarrossier noir du CotentinCarrossier normandCheval de BresseCheval de RochefortCheval limousinCheval lorrainCheval nain d'OuessantCheval navarrinCheval solognotEygueHaguardMerleraultPoney de NoirmoutierTrait de la côte vendéennev·mCheval en BretagneGénéralités et compétitionsCheval dans la culture bretonneÉquitation en BretagneCeltik JumpEquibreizhÉquipondiRaces localesBretonCheval de CorlayBidet bretonPôles équestres et hippiquesHaras national d'HennebontHaras national de LamballeÉquipôle de CorlayÉquipôle du pays de LandivisiauStade équestre du Val PoréeCavaliers célèbresJacques CariouDominique d'EsméDenis Le GuillouÉlodie Le LabourierChevaux célèbresCorlayDexter Leam PondiFirst de Launay*HNQuickly de KreiskerQuorida de TrehoHippodromesL'AubletteLa BaieLa Baie du KernicLe Bel-OrmeLa Belle-ÉtoileLes BruyèresCalouëtCanoLa ChausséeCroas-al-LeuriouLa Grande-MarcheLa HattaieKernivinenKerretLangolvasMallevilleMarvilleMontbouryPenalanLe Petit-ParisPlage Saint-SieuPré-NavalQuenropersLe RestoRiveSaint-EfflamSaint-Jean-des-PrésLes VélizéesVitré-Saint-ÉtienneTraditions, toponymes et cultureCheval MalletRoi Marc'hMorvarc'hMorvarc'h Argol(sculpture)Le Cheval d'orgueil(livre)Le Cheval d'orgueil(film)Le Cheval couchéPortail équestrePortail de l’élevagePortail de la BretagneCet article est reconnu comme «article de qualité» depuis saversion du 28 septembre 2011(comparer avec la version actuelle).Pour toute information complémentaire, consulter sapage de discussionet levote l'ayant promu.La version du 28 septembre 2011 de cet article a été reconnue comme «article de qualité», c'est-à-dire qu'elle répond à des critères de qualité concernant le style, la clarté, la pertinence, la citation des sources et l'illustration.modifier|discuterThème de qualité10 articlesÉlevage du cheval en France: chevaux de traitArdennais (cheval)Auxois (cheval)Boulonnais (cheval)Breton (cheval)Cob normandComtois (cheval)PercheronPoitevin mulassierTrait du NordCes articles composent un thème reconnuthème de qualité.Pour toute information complémentaire, consulter la boîte déroulante.JalonsDateProcessusRésultat8 juillet 2012Proposition TdQ29 juillet 2012Promotion AdQPoitevin mulassierpromu AdQ22 août 2012Promotion TdQPromotion avec 10 AdQCe document provient de «https://fr.wikipedia.org/w/index.php?title=Breton_(cheval)&oldid=219231696».Catégories:Cheval de traitCheval à sang froidPoste aux chevauxRace chevaline élevée pour la viandeRace chevaline originaire de BretagneCatégories cachées :Article utilisant une InfoboxPortail:Zoologie/Articles liésPortail:Biologie/Articles liésPage utilisant un sommaire limitéCatégorie Commons avec lien local différent sur WikidataPage utilisant P1296Page pointant vers des bases externesPage pointant vers des dictionnaires ou encyclopédies généralistesPortail:Monde équestre/Articles liésPortail:Élevage/Articles liésPortail:Agriculture et agronomie/Articles liésProjet:Biologie/Pages liéesPortail:Bretagne/Articles liésPortail:France/Articles liésPortail:Europe/Articles liésPortail:Bretagne/Articles liés directementBon article en anglaisArticle de qualité\n"
     ]
    }
   ],
   "source": [
    "import random\n",
    "from requests.exceptions import RequestException\n",
    "from urllib.parse import urlparse, urljoin\n",
    "\n",
    "\n",
    "class HttpRequester:\n",
    "    def __init__(self, user_agents: list):\n",
    "        self.user_agents = user_agents\n",
    "\n",
    "    def _get_random_user_agent(self):\n",
    "        return random.choice(self.user_agents)\n",
    "\n",
    "    def make_request(self, url: str, timeout: int = 10, retries: int = 3):\n",
    "        headers = {'User-Agent': self._get_random_user_agent()}\n",
    "        for _ in range(retries):\n",
    "            try:\n",
    "                response = requests.get(url, headers=headers, timeout=timeout)\n",
    "                response.raise_for_status()\n",
    "                return response.text\n",
    "            except RequestException:\n",
    "                continue\n",
    "        raise RequestException(f\"Failed to retrieve {url} after {retries} attempts.\")\n",
    "\n",
    "    def get_soup(self, url: str):\n",
    "        return BeautifulSoup(self.make_request(url), 'html.parser')\n",
    "\n",
    "    def get_title(self, soup: BeautifulSoup):\n",
    "        return soup.title.text if soup.title else 'No title found'\n",
    "\n",
    "    def get_h1_list(self, soup: BeautifulSoup):\n",
    "        return [h1.get_text(strip=True) for h1 in soup.find_all('h1')]\n",
    "\n",
    "    def get_img_links(self, soup: BeautifulSoup, url: str):\n",
    "        return [urljoin(url, img['src']) for img in soup.find_all('img') if img.get('src')]\n",
    "\n",
    "    def get_main_txt(self, soup: BeautifulSoup):\n",
    "        main = soup.find('main')\n",
    "        return main.get_text(strip=True) if main else 'No main text found'\n",
    "\n",
    "    def get_links(self, soup: BeautifulSoup, url: str):\n",
    "        return list({urlparse(urljoin(url, a['href'])).netloc for a in soup.find_all('a') if a.get('href')})\n",
    "\n",
    "    \n",
    "def remove_superfluous_spaces(text: str) -> str:\n",
    "    return ' '.join(text.split())\n",
    "\n",
    "# User agents\n",
    "user_agents = [\n",
    "    \"Mozilla/5.0 (Windows NT 10.0; Win64; x64) AppleWebKit/537.36 (KHTML, like Gecko) Chrome/86.0.4240.183 Safari/537.36\",\n",
    "    \"Mozilla/5.0 (Windows NT 10.0; Win64; x64; rv:91.0) Gecko/20100101 Firefox/91.0\"\n",
    "]\n",
    "\n",
    "url = \"https://fr.wikipedia.org/wiki/Breton_(cheval)\"\n",
    "http_requester = HttpRequester(user_agents)\n",
    "\n",
    "# Récupérer la page html\n",
    "soup = http_requester.get_soup(url)\n",
    "\n",
    "# Récupére les infos\n",
    "title = http_requester.get_title(soup)\n",
    "h1_list = http_requester.get_h1_list(soup)\n",
    "img_list = http_requester.get_img_links(soup, url)\n",
    "link_list = http_requester.get_links(soup, url)\n",
    "main_text = http_requester.get_main_txt(soup)\n",
    "\n",
    "# Affichage \n",
    "print(f\"Title: {title}\")\n",
    "print(f\"H1: {h1_list}\")\n",
    "print(f\"Images: {img_list}\")\n",
    "print(f\"Links: {link_list}\")\n",
    "print(f\"Main Text: {remove_superfluous_spaces(main_text)}\")\n"
   ]
  },
  {
   "cell_type": "markdown",
   "metadata": {},
   "source": [
    "# Exploitation des appels d'API\n"
   ]
  },
  {
   "cell_type": "markdown",
   "metadata": {},
   "source": [
    "\n",
    "Losque le front du site récupère des données sur une API gérée par le back, un appel d'API est réalisé. Cet appel est recensé dans les appels réseaux. Il est alors possible de re-jouer cet appel pour récupérer à nouveau les données. Il est très facile de récupérer ces appels dans l'onglet Network de la console développeur de Chrome ou FireFox. La console vous permet de copier le code CURL de la requête et vous pouvez ensuite la transformer en code Python depuis le site https://curl.trillworks.com/.\n",
    "\n",
    "Souvent les APIs sont bloquées avec certains paramètres. L'API vérifie que dans les headers de la requête HTTP ces paramètres sont présents :\n",
    "* un token généré à la volée avec des protocoles OAuth2 (ou moins développés).\n",
    "* un referer provenant du site web (la source de la requête), très facile à falsifier.\n",
    "\n"
   ]
  },
  {
   "cell_type": "markdown",
   "metadata": {},
   "source": [
    "## Exercice \n",
    "### Exercice 4\n",
    "\n",
    "- Utiliser les informations développées plus haut pour récupérer les premiers résultats d'une recherche d'une requête\n",
    "sur Google. \n",
    "\n",
    "Tips : \n",
    "\n",
    "- Ouvrir les outils de développements de Chrome ou Firefox\n",
    "- Onglet Network\n",
    "- Fouiller dans les requêtes pour voir à quoi ressemble un appel API Google\n",
    "- Utilisez beautiful soup pour convertir le contenu de la request en objet et accéder aux balises"
   ]
  },
  {
   "cell_type": "code",
   "execution_count": 74,
   "metadata": {},
   "outputs": [
    {
     "name": "stdout",
     "output_type": "stream",
     "text": [
      "Requête réussie !\n"
     ]
    }
   ],
   "source": [
    "\n",
    "url = \"https://www.google.com/search?q=big+data\"\n",
    "\n",
    "headers = {\n",
    "    \"User-Agent\": \"Mozilla/5.0 (Windows NT 10.0; Win64; x64) AppleWebKit/537.36 (KHTML, like Gecko) Chrome/91.0.4472.124 Safari/537.36\"\n",
    "}\n",
    "\n",
    "\n",
    "response = requests.get(url, headers=headers)\n",
    "\n",
    "\n",
    "if response.status_code == 200:\n",
    "    print(\"Requête réussie !\")\n",
    "    \n",
    "    # Parser le contenu de la page avec BeautifulSoup\n",
    "    soup = BeautifulSoup(response.text, \"html.parser\")\n",
    "    \n",
    "    # Trouver tous les titres des résultats de recherche (souvent dans des <h3>)\n",
    "    results = soup.find_all('h3')\n",
    "\n",
    "\n",
    "    for i, result in enumerate(results, 1):\n",
    "        print(f\"{i}. {result.get_text()}\")"
   ]
  },
  {
   "cell_type": "markdown",
   "metadata": {},
   "source": [
    "# Exercice Final  "
   ]
  },
  {
   "cell_type": "markdown",
   "metadata": {},
   "source": [
    "Exercice Final\n",
    "Utilisez tout ce que vous avez appris pour récupérer des articles de News avec une catégorie. Il est souvent intéressant de partir des flux RSS pour commencer :\n",
    "\n",
    "Les données doivent comprendre :\n",
    "- Le texte important propre\n",
    "- L'url\n",
    "- Le domaine\n",
    "- la catégorie\n",
    "- Le titre de l'article\n",
    "- Le titre de la page\n",
    "- (Facultatif) : les images\n",
    "\n",
    "Tips : \n",
    "\n",
    "- Taper le nom de votre média favoris + RSS (par exemple : https://www.lemonde.fr/rss/)\n",
    "- Aller dans le DOM de la page \n",
    "- Trouver les catégories et les liens vers les articles"
   ]
  },
  {
   "cell_type": "code",
   "execution_count": 81,
   "metadata": {},
   "outputs": [
    {
     "name": "stdout",
     "output_type": "stream",
     "text": [
      "Titre : Open d’Australie : Jannik Sinner qualifié, Iga Swiatek épargnée par l’AMA\n",
      "Categorie : No Category\n",
      "URL : https://www.lemonde.fr/sport/article/2025/01/20/open-d-australie-l-italien-jannik-sinner-tenant-du-titre-se-qualifie-pour-les-quarts-de-finale_6506596_3242.html\n",
      "Domaine : www.lemonde.fr\n",
      "Texte : Consulterle journal BYD Sealion, la voiture de Big Brother « Le pouvoir des géants de la tech érode la démocratie » Crise politique, consommation en berne, hausse du chômage : « La Corée du Sud a plus\n",
      "Titre de la page : Open d’Australie : Jannik Sinner qualifié, comme Iga Swiatek, épargnée par l’Agence mondiale antidopage\n",
      "Titre : Comment le gouvernement Bayrou compte économiser des milliards d’euros grâce à la loi spéciale\n",
      "Categorie : No Category\n",
      "URL : https://www.lemonde.fr/politique/article/2025/01/20/finances-publiques-comment-l-etat-compte-economiser-des-milliards-d-euros-grace-a-la-loi-speciale_6506385_823448.html\n",
      "Domaine : www.lemonde.fr\n",
      "Texte : Consulterle journal BYD Sealion, la voiture de Big Brother « Le pouvoir des géants de la tech érode la démocratie » Crise politique, consommation en berne, hausse du chômage : « La Corée du Sud a plus\n",
      "Titre de la page : Comment le gouvernement Bayrou compte économiser des milliards d’euros grâce à la loi spéciale\n",
      "Titre : Emmanuel Macron propose Philippe Pascal comme PDG de Groupe ADP\n",
      "Categorie : No Category\n",
      "URL : https://www.lemonde.fr/economie/article/2025/01/20/emmanuel-macron-propose-philippe-pascal-comme-pdg-de-groupe-adp_6506709_3234.html\n",
      "Domaine : www.lemonde.fr\n",
      "Texte : Consulterle journal BYD Sealion, la voiture de Big Brother « Le pouvoir des géants de la tech érode la démocratie » Crise politique, consommation en berne, hausse du chômage : « La Corée du Sud a plus\n",
      "Titre de la page : Emmanuel Macron propose Philippe Pascal comme PDG de Groupe ADP\n",
      "Titre : Gaël Monfils abandonne en huitièmes de finale de l’Open d’Australie\n",
      "Categorie : No Category\n",
      "URL : https://www.lemonde.fr/sport/article/2025/01/20/open-d-australie-fin-de-parcours-pour-gael-monfils-qui-jette-l-eponge-en-huitiemes-de-finale-face-a-ben-shelton_6506704_3242.html\n",
      "Domaine : www.lemonde.fr\n",
      "Texte : Consulterle journal BYD Sealion, la voiture de Big Brother « Le pouvoir des géants de la tech érode la démocratie » Crise politique, consommation en berne, hausse du chômage : « La Corée du Sud a plus\n",
      "Titre de la page : Gaël Monfils abandonne en huitièmes de finale de l’Open d’Australie\n",
      "Titre : La Commission européenne approuve la trajectoire budgétaire de la France, décision du Conseil mardi\n",
      "Categorie : No Category\n",
      "URL : https://www.lemonde.fr/international/article/2025/01/20/la-commission-europeenne-approuve-la-trajectoire-budgetaire-de-la-france-decision-du-conseil-mardi_6506702_3210.html\n",
      "Domaine : www.lemonde.fr\n",
      "Texte : Consulterle journal BYD Sealion, la voiture de Big Brother « Le pouvoir des géants de la tech érode la démocratie » Crise politique, consommation en berne, hausse du chômage : « La Corée du Sud a plus\n",
      "Titre de la page : La Commission européenne approuve la trajectoire budgétaire de la France, décision du Conseil mardi\n",
      "Titre : En direct, cessez-le-feu dans la bande de Gaza : 90 prisonniers palestiniens, surtout des femmes et des mineurs, ont été relâchés après la libération de trois otages israéliennes\n",
      "Categorie : No Category\n",
      "URL : https://www.lemonde.fr/international/live/2025/01/20/en-direct-cessez-le-feu-dans-la-bande-de-gaza-90-prisonniers-palestiniens-surtout-des-femmes-et-des-mineurs-ont-ete-liberes_6499811_3210.html\n",
      "Domaine : www.lemonde.fr\n",
      "Texte : Consulterle journal BYD Sealion, la voiture de Big Brother « Le pouvoir des géants de la tech érode la démocratie » Crise politique, consommation en berne, hausse du chômage : « La Corée du Sud a plus\n",
      "Titre de la page : En direct, cessez-le-feu dans la bande de Gaza : 90 prisonniers palestiniens, surtout des femmes et des mineurs, ont été relâchés après la libération de trois otages israéliennes\n",
      "Titre : Des femmes plus « féministes » et des hommes plus « masculinistes » : le HCE relève une « polarisation » croissante, notamment chez les jeunes\n",
      "Categorie : No Category\n",
      "URL : https://www.lemonde.fr/societe/article/2025/01/20/sexisme-le-haut-conseil-a-l-egalite-releve-une-polarisation-croissante-notamment-chez-les-jeunes_6506667_3224.html\n",
      "Domaine : www.lemonde.fr\n",
      "Texte : Consulterle journal BYD Sealion, la voiture de Big Brother « Le pouvoir des géants de la tech érode la démocratie » Crise politique, consommation en berne, hausse du chômage : « La Corée du Sud a plus\n",
      "Titre de la page : Des femmes plus « féministes » et des hommes plus « masculinistes » : le HCE relève une « polarisation » croissante, notamment chez les jeunes\n",
      "Titre : En direct, investiture de Donald Trump : quelles seront ses premières décisions ? Posez vos questions à Gilles Paris, éditorialiste au « Monde »\n",
      "Categorie : No Category\n",
      "URL : https://www.lemonde.fr/international/live/2025/01/20/en-direct-investiture-de-donald-trump-le-republicain-s-apprete-a-preter-serment-et-devenir-le-47-president-des-etats-unis_6506664_3210.html\n",
      "Domaine : www.lemonde.fr\n",
      "Texte : Consulterle journal BYD Sealion, la voiture de Big Brother « Le pouvoir des géants de la tech érode la démocratie » Crise politique, consommation en berne, hausse du chômage : « La Corée du Sud a plus\n",
      "Titre de la page : En direct, investiture de Donald Trump : quelles seront ses premières décisions ? Posez vos questions à Gilles Paris, éditorialiste au « Monde »\n",
      "Titre : Le sénateur écologiste Yannick Jadot annonce sa candidature à la Mairie de Paris en 2026 \n",
      "Categorie : No Category\n",
      "URL : https://www.lemonde.fr/politique/article/2025/01/20/l-ecologiste-yannick-jadot-annonce-sa-candidature-a-la-mairie-de-paris-en-2026_6506662_823448.html\n",
      "Domaine : www.lemonde.fr\n",
      "Texte : Consulterle journal BYD Sealion, la voiture de Big Brother « Le pouvoir des géants de la tech érode la démocratie » Crise politique, consommation en berne, hausse du chômage : « La Corée du Sud a plus\n",
      "Titre de la page : L’écologiste Yannick Jadot annonce sa candidature à la Mairie de Paris en 2026\n",
      "Titre : Devant des partisans euphoriques, Donald Trump a donné le ton de son mandat lors de son « meeting de la victoire » à Washington\n",
      "Categorie : No Category\n",
      "URL : https://www.lemonde.fr/international/article/2025/01/20/a-washington-donald-trump-redouble-de-promesses-devant-ses-partisans-euphoriques_6506179_3210.html\n",
      "Domaine : www.lemonde.fr\n",
      "Texte : Consulterle journal BYD Sealion, la voiture de Big Brother « Le pouvoir des géants de la tech érode la démocratie » Crise politique, consommation en berne, hausse du chômage : « La Corée du Sud a plus\n",
      "Titre de la page : Avant son investiture, Donald Trump a donné le ton lors de son « meeting de la victoire » à Washington\n",
      "Titre : En direct, guerre en Ukraine : les dernières informations\n",
      "Categorie : No Category\n",
      "URL : https://www.lemonde.fr/international/live/2025/01/20/en-direct-guerre-en-ukraine-les-dernieres-informations_6504903_3210.html\n",
      "Domaine : www.lemonde.fr\n",
      "Texte : Consulterle journal BYD Sealion, la voiture de Big Brother « Le pouvoir des géants de la tech érode la démocratie » Crise politique, consommation en berne, hausse du chômage : « La Corée du Sud a plus\n",
      "Titre de la page : En direct, guerre en Ukraine : les dernières informations\n",
      "Titre : En Chine, le conducteur d’une attaque à la voiture bélier qui avait fait 35 morts a été exécuté\n",
      "Categorie : No Category\n",
      "URL : https://www.lemonde.fr/international/article/2025/01/20/en-chine-le-conducteur-d-une-attaque-a-la-voiture-belier-qui-avait-fait-35-morts-a-ete-execute_6506529_3210.html\n",
      "Domaine : www.lemonde.fr\n",
      "Texte : Consulterle journal BYD Sealion, la voiture de Big Brother « Le pouvoir des géants de la tech érode la démocratie » Crise politique, consommation en berne, hausse du chômage : « La Corée du Sud a plus\n",
      "Titre de la page : En Chine, le conducteur d’une attaque à la voiture bélier qui avait fait 35 morts a été exécuté\n",
      "Titre : « Blue Monday », le jour le plus déprimant de l’année qui n’est en réalité qu’un concept publicitaire\n",
      "Categorie : No Category\n",
      "URL : https://www.lemonde.fr/les-decodeurs/article/2025/01/20/blue-monday-le-jour-le-plus-deprimant-de-l-annee-qui-n-est-en-realite-qu-un-concept-publicitaire_6066661_4355771.html\n",
      "Domaine : www.lemonde.fr\n",
      "Texte : Consulterle journal BYD Sealion, la voiture de Big Brother « Le pouvoir des géants de la tech érode la démocratie » Crise politique, consommation en berne, hausse du chômage : « La Corée du Sud a plus\n",
      "Titre de la page : « Blue Monday », le jour le plus déprimant de l’année qui n’est en réalité qu’un concept publicitaire\n",
      "Titre : Mayotte : le projet de loi d’urgence pour l’archipel débattu à l’Assemblée nationale après le passage du cyclone Chido\n",
      "Categorie : No Category\n",
      "URL : https://www.lemonde.fr/outre-mer/article/2025/01/20/mayotte-le-projet-de-loi-d-urgence-pour-l-archipel-debattu-a-l-assemblee-nationale-apres-le-passage-du-cyclone-chido_6506495_1840826.html\n",
      "Domaine : www.lemonde.fr\n",
      "Texte : Consulterle journal BYD Sealion, la voiture de Big Brother « Le pouvoir des géants de la tech érode la démocratie » Crise politique, consommation en berne, hausse du chômage : « La Corée du Sud a plus\n",
      "Titre de la page : Mayotte : le projet de loi d’urgence pour l’archipel débattu à l’Assemblée nationale après le passage du cyclone Chido\n",
      "Titre : Sur la « place des otages » à Tel-Aviv, la joie et les craintes après la libération de trois jeunes israéliennes\n",
      "Categorie : No Category\n",
      "URL : https://www.lemonde.fr/international/article/2025/01/20/cessez-le-feu-israel-hamas-a-tel-aviv-le-soulagement-apres-la-liberation-de-trois-otages_6506423_3210.html\n",
      "Domaine : www.lemonde.fr\n",
      "Texte : Consulterle journal BYD Sealion, la voiture de Big Brother « Le pouvoir des géants de la tech érode la démocratie » Crise politique, consommation en berne, hausse du chômage : « La Corée du Sud a plus\n",
      "Titre de la page : Cessez-le-feu Israël-Hamas : la joie et le soulagement sur la « place des otages » à Tel-Aviv après la libération de trois jeunes femmes \n",
      "Titre : Avant l’investiture de Donald Trump, Keir Starmer loue les « fondations inébranlables » de l’alliance entre le Royaume-Uni et les Etats-Unis\n",
      "Categorie : No Category\n",
      "URL : https://www.lemonde.fr/international/article/2025/01/20/avant-l-investiture-de-donald-trump-keir-starmer-loue-les-fondations-inebranlables-de-l-alliance-entre-le-royaume-uni-et-les-etats-unis_6506419_3210.html\n",
      "Domaine : www.lemonde.fr\n",
      "Texte : Consulterle journal BYD Sealion, la voiture de Big Brother « Le pouvoir des géants de la tech érode la démocratie » Crise politique, consommation en berne, hausse du chômage : « La Corée du Sud a plus\n",
      "Titre de la page : Avant l’investiture de Donald Trump, Keir Starmer loue les « fondations inébranlables » de l’alliance entre le Royaume-Uni et les Etats-Unis\n",
      "Titre : Dans la bande de Gaza, le soulagement « de pouvoir vivre en paix » lors de la première journée de cessez-le-feu\n",
      "Categorie : No Category\n",
      "URL : https://www.lemonde.fr/international/article/2025/01/20/cessez-le-feu-israel-hamas-dans-la-bande-de-gaza-le-soulagement-de-pouvoir-vivre-en-paix_6506317_3210.html\n",
      "Domaine : www.lemonde.fr\n",
      "Texte : Consulterle journal BYD Sealion, la voiture de Big Brother « Le pouvoir des géants de la tech érode la démocratie » Crise politique, consommation en berne, hausse du chômage : « La Corée du Sud a plus\n",
      "Titre de la page : Après le cessez-le-feu, l’espoir de « pouvoir vivre en paix » dans la bande de Gaza\n",
      "Titre : La fuite d’un câble diplomatique très critique envers Donald Trump embarrasse l’Allemagne\n",
      "Categorie : No Category\n",
      "URL : https://www.lemonde.fr/international/article/2025/01/20/en-allemagne-la-fuite-d-un-cable-diplomatique-critique-envers-donald-trump-embarrasse-le-gouvernement_6506281_3210.html\n",
      "Domaine : www.lemonde.fr\n",
      "Texte : Consulterle journal BYD Sealion, la voiture de Big Brother « Le pouvoir des géants de la tech érode la démocratie » Crise politique, consommation en berne, hausse du chômage : « La Corée du Sud a plus\n",
      "Titre de la page : La fuite d’un câble diplomatique très critique envers Donald Trump embarrasse l’Allemagne\n",
      "Titre : Stream for Humanity réunit plus de 3,4 millions d’euros au profit de Médecins sans frontières\n",
      "Categorie : No Category\n",
      "URL : https://www.lemonde.fr/pixels/article/2025/01/20/stream-for-humanity-reunit-plus-de-3-4-millions-d-euros-au-profit-de-medecins-sans-frontieres_6506214_4408996.html\n",
      "Domaine : www.lemonde.fr\n",
      "Texte : Consulterle journal BYD Sealion, la voiture de Big Brother « Le pouvoir des géants de la tech érode la démocratie » Crise politique, consommation en berne, hausse du chômage : « La Corée du Sud a plus\n",
      "Titre de la page : Stream for Humanity réunit plus de 3,4 millions d’euros au profit de Médecins sans frontières\n",
      "Titre : L’OM tenu en respect à domicile par Strasbourg\n",
      "Categorie : No Category\n",
      "URL : https://www.lemonde.fr/sport/article/2025/01/20/ligue-1-l-om-tenu-en-respect-a-domicile-par-strasbourg_6506180_3242.html\n",
      "Domaine : www.lemonde.fr\n",
      "Texte : Consulterle journal BYD Sealion, la voiture de Big Brother « Le pouvoir des géants de la tech érode la démocratie » Crise politique, consommation en berne, hausse du chômage : « La Corée du Sud a plus\n",
      "Titre de la page : L’OM tenu en respect à domicile par Strasbourg\n",
      "Titre : Donald Trump promet d’agir « avec une force et une vitesse sans précédent », à la veille de son investiture\n",
      "Categorie : No Category\n",
      "URL : https://www.lemonde.fr/international/article/2025/01/20/donald-trump-promet-d-agir-avec-une-force-et-une-vitesse-sans-precedent-a-la-veille-de-son-investiture_6506113_3210.html\n",
      "Domaine : www.lemonde.fr\n",
      "Texte : Consulterle journal BYD Sealion, la voiture de Big Brother « Le pouvoir des géants de la tech érode la démocratie » Crise politique, consommation en berne, hausse du chômage : « La Corée du Sud a plus\n",
      "Titre de la page : Donald Trump promet d’agir « avec une force et une vitesse sans précédent », à la veille de son investiture\n",
      "Titre : La candidate macroniste Camille Galliard-Minier remporte largement la législative partielle en Isère face à son rival LFI, Lyes Louffok\n",
      "Categorie : No Category\n",
      "URL : https://www.lemonde.fr/politique/article/2025/01/19/legislative-partielle-en-isere-lfi-annonce-la-defaite-de-son-candidat-lyes-louffok-face-a-la-candidate-macroniste-camille-galliard-minier_6506080_823448.html\n",
      "Domaine : www.lemonde.fr\n",
      "Texte : Consulterle journal BYD Sealion, la voiture de Big Brother « Le pouvoir des géants de la tech érode la démocratie » Crise politique, consommation en berne, hausse du chômage : « La Corée du Sud a plus\n",
      "Titre de la page : La candidate macroniste Camille Galliard-Minier remporte largement la législative partielle en Isère face à son rival LFI, Lyes Louffok\n",
      "Titre : Les incendies à Los Angeles ne sont pas encore totalement maîtrisés alors que des vents très forts sont prévus lundi\n",
      "Categorie : No Category\n",
      "URL : https://www.lemonde.fr/planete/article/2025/01/19/incendies-a-los-angeles-des-vents-forts-attendus-lundi_6506047_3244.html\n",
      "Domaine : www.lemonde.fr\n",
      "Texte : Consulterle journal BYD Sealion, la voiture de Big Brother « Le pouvoir des géants de la tech érode la démocratie » Crise politique, consommation en berne, hausse du chômage : « La Corée du Sud a plus\n",
      "Titre de la page : Les incendies à Los Angeles ne sont pas encore totalement maîtrisés alors que des vents très forts sont prévus lundi\n",
      "Titre : Avant l’investiture de Donald Trump, Joe Biden exhorte les Américains à garder « la foi »\n",
      "Categorie : No Category\n",
      "URL : https://www.lemonde.fr/international/article/2025/01/19/avant-l-investiture-de-donald-trump-joe-biden-exhorte-les-americains-a-garder-la-foi_6506046_3210.html\n",
      "Domaine : www.lemonde.fr\n",
      "Texte : Consulterle journal BYD Sealion, la voiture de Big Brother « Le pouvoir des géants de la tech érode la démocratie » Crise politique, consommation en berne, hausse du chômage : « La Corée du Sud a plus\n",
      "Titre de la page : Avant l’investiture de Donald Trump, Joe Biden exhorte les Américains à garder « la foi »\n",
      "Titre : Chez Trump, le pouvoir en famille\n",
      "Categorie : No Category\n",
      "URL : https://www.lemonde.fr/m-le-mag/article/2025/01/19/chez-trump-le-pouvoir-en-famille_6505841_4500055.html\n",
      "Domaine : www.lemonde.fr\n",
      "Texte : Consulterle journal BYD Sealion, la voiture de Big Brother « Le pouvoir des géants de la tech érode la démocratie » Crise politique, consommation en berne, hausse du chômage : « La Corée du Sud a plus\n",
      "Titre de la page : Chez Trump, le pouvoir en famille\n",
      "Titre : Football : Manchester City étrille Ipswich avant de retrouver le Paris Saint-Germain en Ligue des champions\n",
      "Categorie : No Category\n",
      "URL : https://www.lemonde.fr/sport/article/2025/01/19/football-manchester-city-etrille-ipswich-avant-de-retrouver-le-paris-saint-germain-en-ligue-des-champions_6505944_3242.html\n",
      "Domaine : www.lemonde.fr\n",
      "Texte : Consulterle journal BYD Sealion, la voiture de Big Brother « Le pouvoir des géants de la tech érode la démocratie » Crise politique, consommation en berne, hausse du chômage : « La Corée du Sud a plus\n",
      "Titre de la page : Football : Manchester City étrille Ipswich avant de retrouver le Paris Saint-Germain en Ligue des champions\n",
      "Titre : Iran : le rappeur Amir Tataloo condamné à mort, selon un média local\n",
      "Categorie : No Category\n",
      "URL : https://www.lemonde.fr/international/article/2025/01/19/iran-le-rappeur-amir-tataloo-condamne-a-mort-selon-un-media-local_6505909_3210.html\n",
      "Domaine : www.lemonde.fr\n",
      "Texte : Consulterle journal BYD Sealion, la voiture de Big Brother « Le pouvoir des géants de la tech érode la démocratie » Crise politique, consommation en berne, hausse du chômage : « La Corée du Sud a plus\n",
      "Titre de la page : Iran : le rappeur Amir Tataloo condamné à mort, selon un média local\n",
      "Titre : TikTok annonce que l’accès à son application va être rétabli aux Etats-Unis à la suite de garanties données par Donald Trump \n",
      "Categorie : No Category\n",
      "URL : https://www.lemonde.fr/pixels/article/2025/01/19/tiktok-inaccessible-aux-etats-unis-donald-trump-compte-reporter-l-interdiction-et-souhaite-un-actionnariat-a-moitie-americain_6504757_4408997.html\n",
      "Domaine : www.lemonde.fr\n",
      "Texte : Consulterle journal BYD Sealion, la voiture de Big Brother « Le pouvoir des géants de la tech érode la démocratie » Crise politique, consommation en berne, hausse du chômage : « La Corée du Sud a plus\n",
      "Titre de la page : TikTok annonce que l’accès à son application va être rétabli aux Etats-Unis à la suite de garanties données par Donald Trump\n",
      "Titre : Ce qu’il ne fallait pas manquer de l’actualité ce week-end : début de la trêve dans la bande de Gaza, TikTok suspendu puis rétabli aux Etats-Unis…\n",
      "Categorie : No Category\n",
      "URL : https://www.lemonde.fr/les-decodeurs/article/2025/01/19/ce-qu-il-ne-fallait-pas-manquer-de-l-actualite-ce-week-end-debut-de-la-treve-dans-la-bande-de-gaza-tiktok-inaccessible-aux-etats-unis_6505806_4355770.html\n",
      "Domaine : www.lemonde.fr\n",
      "Texte : Consulterle journal BYD Sealion, la voiture de Big Brother « Le pouvoir des géants de la tech érode la démocratie » Crise politique, consommation en berne, hausse du chômage : « La Corée du Sud a plus\n",
      "Titre de la page : Ce qu’il ne fallait pas manquer de l’actualité ce week-end : début de la trêve dans la bande de Gaza, TikTok suspendu puis rétabli aux Etats-Unis…\n",
      "Titre : En plein conflit d’intérêts, Trump débute son mandat en vendant des cryptomonnaies à son effigie\n",
      "Categorie : No Category\n",
      "URL : https://www.lemonde.fr/international/article/2025/01/19/en-plein-conflit-d-interets-trump-debute-son-mandat-en-vendant-des-cryptomonnaies-a-son-effigie_6505740_3210.html\n",
      "Domaine : www.lemonde.fr\n",
      "Texte : Consulterle journal BYD Sealion, la voiture de Big Brother « Le pouvoir des géants de la tech érode la démocratie » Crise politique, consommation en berne, hausse du chômage : « La Corée du Sud a plus\n",
      "Titre de la page : En plein conflit d’intérêts, Donald Trump commence son mandat en vendant des cryptomonnaies à son effigie\n",
      "Titre : De la Bretagne aux Alpes, ces maires qui peinent à assurer leur commune\n",
      "Categorie : No Category\n",
      "URL : https://www.lemonde.fr/economie/article/2025/01/19/de-la-bretagne-aux-alpes-ces-maires-qui-peinent-a-assurer-leur-commune_6504791_3234.html\n",
      "Domaine : www.lemonde.fr\n",
      "Texte : Consulterle journal BYD Sealion, la voiture de Big Brother « Le pouvoir des géants de la tech érode la démocratie » Crise politique, consommation en berne, hausse du chômage : « La Corée du Sud a plus\n",
      "Titre de la page : De la Bretagne aux Alpes, ces maires qui peinent à assurer leur commune\n",
      "Titre : A Mâcon, une nuit de violences urbaines sur fond de trafic de drogue\n",
      "Categorie : No Category\n",
      "URL : https://www.lemonde.fr/societe/article/2025/01/19/a-macon-une-nuit-de-violences-urbaines-sur-fond-de-trafic-de-drogue_6505606_3224.html\n",
      "Domaine : www.lemonde.fr\n",
      "Texte : Consulterle journal BYD Sealion, la voiture de Big Brother « Le pouvoir des géants de la tech érode la démocratie » Crise politique, consommation en berne, hausse du chômage : « La Corée du Sud a plus\n",
      "Titre de la page : A Mâcon, une nuit de violences urbaines sur fond de trafic de drogue\n",
      "Titre : Le protectionnisme, une histoire politique des Etats-Unis, de George Washington à Donald Trump\n",
      "Categorie : No Category\n",
      "URL : https://www.lemonde.fr/idees/article/2025/01/19/le-protectionnisme-une-histoire-politique-des-etats-unis-de-george-washington-a-donald-trump_6504792_3232.html\n",
      "Domaine : www.lemonde.fr\n",
      "Texte : BYD Sealion, la voiture de Big Brother « Le pouvoir des géants de la tech érode la démocratie » Crise politique, consommation en berne, hausse du chômage : « La Corée du Sud a plus de sujets d’inquiét\n",
      "Titre de la page : Le protectionnisme, une histoire politique des Etats-Unis, de George Washington à Donald Trump\n",
      "Titre : Bruno Retailleau annonce que le gouvernement « touchera » à l’aide médicale d’Etat\n",
      "Categorie : No Category\n",
      "URL : https://www.lemonde.fr/politique/article/2025/01/19/bruno-retailleau-annonce-que-le-gouvernement-touchera-a-l-aide-medicale-d-etat_6505507_823448.html\n",
      "Domaine : www.lemonde.fr\n",
      "Texte : Consulterle journal BYD Sealion, la voiture de Big Brother « Le pouvoir des géants de la tech érode la démocratie » Crise politique, consommation en berne, hausse du chômage : « La Corée du Sud a plus\n",
      "Titre de la page : Bruno Retailleau annonce que le gouvernement « touchera » à l’aide médicale d’Etat\n",
      "Titre : En Colombie, les affrontements impliquant l’ELN font plus de 80 morts, selon les autorités\n",
      "Categorie : No Category\n",
      "URL : https://www.lemonde.fr/international/article/2025/01/19/en-colombie-les-affrontements-impliquant-l-eln-font-au-moins-60-morts-selon-les-autorites_6505440_3210.html\n",
      "Domaine : www.lemonde.fr\n",
      "Texte : Consulterle journal BYD Sealion, la voiture de Big Brother « Le pouvoir des géants de la tech érode la démocratie » Crise politique, consommation en berne, hausse du chômage : « La Corée du Sud a plus\n",
      "Titre de la page : En Colombie, les affrontements impliquant l’ELN font plus de 80 morts, selon les autorités\n",
      "Titre : Tribune | Fusionner le Canada avec les Etats-Unis ? Le voeu de Trump pourrait avoir des effets politiques et linguistiques étonnants\n",
      "Categorie : No Category\n",
      "URL : https://www.lemonde.fr/idees/article/2025/01/19/le-canada-s-il-etait-le-51-etat-americain-deviendrait-de-tres-loin-le-plus-puissant-de-la-federation_6505102_3232.html\n",
      "Domaine : www.lemonde.fr\n",
      "Texte : Consulterle journal BYD Sealion, la voiture de Big Brother « Le pouvoir des géants de la tech érode la démocratie » Crise politique, consommation en berne, hausse du chômage : « La Corée du Sud a plus\n",
      "Titre de la page : « Le Canada, s’il était le 51ᵉ Etat américain,  deviendrait de très loin le plus puissant de la fédération »\n",
      "Titre : « Le Parti socialiste n’est plus un partenaire » de La France insoumise, estime Jean-Luc Mélenchon\n",
      "Categorie : No Category\n",
      "URL : https://www.lemonde.fr/politique/article/2025/01/19/jean-luc-melenchon-estime-que-le-parti-socialiste-n-est-plus-un-partenaire-de-la-france-insoumise_6505371_823448.html\n",
      "Domaine : www.lemonde.fr\n",
      "Texte : Consulterle journal BYD Sealion, la voiture de Big Brother « Le pouvoir des géants de la tech érode la démocratie » Crise politique, consommation en berne, hausse du chômage : « La Corée du Sud a plus\n",
      "Titre de la page : Jean-Luc Mélenchon estime que « le Parti socialiste n’est plus un partenaire » de La France insoumise\n",
      "Titre : Open d’Australie : Ugo Humbert éliminé avec les honneurs face à Alexander Zverev\n",
      "Categorie : No Category\n",
      "URL : https://www.lemonde.fr/sport/article/2025/01/19/open-d-australie-ugo-humbert-elimine-avec-les-honneurs-face-a-alexander-zverev_6505303_3242.html\n",
      "Domaine : www.lemonde.fr\n",
      "Texte : Consulterle journal BYD Sealion, la voiture de Big Brother « Le pouvoir des géants de la tech érode la démocratie » Crise politique, consommation en berne, hausse du chômage : « La Corée du Sud a plus\n",
      "Titre de la page : Open d’Australie : Ugo Humbert éliminé avec les honneurs face à Alexander Zverev\n",
      "Titre : La France peut-elle être touchée par des mégafeux urbains comme à Los Angeles ?\n",
      "Categorie : No Category\n",
      "URL : https://www.lemonde.fr/planete/article/2025/01/19/la-france-peut-elle-etre-touchee-par-des-megafeux-comme-a-los-angeles_6504869_3244.html\n",
      "Domaine : www.lemonde.fr\n",
      "Texte : Consulterle journal BYD Sealion, la voiture de Big Brother « Le pouvoir des géants de la tech érode la démocratie » Crise politique, consommation en berne, hausse du chômage : « La Corée du Sud a plus\n",
      "Titre de la page : La France peut-elle être touchée par des mégafeux urbains comme à Los Angeles ?\n",
      "Titre : Quelle équipe avec Donald Trump ? Pour son retour à la Maison Blanche, le président élu s’est entouré de fidèles décidés à mener des politiques de rupture\n",
      "Categorie : No Category\n",
      "URL : https://www.lemonde.fr/international/article/2025/01/19/autour-de-donald-trump-une-equipe-de-proches-loyaux-et-determines-a-marquer-une-rupture-historique_6504834_3210.html\n",
      "Domaine : www.lemonde.fr\n",
      "Texte : BYD Sealion, la voiture de Big Brother « Le pouvoir des géants de la tech érode la démocratie » Crise politique, consommation en berne, hausse du chômage : « La Corée du Sud a plus de sujets d’inquiét\n",
      "Titre de la page : Autour de Donald Trump, une équipe de proches loyaux et déterminés à marquer une rupture historique\n",
      "Titre : Open d’Australie : Aryna Sabalenka poursuit la défense de son titre en atteignant sans trembler les quarts de finale\n",
      "Categorie : No Category\n",
      "URL : https://www.lemonde.fr/sport/article/2025/01/19/open-d-australie-aryna-sabalenka-poursuit-la-defense-de-son-titre-en-atteignant-sans-trembler-les-quarts-de-finale_6504654_3242.html\n",
      "Domaine : www.lemonde.fr\n",
      "Texte : Consulterle journal BYD Sealion, la voiture de Big Brother « Le pouvoir des géants de la tech érode la démocratie » Crise politique, consommation en berne, hausse du chômage : « La Corée du Sud a plus\n",
      "Titre de la page : Open d’Australie : Aryna Sabalenka poursuit la défense de son titre en atteignant sans trembler les quarts de finale\n",
      "Titre : Après la non-censure du gouvernement, François Hollande considère que les socialistes « constituent le pôle central » de l’Assemblée nationale\n",
      "Categorie : No Category\n",
      "URL : https://www.lemonde.fr/politique/article/2025/01/19/apres-la-non-censure-du-gouvernement-francois-hollande-considere-que-les-socialistes-constituent-le-pole-central-de-l-assemblee-nationale_6504621_823448.html\n",
      "Domaine : www.lemonde.fr\n",
      "Texte : Consulterle journal BYD Sealion, la voiture de Big Brother « Le pouvoir des géants de la tech érode la démocratie » Crise politique, consommation en berne, hausse du chômage : « La Corée du Sud a plus\n",
      "Titre de la page : Après la non-censure du gouvernement, François Hollande considère que les socialistes « constituent le pôle central » de l’Assemblée nationale\n",
      "Titre : Guerre en Ukraine : outre l’attaque russe sur Kiev qui a tué trois personnes, d’autres frappes sur l’Ukraine ont fait trois morts\n",
      "Categorie : No Category\n",
      "URL : https://www.lemonde.fr/international/live/2025/01/18/en-direct-guerre-en-ukraine-outre-l-attaque-russe-sur-kiev-qui-a-tue-trois-personnes-d-autres-frappes-sur-l-ukraine-ont-fait-trois-morts_6493773_3210.html\n",
      "Domaine : www.lemonde.fr\n",
      "Texte : Consulterle journal BYD Sealion, la voiture de Big Brother « Le pouvoir des géants de la tech érode la démocratie » Crise politique, consommation en berne, hausse du chômage : « La Corée du Sud a plus\n",
      "Titre de la page : Guerre en Ukraine : outre l’attaque russe sur Kiev qui a tué trois personnes, d’autres frappes sur l’Ukraine ont fait trois morts\n",
      "Titre : Corée du Sud : la détention du président prolongée, des manifestants pénètrent dans le tribunal\n",
      "Categorie : No Category\n",
      "URL : https://www.lemonde.fr/international/article/2025/01/18/coree-du-sud-la-detention-du-president-prolongee-des-manifestants-penetrent-dans-le-tribunal_6504588_3210.html\n",
      "Domaine : www.lemonde.fr\n",
      "Texte : Consulterle journal BYD Sealion, la voiture de Big Brother « Le pouvoir des géants de la tech érode la démocratie » Crise politique, consommation en berne, hausse du chômage : « La Corée du Sud a plus\n",
      "Titre de la page : Corée du Sud : la détention du président prolongée, des manifestants pénètrent dans le tribunal\n",
      "Titre : Espagne : changement surprise à la tête de Telefonica\n",
      "Categorie : No Category\n",
      "URL : https://www.lemonde.fr/economie/article/2025/01/18/espagne-changement-surprise-a-la-tete-de-telefonica_6504555_3234.html\n",
      "Domaine : www.lemonde.fr\n",
      "Texte : Consulterle journal BYD Sealion, la voiture de Big Brother « Le pouvoir des géants de la tech érode la démocratie » Crise politique, consommation en berne, hausse du chômage : « La Corée du Sud a plus\n",
      "Titre de la page : Espagne : changement surprise à la tête de Telefonica\n",
      "Titre : Ligue 1 : le PSG, Brest et Lille victorieux avant des matchs déterminants en Ligue des champions\n",
      "Categorie : No Category\n",
      "URL : https://www.lemonde.fr/sport/article/2025/01/18/ligue-1-le-psg-brest-et-lille-victorieux-avant-des-matchs-determinants-en-ligue-des-champions_6504522_3242.html\n",
      "Domaine : www.lemonde.fr\n",
      "Texte : Consulterle journal BYD Sealion, la voiture de Big Brother « Le pouvoir des géants de la tech érode la démocratie » Crise politique, consommation en berne, hausse du chômage : « La Corée du Sud a plus\n",
      "Titre de la page : Ligue 1 : le PSG, Brest et Lille victorieux avant des matchs déterminants en Ligue des champions\n",
      "Titre : Investiture de Donald Trump : les grandes manœuvres de Sarah Knafo pour se faire inviter avec Eric Zemmour\n",
      "Categorie : No Category\n",
      "URL : https://www.lemonde.fr/m-le-mag/article/2025/01/18/investiture-de-donald-trump-les-grandes-man-uvres-de-sarah-knafo-pour-se-faire-inviter-avec-eric-zemmour_6504318_4500055.html\n",
      "Domaine : www.lemonde.fr\n",
      "Texte : Consulterle journal BYD Sealion, la voiture de Big Brother « Le pouvoir des géants de la tech érode la démocratie » Crise politique, consommation en berne, hausse du chômage : « La Corée du Sud a plus\n",
      "Titre de la page : Investiture de Donald Trump : les grandes manœuvres de Sarah Knafo pour se faire inviter avec Eric Zemmour\n",
      "Titre : Des milliers de personnes manifestent contre Donald Trump à Washington, à deux jours de son investiture\n",
      "Categorie : No Category\n",
      "URL : https://www.lemonde.fr/international/article/2025/01/18/des-milliers-de-personnes-manifestent-contre-donald-trump-a-washington-a-deux-jours-de-son-investiture_6504421_3210.html\n",
      "Domaine : www.lemonde.fr\n",
      "Texte : Consulterle journal BYD Sealion, la voiture de Big Brother « Le pouvoir des géants de la tech érode la démocratie » Crise politique, consommation en berne, hausse du chômage : « La Corée du Sud a plus\n",
      "Titre de la page : Des milliers de personnes manifestent contre Donald Trump à Washington, à deux jours de son investiture\n",
      "Titre : Le vice-président de l’Assemblée nationale, Roland Lescure, quitte X, avec quelques autres personnalités politiques\n",
      "Categorie : No Category\n",
      "URL : https://www.lemonde.fr/pixels/article/2025/01/18/le-vice-president-de-l-assemblee-nationale-quitte-x-avec-quelques-autres-personnalites-politiques_6504355_4408996.html\n",
      "Domaine : www.lemonde.fr\n",
      "Texte : Consulterle journal BYD Sealion, la voiture de Big Brother « Le pouvoir des géants de la tech érode la démocratie » Crise politique, consommation en berne, hausse du chômage : « La Corée du Sud a plus\n",
      "Titre de la page : Le vice-président de l’Assemblée nationale, Roland Lescure, quitte X, avec quelques autres personnalités politiques\n",
      "Titre : Au Nigeria, 86 morts dans l’explosion d’un camion-citerne\n",
      "Categorie : No Category\n",
      "URL : https://www.lemonde.fr/afrique/article/2025/01/18/au-nigeria-au-moins-70-morts-dans-l-explosion-d-un-camion-citerne_6504354_3212.html\n",
      "Domaine : www.lemonde.fr\n",
      "Texte : Consulterle journal BYD Sealion, la voiture de Big Brother « Le pouvoir des géants de la tech érode la démocratie » Crise politique, consommation en berne, hausse du chômage : « La Corée du Sud a plus\n",
      "Titre de la page : Au Nigeria, 86 morts dans l’explosion d’un camion-citerne\n",
      "Titre : Enquête sur la face cachée des écoles privées hors Parcoursup : « Attention aux écoles qui jouent sur la peur des étudiants »\n",
      "Categorie : No Category\n",
      "URL : https://www.lemonde.fr/campus/article/2025/01/18/enquete-sur-la-face-cachee-des-ecoles-privees-c-est-clairement-un-trou-noir-on-ne-sait-pas-combien-d-ecoles-sont-concernees_6503603_4401467.html\n",
      "Domaine : www.lemonde.fr\n",
      "Texte : BYD Sealion, la voiture de Big Brother « Le pouvoir des géants de la tech érode la démocratie » Crise politique, consommation en berne, hausse du chômage : « La Corée du Sud a plus de sujets d’inquiét\n",
      "Titre de la page : Enquête sur la face cachée des écoles privées hors Parcoursup : « Attention aux écoles qui jouent sur la peur des étudiants »\n",
      "Titre : Espagne : l’effondrement d’un escalier dans un immeuble fragilisé par les inondations d’octobre dans la région de Valence fait un mort et un blessé\n",
      "Categorie : No Category\n",
      "URL : https://www.lemonde.fr/planete/article/2025/01/18/espagne-l-effondrement-d-un-escalier-dans-un-immeuble-fragilise-par-les-inondations-d-octobre-dans-la-region-de-valence-fait-un-mort-et-un-blesse_6504315_3244.html\n",
      "Domaine : www.lemonde.fr\n",
      "Texte : Consulterle journal BYD Sealion, la voiture de Big Brother « Le pouvoir des géants de la tech érode la démocratie » Crise politique, consommation en berne, hausse du chômage : « La Corée du Sud a plus\n",
      "Titre de la page : Espagne : l’effondrement d’un escalier dans un immeuble fragilisé par les inondations d’octobre dans la région de Valence fait un mort et un blessé\n",
      "Titre : Ski : nouvelle frayeur sur les pistes, le Français Blaise Giezendanner hélitreuillé après une lourde chute\n",
      "Categorie : No Category\n",
      "URL : https://www.lemonde.fr/sport/article/2025/01/18/ski-nouvelle-frayeur-sur-les-pistes-le-francais-blaise-giezendanner-helitreuille-apres-une-lourde-chute_6504312_3242.html\n",
      "Domaine : www.lemonde.fr\n",
      "Texte : Consulterle journal BYD Sealion, la voiture de Big Brother « Le pouvoir des géants de la tech érode la démocratie » Crise politique, consommation en berne, hausse du chômage : « La Corée du Sud a plus\n",
      "Titre de la page : Ski : nouvelle frayeur sur les pistes, le Français Blaise Giezendanner hélitreuillé après une lourde chute\n",
      "Titre : France-Algérie : une relation sur l’air de « Je t’aime, moi non plus »\n",
      "Categorie : No Category\n",
      "URL : https://www.lemonde.fr/afrique/article/2025/01/18/france-algerie-autopsie-d-une-desillusion_6503641_3212.html\n",
      "Domaine : www.lemonde.fr\n",
      "Texte : Consulterle journal BYD Sealion, la voiture de Big Brother « Le pouvoir des géants de la tech érode la démocratie » Crise politique, consommation en berne, hausse du chômage : « La Corée du Sud a plus\n",
      "Titre de la page : France-Algérie : autopsie d’une désillusion\n",
      "Titre : En Espagne, un accident de télésiège fait plus de 30 blessés, dont quatre gravement\n",
      "Categorie : No Category\n",
      "URL : https://www.lemonde.fr/international/article/2025/01/18/en-espagne-un-accident-de-telesiege-fait-plus-de-30-blesses-dont-plusieurs-tres-gravement_6504212_3210.html\n",
      "Domaine : www.lemonde.fr\n",
      "Texte : Consulterle journal BYD Sealion, la voiture de Big Brother « Le pouvoir des géants de la tech érode la démocratie » Crise politique, consommation en berne, hausse du chômage : « La Corée du Sud a plus\n",
      "Titre de la page : En Espagne, un accident de télésiège fait plus de 30 blessés, dont quatre gravement\n",
      "Titre : Vaccination contre la grippe : « Depuis que l’on dit que c’est pour éviter l’hospitalisation, voire la mort, ça marche mieux »\n",
      "Categorie : No Category\n",
      "URL : https://www.lemonde.fr/societe/article/2025/01/18/la-campagne-de-vaccination-contre-la-grippe-en-question-les-patients-meme-fragiles-se-sentent-proteges_6503535_3224.html\n",
      "Domaine : www.lemonde.fr\n",
      "Texte : Consulterle journal BYD Sealion, la voiture de Big Brother « Le pouvoir des géants de la tech érode la démocratie » Crise politique, consommation en berne, hausse du chômage : « La Corée du Sud a plus\n",
      "Titre de la page : Vaccination contre la grippe : « Depuis que l’on dit que c’est pour éviter l’hospitalisation, voire la mort, ça marche mieux »\n",
      "Titre : Rachida Dati : « La culture aura toute sa place au sommet sur l’IA à Paris »\n",
      "Categorie : No Category\n",
      "URL : https://www.lemonde.fr/economie/article/2025/01/18/rachida-dati-la-culture-aura-toute-sa-place-au-sommet-de-l-ia_6504142_3234.html\n",
      "Domaine : www.lemonde.fr\n",
      "Texte : Consulterle journal BYD Sealion, la voiture de Big Brother « Le pouvoir des géants de la tech érode la démocratie » Crise politique, consommation en berne, hausse du chômage : « La Corée du Sud a plus\n",
      "Titre de la page : Rachida Dati : « La culture aura toute sa place au sommet sur l’IA à Paris »\n",
      "Titre : Biathlon : le Norvégien Johannes Boe mettra un terme à sa carrière à la fin de la saison, sans attendre les JO 2026\n",
      "Categorie : No Category\n",
      "URL : https://www.lemonde.fr/sport/article/2025/01/18/biathlon-le-norvegien-johannes-boe-mettra-un-terme-a-sa-carriere-a-la-fin-de-la-saison-sans-attendre-les-jo-2026_6504105_3242.html\n",
      "Domaine : www.lemonde.fr\n",
      "Texte : Consulterle journal BYD Sealion, la voiture de Big Brother « Le pouvoir des géants de la tech érode la démocratie » Crise politique, consommation en berne, hausse du chômage : « La Corée du Sud a plus\n",
      "Titre de la page : Biathlon : le Norvégien Johannes Boe mettra un terme à sa carrière à la fin de la saison, sans attendre les JO 2026\n",
      "Titre : Près de Rouen, l’effondrement d’une terrasse fait onze blessés, dont un gravement\n",
      "Categorie : No Category\n",
      "URL : https://www.lemonde.fr/societe/article/2025/01/18/l-effondrement-d-une-terrasse-pres-de-rouen-fait-onze-blesses-dont-un-gravement_6504104_3224.html\n",
      "Domaine : www.lemonde.fr\n",
      "Texte : Consulterle journal BYD Sealion, la voiture de Big Brother « Le pouvoir des géants de la tech érode la démocratie » Crise politique, consommation en berne, hausse du chômage : « La Corée du Sud a plus\n",
      "Titre de la page : Près de Rouen, l’effondrement d’une terrasse fait onze blessés, dont un gravement\n",
      "Titre : Pavel Durov, le fondateur de Telegram, défend l’application de messagerie face aux accusations de complicité criminelle\n",
      "Categorie : No Category\n",
      "URL : https://www.lemonde.fr/pixels/article/2025/01/18/pavel-durov-defend-telegram-face-aux-accusations-de-complicite-criminelle_6504069_4408996.html\n",
      "Domaine : www.lemonde.fr\n",
      "Texte : Consulterle journal BYD Sealion, la voiture de Big Brother « Le pouvoir des géants de la tech érode la démocratie » Crise politique, consommation en berne, hausse du chômage : « La Corée du Sud a plus\n",
      "Titre de la page : Pavel Durov, le fondateur de Telegram, défend l’application de messagerie face aux accusations de complicité criminelle\n"
     ]
    }
   ],
   "source": [
    "import xml.etree.ElementTree as ET\n",
    "\n",
    "def extract_article_content(url):\n",
    "    response = requests.get(url)\n",
    "    if response.status_code == 200:\n",
    "        soup = BeautifulSoup(response.text, 'html.parser')\n",
    "        paragraphs = soup.find_all('p')\n",
    "        article_text = ' '.join([para.get_text() for para in paragraphs])\n",
    "        page_title = soup.title.string if soup.title else 'No Title'\n",
    "        return article_text, page_title\n",
    "    else:\n",
    "        return None, None\n",
    "\n",
    "def get_news_from_rss(rss_url):\n",
    "    response = requests.get(rss_url)\n",
    "    if response.status_code != 200:\n",
    "        print(\"Erreur lors de la récupération du flux RSS\")\n",
    "        return []\n",
    "    \n",
    "    root = ET.fromstring(response.content)\n",
    "    articles = []\n",
    "    \n",
    "    for item in root.findall(\".//item\"):\n",
    "        article = {}\n",
    "        article['url'] = item.find('link').text\n",
    "        parsed_url = urlparse(article['url'])\n",
    "        article['domain'] = parsed_url.netloc\n",
    "        article['title'] = item.find('title').text\n",
    "        category_element = item.find('category')\n",
    "        article['category'] = category_element.text if category_element is not None else 'No Category'\n",
    "        article_text, page_title = extract_article_content(article['url'])\n",
    "        article['article_text'] = article_text\n",
    "        article['page_title'] = page_title\n",
    "        articles.append(article)\n",
    "    \n",
    "    return articles\n",
    "\n",
    "rss_url = 'https://www.lemonde.fr/rss/en_continu.xml'\n",
    "articles = get_news_from_rss(rss_url)\n",
    "for article in articles:\n",
    "    print(\"Titre :\", article['title'])\n",
    "    print(\"Categorie :\", article['category'])\n",
    "    print(\"URL :\", article['url'])\n",
    "    print(\"Domaine :\", article['domain'])\n",
    "    print(\"Texte :\", article['article_text'][:200])\n",
    "    print(\"Titre de la page :\", article['page_title'])\n"
   ]
  }
 ],
 "metadata": {
  "kernelspec": {
   "display_name": "Python 3",
   "language": "python",
   "name": "python3"
  },
  "language_info": {
   "codemirror_mode": {
    "name": "ipython",
    "version": 3
   },
   "file_extension": ".py",
   "mimetype": "text/x-python",
   "name": "python",
   "nbconvert_exporter": "python",
   "pygments_lexer": "ipython3",
   "version": "3.10.11"
  }
 },
 "nbformat": 4,
 "nbformat_minor": 2
}
